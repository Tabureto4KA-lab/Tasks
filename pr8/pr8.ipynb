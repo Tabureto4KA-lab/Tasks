{
 "cells": [
  {
   "cell_type": "code",
   "execution_count": 115,
   "metadata": {},
   "outputs": [],
   "source": [
    "import pandas as pd\n",
    "import matplotlib.pyplot as plt\n",
    "from fpgrowth_py import fpgrowth\n",
    "import time"
   ]
  },
  {
   "cell_type": "code",
   "execution_count": 116,
   "metadata": {},
   "outputs": [],
   "source": [
    "data = pd.read_csv('../common/Market_Basket_Optimisation.csv', sep = ',')"
   ]
  },
  {
   "cell_type": "code",
   "execution_count": 151,
   "metadata": {},
   "outputs": [
    {
     "data": {
      "text/html": [
       "<div>\n",
       "<style scoped>\n",
       "    .dataframe tbody tr th:only-of-type {\n",
       "        vertical-align: middle;\n",
       "    }\n",
       "\n",
       "    .dataframe tbody tr th {\n",
       "        vertical-align: top;\n",
       "    }\n",
       "\n",
       "    .dataframe thead th {\n",
       "        text-align: right;\n",
       "    }\n",
       "</style>\n",
       "<table border=\"1\" class=\"dataframe\">\n",
       "  <thead>\n",
       "    <tr style=\"text-align: right;\">\n",
       "      <th></th>\n",
       "      <th>shrimp</th>\n",
       "      <th>almonds</th>\n",
       "      <th>avocado</th>\n",
       "      <th>vegetables mix</th>\n",
       "      <th>green grapes</th>\n",
       "      <th>whole weat flour</th>\n",
       "      <th>yams</th>\n",
       "      <th>cottage cheese</th>\n",
       "      <th>energy drink</th>\n",
       "      <th>tomato juice</th>\n",
       "      <th>low fat yogurt</th>\n",
       "      <th>green tea</th>\n",
       "      <th>honey</th>\n",
       "      <th>salad</th>\n",
       "      <th>mineral water</th>\n",
       "      <th>salmon</th>\n",
       "      <th>antioxydant juice</th>\n",
       "      <th>frozen smoothie</th>\n",
       "      <th>spinach</th>\n",
       "      <th>olive oil</th>\n",
       "    </tr>\n",
       "  </thead>\n",
       "  <tbody>\n",
       "    <tr>\n",
       "      <th>0</th>\n",
       "      <td>burgers</td>\n",
       "      <td>meatballs</td>\n",
       "      <td>eggs</td>\n",
       "      <td>NaN</td>\n",
       "      <td>NaN</td>\n",
       "      <td>NaN</td>\n",
       "      <td>NaN</td>\n",
       "      <td>NaN</td>\n",
       "      <td>NaN</td>\n",
       "      <td>NaN</td>\n",
       "      <td>NaN</td>\n",
       "      <td>NaN</td>\n",
       "      <td>NaN</td>\n",
       "      <td>NaN</td>\n",
       "      <td>NaN</td>\n",
       "      <td>NaN</td>\n",
       "      <td>NaN</td>\n",
       "      <td>NaN</td>\n",
       "      <td>NaN</td>\n",
       "      <td>NaN</td>\n",
       "    </tr>\n",
       "    <tr>\n",
       "      <th>1</th>\n",
       "      <td>chutney</td>\n",
       "      <td>NaN</td>\n",
       "      <td>NaN</td>\n",
       "      <td>NaN</td>\n",
       "      <td>NaN</td>\n",
       "      <td>NaN</td>\n",
       "      <td>NaN</td>\n",
       "      <td>NaN</td>\n",
       "      <td>NaN</td>\n",
       "      <td>NaN</td>\n",
       "      <td>NaN</td>\n",
       "      <td>NaN</td>\n",
       "      <td>NaN</td>\n",
       "      <td>NaN</td>\n",
       "      <td>NaN</td>\n",
       "      <td>NaN</td>\n",
       "      <td>NaN</td>\n",
       "      <td>NaN</td>\n",
       "      <td>NaN</td>\n",
       "      <td>NaN</td>\n",
       "    </tr>\n",
       "    <tr>\n",
       "      <th>2</th>\n",
       "      <td>turkey</td>\n",
       "      <td>avocado</td>\n",
       "      <td>NaN</td>\n",
       "      <td>NaN</td>\n",
       "      <td>NaN</td>\n",
       "      <td>NaN</td>\n",
       "      <td>NaN</td>\n",
       "      <td>NaN</td>\n",
       "      <td>NaN</td>\n",
       "      <td>NaN</td>\n",
       "      <td>NaN</td>\n",
       "      <td>NaN</td>\n",
       "      <td>NaN</td>\n",
       "      <td>NaN</td>\n",
       "      <td>NaN</td>\n",
       "      <td>NaN</td>\n",
       "      <td>NaN</td>\n",
       "      <td>NaN</td>\n",
       "      <td>NaN</td>\n",
       "      <td>NaN</td>\n",
       "    </tr>\n",
       "    <tr>\n",
       "      <th>3</th>\n",
       "      <td>mineral water</td>\n",
       "      <td>milk</td>\n",
       "      <td>energy bar</td>\n",
       "      <td>whole wheat rice</td>\n",
       "      <td>green tea</td>\n",
       "      <td>NaN</td>\n",
       "      <td>NaN</td>\n",
       "      <td>NaN</td>\n",
       "      <td>NaN</td>\n",
       "      <td>NaN</td>\n",
       "      <td>NaN</td>\n",
       "      <td>NaN</td>\n",
       "      <td>NaN</td>\n",
       "      <td>NaN</td>\n",
       "      <td>NaN</td>\n",
       "      <td>NaN</td>\n",
       "      <td>NaN</td>\n",
       "      <td>NaN</td>\n",
       "      <td>NaN</td>\n",
       "      <td>NaN</td>\n",
       "    </tr>\n",
       "    <tr>\n",
       "      <th>4</th>\n",
       "      <td>low fat yogurt</td>\n",
       "      <td>NaN</td>\n",
       "      <td>NaN</td>\n",
       "      <td>NaN</td>\n",
       "      <td>NaN</td>\n",
       "      <td>NaN</td>\n",
       "      <td>NaN</td>\n",
       "      <td>NaN</td>\n",
       "      <td>NaN</td>\n",
       "      <td>NaN</td>\n",
       "      <td>NaN</td>\n",
       "      <td>NaN</td>\n",
       "      <td>NaN</td>\n",
       "      <td>NaN</td>\n",
       "      <td>NaN</td>\n",
       "      <td>NaN</td>\n",
       "      <td>NaN</td>\n",
       "      <td>NaN</td>\n",
       "      <td>NaN</td>\n",
       "      <td>NaN</td>\n",
       "    </tr>\n",
       "  </tbody>\n",
       "</table>\n",
       "</div>"
      ],
      "text/plain": [
       "           shrimp    almonds     avocado    vegetables mix green grapes  \\\n",
       "0         burgers  meatballs        eggs               NaN          NaN   \n",
       "1         chutney        NaN         NaN               NaN          NaN   \n",
       "2          turkey    avocado         NaN               NaN          NaN   \n",
       "3   mineral water       milk  energy bar  whole wheat rice    green tea   \n",
       "4  low fat yogurt        NaN         NaN               NaN          NaN   \n",
       "\n",
       "  whole weat flour yams cottage cheese energy drink tomato juice  \\\n",
       "0              NaN  NaN            NaN          NaN          NaN   \n",
       "1              NaN  NaN            NaN          NaN          NaN   \n",
       "2              NaN  NaN            NaN          NaN          NaN   \n",
       "3              NaN  NaN            NaN          NaN          NaN   \n",
       "4              NaN  NaN            NaN          NaN          NaN   \n",
       "\n",
       "  low fat yogurt green tea honey salad mineral water salmon antioxydant juice  \\\n",
       "0            NaN       NaN   NaN   NaN           NaN    NaN               NaN   \n",
       "1            NaN       NaN   NaN   NaN           NaN    NaN               NaN   \n",
       "2            NaN       NaN   NaN   NaN           NaN    NaN               NaN   \n",
       "3            NaN       NaN   NaN   NaN           NaN    NaN               NaN   \n",
       "4            NaN       NaN   NaN   NaN           NaN    NaN               NaN   \n",
       "\n",
       "  frozen smoothie spinach  olive oil  \n",
       "0             NaN     NaN        NaN  \n",
       "1             NaN     NaN        NaN  \n",
       "2             NaN     NaN        NaN  \n",
       "3             NaN     NaN        NaN  \n",
       "4             NaN     NaN        NaN  "
      ]
     },
     "execution_count": 151,
     "metadata": {},
     "output_type": "execute_result"
    }
   ],
   "source": [
    "data.head()"
   ]
  },
  {
   "cell_type": "code",
   "execution_count": 118,
   "metadata": {},
   "outputs": [
    {
     "name": "stdout",
     "output_type": "stream",
     "text": [
      "<class 'pandas.core.frame.DataFrame'>\n",
      "RangeIndex: 7500 entries, 0 to 7499\n",
      "Data columns (total 20 columns):\n",
      " #   Column             Non-Null Count  Dtype  \n",
      "---  ------             --------------  -----  \n",
      " 0   shrimp             7500 non-null   object \n",
      " 1   almonds            5746 non-null   object \n",
      " 2   avocado            4388 non-null   object \n",
      " 3   vegetables mix     3344 non-null   object \n",
      " 4   green grapes       2528 non-null   object \n",
      " 5   whole weat flour   1863 non-null   object \n",
      " 6   yams               1368 non-null   object \n",
      " 7   cottage cheese     980 non-null    object \n",
      " 8   energy drink       653 non-null    object \n",
      " 9   tomato juice       394 non-null    object \n",
      " 10  low fat yogurt     255 non-null    object \n",
      " 11  green tea          153 non-null    object \n",
      " 12  honey              86 non-null     object \n",
      " 13  salad              46 non-null     object \n",
      " 14  mineral water      24 non-null     object \n",
      " 15  salmon             7 non-null      object \n",
      " 16  antioxydant juice  3 non-null      object \n",
      " 17  frozen smoothie    3 non-null      object \n",
      " 18  spinach            2 non-null      object \n",
      " 19  olive oil          0 non-null      float64\n",
      "dtypes: float64(1), object(19)\n",
      "memory usage: 1.1+ MB\n"
     ]
    }
   ],
   "source": [
    "data.info()"
   ]
  },
  {
   "cell_type": "code",
   "execution_count": 119,
   "metadata": {},
   "outputs": [
    {
     "data": {
      "text/plain": [
       "shrimp                  0\n",
       "almonds              1754\n",
       "avocado              3112\n",
       "vegetables mix       4156\n",
       "green grapes         4972\n",
       "whole weat flour     5637\n",
       "yams                 6132\n",
       "cottage cheese       6520\n",
       "energy drink         6847\n",
       "tomato juice         7106\n",
       "low fat yogurt       7245\n",
       "green tea            7347\n",
       "honey                7414\n",
       "salad                7454\n",
       "mineral water        7476\n",
       "salmon               7493\n",
       "antioxydant juice    7497\n",
       "frozen smoothie      7497\n",
       "spinach              7498\n",
       "olive oil            7500\n",
       "dtype: int64"
      ]
     },
     "execution_count": 119,
     "metadata": {},
     "output_type": "execute_result"
    }
   ],
   "source": [
    "data.isna().sum()"
   ]
  },
  {
   "cell_type": "code",
   "execution_count": 120,
   "metadata": {},
   "outputs": [
    {
     "data": {
      "text/plain": [
       "mineral water    1787\n",
       "eggs             1348\n",
       "spaghetti        1306\n",
       "french fries     1282\n",
       "chocolate        1230\n",
       "                 ... \n",
       "bramble            14\n",
       "cream               7\n",
       "napkins             5\n",
       "water spray         3\n",
       " asparagus          1\n",
       "Length: 120, dtype: int64"
      ]
     },
     "execution_count": 120,
     "metadata": {},
     "output_type": "execute_result"
    }
   ],
   "source": [
    "data.stack().value_counts()"
   ]
  },
  {
   "cell_type": "code",
   "execution_count": 121,
   "metadata": {},
   "outputs": [
    {
     "data": {
      "text/plain": [
       "mineral water    0.060900\n",
       "eggs             0.045939\n",
       "spaghetti        0.044508\n",
       "french fries     0.043690\n",
       "chocolate        0.041918\n",
       "                   ...   \n",
       "bramble          0.000477\n",
       "cream            0.000239\n",
       "napkins          0.000170\n",
       "water spray      0.000102\n",
       " asparagus       0.000034\n",
       "Length: 120, dtype: float64"
      ]
     },
     "execution_count": 121,
     "metadata": {},
     "output_type": "execute_result"
    }
   ],
   "source": [
    "data.stack().value_counts(normalize=True)"
   ]
  },
  {
   "cell_type": "code",
   "execution_count": 122,
   "metadata": {},
   "outputs": [
    {
     "data": {
      "text/plain": [
       "<Axes: >"
      ]
     },
     "execution_count": 122,
     "metadata": {},
     "output_type": "execute_result"
    },
    {
     "data": {
      "image/png": "[encoded data removed]",
      "text/plain": [
       "<Figure size 1000x600 with 1 Axes>"
      ]
     },
     "metadata": {},
     "output_type": "display_data"
    }
   ],
   "source": [
    "data.stack().value_counts(normalize=True).head(20).plot(kind='bar')"
   ]
  },
  {
   "cell_type": "code",
   "execution_count": 123,
   "metadata": {},
   "outputs": [
    {
     "data": {
      "text/plain": [
       "<Axes: >"
      ]
     },
     "execution_count": 123,
     "metadata": {},
     "output_type": "execute_result"
    },
    {
     "data": {
      "image/png": "[encoded data removed]",
      "text/plain": [
       "<Figure size 1000x600 with 1 Axes>"
      ]
     },
     "metadata": {},
     "output_type": "display_data"
    }
   ],
   "source": [
    "data.stack().value_counts().head(20).apply(lambda item: item / data.shape[0]).plot(kind='bar')"
   ]
  },
  {
   "cell_type": "code",
   "execution_count": 124,
   "metadata": {},
   "outputs": [],
   "source": [
    "transactions = []\n",
    "for i in range(data.shape[0]):\n",
    "    row = data.iloc[i].dropna().tolist()\n",
    "    transactions.append(row)"
   ]
  },
  {
   "cell_type": "code",
   "execution_count": 125,
   "metadata": {},
   "outputs": [
    {
     "data": {
      "text/plain": [
       "'burgers'"
      ]
     },
     "execution_count": 125,
     "metadata": {},
     "output_type": "execute_result"
    }
   ],
   "source": [
    "transactions[0][0]"
   ]
  },
  {
   "cell_type": "code",
   "execution_count": 126,
   "metadata": {},
   "outputs": [
    {
     "data": {
      "text/plain": [
       "['burgers', 'meatballs', 'eggs']"
      ]
     },
     "execution_count": 126,
     "metadata": {},
     "output_type": "execute_result"
    }
   ],
   "source": [
    "transactions[0]"
   ]
  },
  {
   "cell_type": "code",
   "execution_count": 156,
   "metadata": {},
   "outputs": [],
   "source": [
    "from apriori_python import apriori\n",
    "\n",
    "times=[]\n",
    "start_time = time.time()\n",
    "\n",
    "t1, rules = apriori(transactions,minSup=0.04, minConf=0.17)\n",
    "\n",
    "time1 = time.time() - start_time\n",
    "\n",
    "times.append(time1)"
   ]
  },
  {
   "cell_type": "code",
   "execution_count": 157,
   "metadata": {},
   "outputs": [
    {
     "data": {
      "text/plain": [
       "[[{'mineral water'}, {'ground beef'}, 0.17179630665920537],\n",
       " [{'mineral water'}, {'milk'}, 0.20145495243424735],\n",
       " [{'mineral water'}, {'eggs'}, 0.21376608841634023],\n",
       " [{'mineral water'}, {'chocolate'}, 0.22104085058757694],\n",
       " [{'mineral water'}, {'spaghetti'}, 0.2506994963626189],\n",
       " [{'eggs'}, {'mineral water'}, 0.28338278931750743],\n",
       " [{'chocolate'}, {'mineral water'}, 0.3213995117982099],\n",
       " [{'spaghetti'}, {'mineral water'}, 0.3430321592649311],\n",
       " [{'milk'}, {'mineral water'}, 0.37037037037037035],\n",
       " [{'ground beef'}, {'mineral water'}, 0.41655359565807326]]"
      ]
     },
     "execution_count": 157,
     "metadata": {},
     "output_type": "execute_result"
    }
   ],
   "source": [
    "rules"
   ]
  },
  {
   "cell_type": "code",
   "execution_count": 158,
   "metadata": {},
   "outputs": [],
   "source": [
    "from apyori import apriori\n",
    "\n",
    "start_time = time.time()\n",
    "\n",
    "rules = apriori(transactions=transactions,\n",
    "                min_support=0.04, \n",
    "                min_confidence=0.17,\n",
    "                min_lift=1.0001)\n",
    "\n",
    "results = list(rules)\n",
    "\n",
    "time2 = time.time() - start_time\n",
    "\n",
    "times.append(time2)"
   ]
  },
  {
   "cell_type": "code",
   "execution_count": 159,
   "metadata": {},
   "outputs": [
    {
     "name": "stdout",
     "output_type": "stream",
     "text": [
      "frozenset({'chocolate'}) frozenset({'mineral water'})\n",
      "Suppot: 0.05266666666666667; Confidense 0.32139951179820997; Lift: 1.3489067367020564\n",
      "\n",
      "frozenset({'mineral water'}) frozenset({'chocolate'})\n",
      "Suppot: 0.05266666666666667; Confidense 0.22104085058757697; Lift: 1.3489067367020564\n",
      "\n",
      "frozenset({'eggs'}) frozenset({'mineral water'})\n",
      "Suppot: 0.05093333333333333; Confidense 0.28338278931750743; Lift: 1.1893513821383916\n",
      "\n",
      "frozenset({'mineral water'}) frozenset({'eggs'})\n",
      "Suppot: 0.05093333333333333; Confidense 0.21376608841634023; Lift: 1.1893513821383916\n",
      "\n",
      "frozenset({'ground beef'}) frozenset({'mineral water'})\n",
      "Suppot: 0.040933333333333335; Confidense 0.41655359565807326; Lift: 1.7482663499919135\n",
      "\n",
      "frozenset({'mineral water'}) frozenset({'ground beef'})\n",
      "Suppot: 0.040933333333333335; Confidense 0.1717963066592054; Lift: 1.7482663499919138\n",
      "\n",
      "frozenset({'milk'}) frozenset({'mineral water'})\n",
      "Suppot: 0.048; Confidense 0.3703703703703704; Lift: 1.5544363613753656\n",
      "\n",
      "frozenset({'mineral water'}) frozenset({'milk'})\n",
      "Suppot: 0.048; Confidense 0.20145495243424735; Lift: 1.5544363613753656\n",
      "\n",
      "frozenset({'mineral water'}) frozenset({'spaghetti'})\n",
      "Suppot: 0.05973333333333333; Confidense 0.2506994963626189; Lift: 1.4396984860027884\n",
      "\n",
      "frozenset({'spaghetti'}) frozenset({'mineral water'})\n",
      "Suppot: 0.05973333333333333; Confidense 0.3430321592649311; Lift: 1.4396984860027886\n",
      "\n"
     ]
    }
   ],
   "source": [
    "for res in results:\n",
    "    for subset in res[2]:\n",
    "        print(subset[0], subset[1])\n",
    "        print(\"Suppot: {0}; Confidense {1}; Lift: {2}\".format(res[1],subset[2], subset[3]))\n",
    "        print()"
   ]
  },
  {
   "cell_type": "code",
   "execution_count": 131,
   "metadata": {},
   "outputs": [],
   "source": [
    "from efficient_apriori import apriori\n",
    "\n",
    "start_time = time.time()\n",
    "\n",
    "itemset, rules = apriori(transactions, min_support=0.04, min_confidence=0.17)\n",
    "\n",
    "time3 = time.time() - start_time\n",
    "\n",
    "times.append(time3)"
   ]
  },
  {
   "cell_type": "code",
   "execution_count": 132,
   "metadata": {},
   "outputs": [
    {
     "name": "stdout",
     "output_type": "stream",
     "text": [
      "{mineral water} -> {chocolate} (conf: 0.221, supp: 0.053, lift: 1.349, conv: 1.073)\n",
      "{chocolate} -> {mineral water} (conf: 0.321, supp: 0.053, lift: 1.349, conv: 1.123)\n",
      "{mineral water} -> {eggs} (conf: 0.214, supp: 0.051, lift: 1.189, conv: 1.043)\n",
      "{eggs} -> {mineral water} (conf: 0.283, supp: 0.051, lift: 1.189, conv: 1.063)\n",
      "{mineral water} -> {ground beef} (conf: 0.172, supp: 0.041, lift: 1.748, conv: 1.089)\n",
      "{ground beef} -> {mineral water} (conf: 0.417, supp: 0.041, lift: 1.748, conv: 1.306)\n",
      "{mineral water} -> {milk} (conf: 0.201, supp: 0.048, lift: 1.554, conv: 1.090)\n",
      "{milk} -> {mineral water} (conf: 0.370, supp: 0.048, lift: 1.554, conv: 1.210)\n",
      "{spaghetti} -> {mineral water} (conf: 0.343, supp: 0.060, lift: 1.440, conv: 1.159)\n",
      "{mineral water} -> {spaghetti} (conf: 0.251, supp: 0.060, lift: 1.440, conv: 1.102)\n"
     ]
    }
   ],
   "source": [
    "for i in range(len(rules)):\n",
    "    print(rules[i])"
   ]
  },
  {
   "cell_type": "code",
   "execution_count": 133,
   "metadata": {},
   "outputs": [],
   "source": [
    "start_time = time.time()\n",
    "\n",
    "itemset, rules = fpgrowth(transactions, minSupRatio=0.04, minConf=0.17)\n",
    "\n",
    "time4 = time.time() - start_time\n",
    "\n",
    "times.append(time4)"
   ]
  },
  {
   "cell_type": "code",
   "execution_count": 134,
   "metadata": {},
   "outputs": [
    {
     "name": "stdout",
     "output_type": "stream",
     "text": [
      "[{'mineral water'}, {'ground beef'}, 0.17179630665920537]\n",
      "[{'ground beef'}, {'mineral water'}, 0.41655359565807326]\n",
      "[{'mineral water'}, {'milk'}, 0.20145495243424735]\n",
      "[{'milk'}, {'mineral water'}, 0.37037037037037035]\n",
      "[{'mineral water'}, {'chocolate'}, 0.22104085058757694]\n",
      "[{'chocolate'}, {'mineral water'}, 0.3213995117982099]\n",
      "[{'mineral water'}, {'spaghetti'}, 0.2506994963626189]\n",
      "[{'spaghetti'}, {'mineral water'}, 0.3430321592649311]\n",
      "[{'eggs'}, {'mineral water'}, 0.28338278931750743]\n",
      "[{'mineral water'}, {'eggs'}, 0.21376608841634023]\n"
     ]
    }
   ],
   "source": [
    "for i in range(len(rules)):\n",
    "    print(rules[i])"
   ]
  },
  {
   "cell_type": "code",
   "execution_count": 136,
   "metadata": {},
   "outputs": [
    {
     "data": {
      "image/png": "[encoded data removed]",
      "text/plain": [
       "<Figure size 1000x600 with 1 Axes>"
      ]
     },
     "metadata": {},
     "output_type": "display_data"
    }
   ],
   "source": [
    "plt.bar(['apriori_python', 'apyori', 'efficient_apriori', 'fpgrowth'], times)\n",
    "plt.show()"
   ]
  },
  {
   "cell_type": "code",
   "execution_count": 137,
   "metadata": {},
   "outputs": [],
   "source": [
    "data1 = pd.read_csv('../common/data.csv', sep = ',')"
   ]
  },
  {
   "cell_type": "code",
   "execution_count": 160,
   "metadata": {},
   "outputs": [
    {
     "data": {
      "text/html": [
       "<div>\n",
       "<style scoped>\n",
       "    .dataframe tbody tr th:only-of-type {\n",
       "        vertical-align: middle;\n",
       "    }\n",
       "\n",
       "    .dataframe tbody tr th {\n",
       "        vertical-align: top;\n",
       "    }\n",
       "\n",
       "    .dataframe thead th {\n",
       "        text-align: right;\n",
       "    }\n",
       "</style>\n",
       "<table border=\"1\" class=\"dataframe\">\n",
       "  <thead>\n",
       "    <tr style=\"text-align: right;\">\n",
       "      <th></th>\n",
       "      <th>Bread</th>\n",
       "      <th>Unnamed: 1</th>\n",
       "      <th>Unnamed: 2</th>\n",
       "      <th>Unnamed: 3</th>\n",
       "      <th>Unnamed: 4</th>\n",
       "      <th>Unnamed: 5</th>\n",
       "      <th>Unnamed: 6</th>\n",
       "      <th>Unnamed: 7</th>\n",
       "      <th>Unnamed: 8</th>\n",
       "      <th>Unnamed: 9</th>\n",
       "      <th>Unnamed: 10</th>\n",
       "      <th>Unnamed: 11</th>\n",
       "    </tr>\n",
       "  </thead>\n",
       "  <tbody>\n",
       "    <tr>\n",
       "      <th>0</th>\n",
       "      <td>Scandinavian</td>\n",
       "      <td>Scandinavian</td>\n",
       "      <td>NaN</td>\n",
       "      <td>NaN</td>\n",
       "      <td>NaN</td>\n",
       "      <td>NaN</td>\n",
       "      <td>NaN</td>\n",
       "      <td>NaN</td>\n",
       "      <td>NaN</td>\n",
       "      <td>NaN</td>\n",
       "      <td>NaN</td>\n",
       "      <td>NaN</td>\n",
       "    </tr>\n",
       "    <tr>\n",
       "      <th>1</th>\n",
       "      <td>Hot chocolate</td>\n",
       "      <td>Jam</td>\n",
       "      <td>Cookies</td>\n",
       "      <td>NaN</td>\n",
       "      <td>NaN</td>\n",
       "      <td>NaN</td>\n",
       "      <td>NaN</td>\n",
       "      <td>NaN</td>\n",
       "      <td>NaN</td>\n",
       "      <td>NaN</td>\n",
       "      <td>NaN</td>\n",
       "      <td>NaN</td>\n",
       "    </tr>\n",
       "    <tr>\n",
       "      <th>2</th>\n",
       "      <td>Muffin</td>\n",
       "      <td>NaN</td>\n",
       "      <td>NaN</td>\n",
       "      <td>NaN</td>\n",
       "      <td>NaN</td>\n",
       "      <td>NaN</td>\n",
       "      <td>NaN</td>\n",
       "      <td>NaN</td>\n",
       "      <td>NaN</td>\n",
       "      <td>NaN</td>\n",
       "      <td>NaN</td>\n",
       "      <td>NaN</td>\n",
       "    </tr>\n",
       "    <tr>\n",
       "      <th>3</th>\n",
       "      <td>Coffee</td>\n",
       "      <td>Pastry</td>\n",
       "      <td>Bread</td>\n",
       "      <td>NaN</td>\n",
       "      <td>NaN</td>\n",
       "      <td>NaN</td>\n",
       "      <td>NaN</td>\n",
       "      <td>NaN</td>\n",
       "      <td>NaN</td>\n",
       "      <td>NaN</td>\n",
       "      <td>NaN</td>\n",
       "      <td>NaN</td>\n",
       "    </tr>\n",
       "    <tr>\n",
       "      <th>4</th>\n",
       "      <td>Medialuna</td>\n",
       "      <td>Pastry</td>\n",
       "      <td>Muffin</td>\n",
       "      <td>NaN</td>\n",
       "      <td>NaN</td>\n",
       "      <td>NaN</td>\n",
       "      <td>NaN</td>\n",
       "      <td>NaN</td>\n",
       "      <td>NaN</td>\n",
       "      <td>NaN</td>\n",
       "      <td>NaN</td>\n",
       "      <td>NaN</td>\n",
       "    </tr>\n",
       "  </tbody>\n",
       "</table>\n",
       "</div>"
      ],
      "text/plain": [
       "           Bread    Unnamed: 1 Unnamed: 2 Unnamed: 3 Unnamed: 4 Unnamed: 5  \\\n",
       "0   Scandinavian  Scandinavian        NaN        NaN        NaN        NaN   \n",
       "1  Hot chocolate           Jam    Cookies        NaN        NaN        NaN   \n",
       "2         Muffin           NaN        NaN        NaN        NaN        NaN   \n",
       "3         Coffee        Pastry      Bread        NaN        NaN        NaN   \n",
       "4      Medialuna        Pastry     Muffin        NaN        NaN        NaN   \n",
       "\n",
       "  Unnamed: 6 Unnamed: 7 Unnamed: 8 Unnamed: 9 Unnamed: 10 Unnamed: 11  \n",
       "0        NaN        NaN        NaN        NaN         NaN         NaN  \n",
       "1        NaN        NaN        NaN        NaN         NaN         NaN  \n",
       "2        NaN        NaN        NaN        NaN         NaN         NaN  \n",
       "3        NaN        NaN        NaN        NaN         NaN         NaN  \n",
       "4        NaN        NaN        NaN        NaN         NaN         NaN  "
      ]
     },
     "execution_count": 160,
     "metadata": {},
     "output_type": "execute_result"
    }
   ],
   "source": [
    "data1.head()"
   ]
  },
  {
   "cell_type": "code",
   "execution_count": 139,
   "metadata": {},
   "outputs": [
    {
     "name": "stdout",
     "output_type": "stream",
     "text": [
      "<class 'pandas.core.frame.DataFrame'>\n",
      "RangeIndex: 9530 entries, 0 to 9529\n",
      "Data columns (total 12 columns):\n",
      " #   Column       Non-Null Count  Dtype \n",
      "---  ------       --------------  ----- \n",
      " 0   Bread        9207 non-null   object\n",
      " 1   Unnamed: 1   5840 non-null   object\n",
      " 2   Unnamed: 2   2959 non-null   object\n",
      " 3   Unnamed: 3   1505 non-null   object\n",
      " 4   Unnamed: 4   596 non-null    object\n",
      " 5   Unnamed: 5   245 non-null    object\n",
      " 6   Unnamed: 6   91 non-null     object\n",
      " 7   Unnamed: 7   36 non-null     object\n",
      " 8   Unnamed: 8   13 non-null     object\n",
      " 9   Unnamed: 9   9 non-null      object\n",
      " 10  Unnamed: 10  4 non-null      object\n",
      " 11  Unnamed: 11  1 non-null      object\n",
      "dtypes: object(12)\n",
      "memory usage: 893.6+ KB\n"
     ]
    }
   ],
   "source": [
    "data1.info()"
   ]
  },
  {
   "cell_type": "code",
   "execution_count": 140,
   "metadata": {},
   "outputs": [
    {
     "data": {
      "text/plain": [
       "Coffee              5471\n",
       "Bread               3324\n",
       "Tea                 1435\n",
       "Cake                1025\n",
       "Pastry               856\n",
       "                    ... \n",
       "Olum & polenta         1\n",
       "Gift voucher           1\n",
       "Coffee granules        1\n",
       "Raw bars               1\n",
       "Chicken sand           1\n",
       "Length: 102, dtype: int64"
      ]
     },
     "execution_count": 140,
     "metadata": {},
     "output_type": "execute_result"
    }
   ],
   "source": [
    "data1.stack().value_counts()"
   ]
  },
  {
   "cell_type": "code",
   "execution_count": 141,
   "metadata": {},
   "outputs": [
    {
     "data": {
      "text/plain": [
       "Coffee              0.266800\n",
       "Bread               0.162099\n",
       "Tea                 0.069980\n",
       "Cake                0.049985\n",
       "Pastry              0.041744\n",
       "                      ...   \n",
       "Olum & polenta      0.000049\n",
       "Gift voucher        0.000049\n",
       "Coffee granules     0.000049\n",
       "Raw bars            0.000049\n",
       "Chicken sand        0.000049\n",
       "Length: 102, dtype: float64"
      ]
     },
     "execution_count": 141,
     "metadata": {},
     "output_type": "execute_result"
    }
   ],
   "source": [
    "data1.stack().value_counts(normalize=True)"
   ]
  },
  {
   "cell_type": "code",
   "execution_count": 142,
   "metadata": {},
   "outputs": [
    {
     "data": {
      "text/plain": [
       "<Axes: >"
      ]
     },
     "execution_count": 142,
     "metadata": {},
     "output_type": "execute_result"
    },
    {
     "data": {
      "image/png": "[encoded data removed]",
      "text/plain": [
       "<Figure size 1000x600 with 1 Axes>"
      ]
     },
     "metadata": {},
     "output_type": "display_data"
    }
   ],
   "source": [
    "data1.stack().value_counts(normalize=True).head(20).plot(kind='bar')"
   ]
  },
  {
   "cell_type": "code",
   "execution_count": 143,
   "metadata": {},
   "outputs": [
    {
     "data": {
      "text/plain": [
       "<Axes: >"
      ]
     },
     "execution_count": 143,
     "metadata": {},
     "output_type": "execute_result"
    },
    {
     "data": {
      "image/png": "[encoded data removed]",
      "text/plain": [
       "<Figure size 1000x600 with 1 Axes>"
      ]
     },
     "metadata": {},
     "output_type": "display_data"
    }
   ],
   "source": [
    "data1.stack().value_counts().head(20).apply(lambda item: item / data.shape[0]).plot(kind='bar')"
   ]
  },
  {
   "cell_type": "code",
   "execution_count": 144,
   "metadata": {},
   "outputs": [
    {
     "data": {
      "text/plain": [
       "(9530, 12)"
      ]
     },
     "execution_count": 144,
     "metadata": {},
     "output_type": "execute_result"
    }
   ],
   "source": [
    "data1.shape"
   ]
  },
  {
   "cell_type": "code",
   "execution_count": 145,
   "metadata": {},
   "outputs": [],
   "source": [
    "transactions1 = []\n",
    "for i in range(data1.shape[0]):\n",
    "    row = data1.iloc[i].dropna().tolist()\n",
    "    transactions1.append(row)"
   ]
  },
  {
   "cell_type": "code",
   "execution_count": 146,
   "metadata": {},
   "outputs": [
    {
     "data": {
      "text/plain": [
       "[[{'Tea'}, {'Bread'}, 0.19703703703703704],\n",
       " [{'Bread'}, {'Coffee'}, 0.2751937984496124],\n",
       " [{'Pastry'}, {'Bread'}, 0.33865030674846625],\n",
       " [{'Tea'}, {'Coffee'}, 0.3496296296296296],\n",
       " [{'Hot chocolate'}, {'Coffee'}, 0.5072463768115942],\n",
       " [{'Cookies'}, {'Coffee'}, 0.5184466019417475],\n",
       " [{'Cake'}, {'Coffee'}, 0.5269582909460834],\n",
       " [{'Sandwich'}, {'Coffee'}, 0.5323529411764706],\n",
       " [{'Pastry'}, {'Coffee'}, 0.5521472392638037],\n",
       " [{'Medialuna'}, {'Coffee'}, 0.5692307692307692]]"
      ]
     },
     "execution_count": 146,
     "metadata": {},
     "output_type": "execute_result"
    }
   ],
   "source": [
    "from apriori_python import apriori\n",
    "\n",
    "times1=[]\n",
    "start_time = time.time()\n",
    "\n",
    "t1, rules = apriori(transactions1,minSup=0.025, minConf=0.19)\n",
    "\n",
    "time1 = time.time() - start_time\n",
    "\n",
    "times1.append(time1)\n",
    "rules"
   ]
  },
  {
   "cell_type": "code",
   "execution_count": 162,
   "metadata": {},
   "outputs": [
    {
     "name": "stdout",
     "output_type": "stream",
     "text": [
      "frozenset({'Pastry'}) frozenset({'Bread'})\n",
      "Suppot: 0.028961175236096537; Confidense 0.33865030674846625; Lift: 1.0424216483568745\n",
      "\n",
      "frozenset({'Cake'}) frozenset({'Coffee'})\n",
      "Suppot: 0.05435466946484785; Confidense 0.5269582909460834; Lift: 1.109079618532724\n",
      "\n",
      "frozenset({'Cake'}) frozenset({'Tea'})\n",
      "Suppot: 0.0236096537250787; Confidense 0.2288911495422177; Lift: 1.615801966768396\n",
      "\n",
      "frozenset({'Cookies'}) frozenset({'Coffee'})\n",
      "Suppot: 0.02801678908709339; Confidense 0.5184466019417475; Lift: 1.0911652200761603\n",
      "\n",
      "frozenset({'Hot chocolate'}) frozenset({'Coffee'})\n",
      "Suppot: 0.02938090241343127; Confidense 0.5072463768115942; Lift: 1.0675923080862397\n",
      "\n",
      "frozenset({'Juice'}) frozenset({'Coffee'})\n",
      "Suppot: 0.020461699895068207; Confidense 0.5342465753424658; Lift: 1.124419139358149\n",
      "\n",
      "frozenset({'Medialuna'}) frozenset({'Coffee'})\n",
      "Suppot: 0.034942287513116475; Confidense 0.5692307692307693; Lift: 1.1980497417776572\n",
      "\n",
      "frozenset({'Pastry'}) frozenset({'Coffee'})\n",
      "Suppot: 0.0472193074501574; Confidense 0.5521472392638037; Lift: 1.162094344121919\n",
      "\n",
      "frozenset({'Sandwich'}) frozenset({'Coffee'})\n",
      "Suppot: 0.037985309548793283; Confidense 0.5323529411764706; Lift: 1.1204336416545417\n",
      "\n",
      "frozenset({'Toast'}) frozenset({'Coffee'})\n",
      "Suppot: 0.023504721930745015; Confidense 0.7044025157232705; Lift: 1.4825432806631553\n",
      "\n"
     ]
    }
   ],
   "source": [
    "from apyori import apriori\n",
    "\n",
    "start_time = time.time()\n",
    "\n",
    "rules = apriori(transactions=transactions1,\n",
    "                min_support=0.02, \n",
    "                min_confidence=0.19,\n",
    "                min_lift=1.0001)\n",
    "\n",
    "results = list(rules)\n",
    "\n",
    "time2 = time.time() - start_time\n",
    "\n",
    "times1.append(time2)\n",
    "\n",
    "for res in results:\n",
    "    for subset in res[2]:\n",
    "        print(subset[0], subset[1])\n",
    "        print(\"Suppot: {0}; Confidense {1}; Lift: {2}\".format(res[1],subset[2], subset[3]))\n",
    "        print()"
   ]
  },
  {
   "cell_type": "code",
   "execution_count": 148,
   "metadata": {},
   "outputs": [
    {
     "name": "stdout",
     "output_type": "stream",
     "text": [
      "{Bread} -> {Coffee} (conf: 0.275, supp: 0.089, lift: 0.579, conv: 0.724)\n",
      "{Pastry} -> {Bread} (conf: 0.339, supp: 0.029, lift: 1.042, conv: 1.021)\n",
      "{Tea} -> {Bread} (conf: 0.197, supp: 0.028, lift: 0.607, conv: 0.841)\n",
      "{Cake} -> {Coffee} (conf: 0.527, supp: 0.054, lift: 1.109, conv: 1.110)\n",
      "{Cookies} -> {Coffee} (conf: 0.518, supp: 0.028, lift: 1.091, conv: 1.090)\n",
      "{Hot chocolate} -> {Coffee} (conf: 0.507, supp: 0.029, lift: 1.068, conv: 1.065)\n",
      "{Medialuna} -> {Coffee} (conf: 0.569, supp: 0.035, lift: 1.198, conv: 1.218)\n",
      "{Pastry} -> {Coffee} (conf: 0.552, supp: 0.047, lift: 1.162, conv: 1.172)\n",
      "{Sandwich} -> {Coffee} (conf: 0.532, supp: 0.038, lift: 1.120, conv: 1.122)\n",
      "{Tea} -> {Coffee} (conf: 0.350, supp: 0.050, lift: 0.736, conv: 0.807)\n"
     ]
    }
   ],
   "source": [
    "from efficient_apriori import apriori\n",
    "\n",
    "start_time = time.time()\n",
    "\n",
    "itemset, rules = apriori(transactions1, min_support=0.025, min_confidence=0.19)\n",
    "\n",
    "time3 = time.time() - start_time\n",
    "\n",
    "times1.append(time3)\n",
    "\n",
    "for i in range(len(rules)):\n",
    "    print(rules[i])"
   ]
  },
  {
   "cell_type": "code",
   "execution_count": 149,
   "metadata": {},
   "outputs": [
    {
     "name": "stdout",
     "output_type": "stream",
     "text": [
      "[{'Toast'}, {'Coffee'}, 0.7044025157232704]\n",
      "[{'Juice'}, {'Coffee'}, 0.5342465753424658]\n",
      "[{'Alfajores'}, {'Coffee'}, 0.5406976744186046]\n",
      "[{'Cookies'}, {'Coffee'}, 0.5184466019417475]\n",
      "[{'Hot chocolate'}, {'Coffee'}, 0.5072463768115942]\n",
      "[{'Medialuna'}, {'Coffee'}, 0.5692307692307692]\n",
      "[{'Sandwich'}, {'Coffee'}, 0.5323529411764706]\n",
      "[{'Pastry'}, {'Bread'}, 0.33865030674846625]\n",
      "[{'Pastry'}, {'Coffee'}, 0.5521472392638037]\n",
      "[{'Cake'}, {'Bread'}, 0.22482197355035605]\n",
      "[{'Cake'}, {'Tea'}, 0.2288911495422177]\n",
      "[{'Cake'}, {'Coffee'}, 0.5269582909460834]\n",
      "[{'Tea'}, {'Bread'}, 0.19703703703703704]\n",
      "[{'Tea'}, {'Coffee'}, 0.3496296296296296]\n",
      "[{'Bread'}, {'Coffee'}, 0.2751937984496124]\n"
     ]
    }
   ],
   "source": [
    "start_time = time.time()\n",
    "\n",
    "itemset, rules = fpgrowth(transactions1, minSupRatio=0.025, minConf=0.19)\n",
    "\n",
    "time4 = time.time() - start_time\n",
    "\n",
    "times1.append(time4)\n",
    "\n",
    "for i in range(len(rules)):\n",
    "    print(rules[i])"
   ]
  },
  {
   "cell_type": "code",
   "execution_count": 150,
   "metadata": {},
   "outputs": [
    {
     "data": {
      "image/png": "[encoded data removed]",
      "text/plain": [
       "<Figure size 1000x600 with 1 Axes>"
      ]
     },
     "metadata": {},
     "output_type": "display_data"
    }
   ],
   "source": [
    "plt.bar(['apriori_python', 'apyori', 'efficient_apriori', 'fpgrowth'], times1)\n",
    "plt.show()"
   ]
  }
 ],
 "metadata": {
  "kernelspec": {
   "display_name": "base",
   "language": "python",
   "name": "python3"
  },
  "language_info": {
   "codemirror_mode": {
    "name": "ipython",
    "version": 3
   },
   "file_extension": ".py",
   "mimetype": "text/x-python",
   "name": "python",
   "nbconvert_exporter": "python",
   "pygments_lexer": "ipython3",
   "version": "3.11.4"
  }
 },
 "nbformat": 4,
 "nbformat_minor": 2
}
