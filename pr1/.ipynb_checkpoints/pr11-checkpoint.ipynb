{
 "cells": [
  {
   "cell_type": "code",
   "execution_count": null,
   "id": "fb151e18",
   "metadata": {},
   "outputs": [],
   "source": [
    "#Программа для вычисления площади фигуры\n",
    "from math import pi, sqrt"
   ]
  },
  {
   "cell_type": "code",
   "execution_count": null,
   "id": "b96e1292",
   "metadata": {},
   "outputs": [],
   "source": [
    "def triangle(a, b, c):\n",
    "    if a > 0 and b > 0 and c > 0:\n",
    "        p = (a + b + c) / 2\n",
    "        St = sqrt(p * (p - a) * (p - b) * (p - c))  # Вычисление площади производится по формуле Герона\n",
    "    return St"
   ]
  },
  {
   "cell_type": "code",
   "execution_count": null,
   "id": "289f9c26",
   "metadata": {},
   "outputs": [],
   "source": [
    "def rectangle(a, b):\n",
    "    if a > 0 and b > 0:\n",
    "        Sr = a * b\n",
    "    return Sr"
   ]
  },
  {
   "cell_type": "code",
   "execution_count": null,
   "id": "d1200c37",
   "metadata": {},
   "outputs": [],
   "source": [
    "def circle(r):\n",
    "    if r > 0:\n",
    "        Sc = pi*r**2\n",
    "    return Sc"
   ]
  },
  {
   "cell_type": "code",
   "execution_count": null,
   "id": "d078c52c",
   "metadata": {},
   "outputs": [],
   "source": [
    "Dict = {}"
   ]
  },
  {
   "cell_type": "code",
   "execution_count": null,
   "id": "b3eee058",
   "metadata": {},
   "outputs": [],
   "source": []
  },
  {
   "cell_type": "code",
   "execution_count": 7,
   "id": "4a363cd0",
   "metadata": {},
   "outputs": [
    {
     "name": "stdout",
     "output_type": "stream",
     "text": [
      "Выберите фигуру из списка: 1-Треугольник, 2-Прямоугольник, 3-Круг: 1\n",
      "Вы выбрали треугольник. Введите длины его сторон: \n",
      "1\n",
      "1\n",
      "1\n",
      "Выберите фигуру из списка: 1-Треугольник, 2-Прямоугольник, 3-Круг: 2\n",
      "Вы выбрали прямоугольник. Введите длины его сторон: \n",
      "2\n",
      "3\n",
      "Выберите фигуру из списка: 1-Треугольник, 2-Прямоугольник, 3-Круг: 3\n",
      "Вы выбрали круг. Введите длину его радиуса: \n",
      "3\n"
     ]
    }
   ],
   "source": [
    "for i in range (3):\n",
    "    typ = int(input('Выберите фигуру из списка: 1-Треугольник, 2-Прямоугольник, 3-Круг: '))\n",
    "\n",
    "    if typ == 1:\n",
    "        print('Вы выбрали треугольник. Введите длины его сторон: ')\n",
    "        a = int(input())\n",
    "        b = int(input())\n",
    "        c = int(input())\n",
    "        tr = {'Треугольник':triangle(a, b, c)}\n",
    "        Dict.update(tr)\n",
    "\n",
    "    elif typ == 2:\n",
    "        print('Вы выбрали прямоугольник. Введите длины его сторон: ')\n",
    "        a = int(input())\n",
    "        b = int(input())\n",
    "        re = {'Прямоугольник':rectangle(a, b)}\n",
    "        Dict.update(re)\n",
    "\n",
    "    elif typ == 3:\n",
    "        print('Вы выбрали круг. Введите длину его радиуса: ')\n",
    "        r = int(input())\n",
    "        ci = {'Круг':circle(r)}\n",
    "        Dict.update(ci)\n",
    "\n",
    "    else:\n",
    "        print('Тип фигуры не определен.')"
   ]
  },
  {
   "cell_type": "code",
   "execution_count": 8,
   "id": "fc5918ea",
   "metadata": {},
   "outputs": [
    {
     "name": "stdout",
     "output_type": "stream",
     "text": [
      "{'Треугольник': 0.4330127018922193, 'Прямоугольник': 6, 'Круг': 28.274333882308138}\n"
     ]
    }
   ],
   "source": [
    "print(Dict)"
   ]
  }
 ],
 "metadata": {
  "kernelspec": {
   "display_name": "Python 3 (ipykernel)",
   "language": "python",
   "name": "python3"
  },
  "language_info": {
   "codemirror_mode": {
    "name": "ipython",
    "version": 3
   },
   "file_extension": ".py",
   "mimetype": "text/x-python",
   "name": "python",
   "nbconvert_exporter": "python",
   "pygments_lexer": "ipython3",
   "version": "3.11.4"
  }
 },
 "nbformat": 4,
 "nbformat_minor": 5
}
