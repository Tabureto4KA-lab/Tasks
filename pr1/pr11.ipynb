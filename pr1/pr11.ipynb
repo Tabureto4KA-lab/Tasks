{
 "cells": [
  {
   "cell_type": "code",
   "execution_count": 1,
   "id": "fb151e18",
   "metadata": {},
   "outputs": [],
   "source": [
    "from math import pi, sqrt"
   ]
  },
  {
   "cell_type": "code",
   "execution_count": 2,
   "id": "b96e1292",
   "metadata": {},
   "outputs": [],
   "source": [
    "def triangle(a, b, c):\n",
    "    if a > 0 and b > 0 and c > 0:\n",
    "        p = (a + b + c) / 2\n",
    "        St = sqrt(p * (p - a) * (p - b) * (p - c))\n",
    "    return St"
   ]
  },
  {
   "cell_type": "code",
   "execution_count": 3,
   "id": "289f9c26",
   "metadata": {},
   "outputs": [],
   "source": [
    "def rectangle(a, b):\n",
    "    if a > 0 and b > 0:\n",
    "        Sr = a * b\n",
    "    return Sr"
   ]
  },
  {
   "cell_type": "code",
   "execution_count": 4,
   "id": "d1200c37",
   "metadata": {},
   "outputs": [],
   "source": [
    "def circle(r):\n",
    "    if r > 0:\n",
    "        Sc = pi*r**2\n",
    "    return Sc"
   ]
  },
  {
   "cell_type": "code",
   "execution_count": 5,
   "id": "d078c52c",
   "metadata": {},
   "outputs": [],
   "source": [
    "Dict = {}"
   ]
  },
  {
   "cell_type": "code",
   "execution_count": 6,
   "id": "4a363cd0",
   "metadata": {},
   "outputs": [
    {
     "name": "stdout",
     "output_type": "stream",
     "text": [
      "Выберите фигуру из списка: 1-Треугольник, 2-Прямоугольник, 3-Круг: 1\n",
      "Вы выбрали треугольник. Введите длины его сторон: \n",
      "5\n",
      "6\n",
      "6\n",
      "Выберите фигуру из списка: 1-Треугольник, 2-Прямоугольник, 3-Круг: 2\n",
      "Вы выбрали прямоугольник. Введите длины его сторон: \n",
      "15\n",
      "3\n",
      "Выберите фигуру из списка: 1-Треугольник, 2-Прямоугольник, 3-Круг: 3\n",
      "Вы выбрали круг. Введите длину его радиуса: \n",
      "5\n"
     ]
    }
   ],
   "source": [
    "for i in range (3):\n",
    "    typ = int(input('Выберите фигуру из списка: 1-Треугольник, 2-Прямоугольник, 3-Круг: '))\n",
    "\n",
    "    if typ == 1:\n",
    "        print('Вы выбрали треугольник. Введите длины его сторон: ')\n",
    "        a = int(input())\n",
    "        b = int(input())\n",
    "        c = int(input())\n",
    "        tr = {'Треугольник':triangle(a, b, c)}\n",
    "        Dict.update(tr)\n",
    "\n",
    "    elif typ == 2:\n",
    "        print('Вы выбрали прямоугольник. Введите длины его сторон: ')\n",
    "        a = int(input())\n",
    "        b = int(input())\n",
    "        re = {'Прямоугольник':rectangle(a, b)}\n",
    "        Dict.update(re)\n",
    "\n",
    "    elif typ == 3:\n",
    "        print('Вы выбрали круг. Введите длину его радиуса: ')\n",
    "        r = int(input())\n",
    "        ci = {'Круг':circle(r)}\n",
    "        Dict.update(ci)\n",
    "\n",
    "    else:\n",
    "        print('Тип фигуры не определен.')"
   ]
  },
  {
   "cell_type": "code",
   "execution_count": 7,
   "id": "fc5918ea",
   "metadata": {},
   "outputs": [
    {
     "name": "stdout",
     "output_type": "stream",
     "text": [
      "{'Треугольник': 13.635890143294644, 'Прямоугольник': 45, 'Круг': 78.53981633974483}\n"
     ]
    }
   ],
   "source": [
    "print(Dict)"
   ]
  },
  {
   "cell_type": "code",
   "execution_count": null,
   "id": "0c7ab161",
   "metadata": {},
   "outputs": [],
   "source": []
  }
 ],
 "metadata": {
  "kernelspec": {
   "display_name": "Python 3 (ipykernel)",
   "language": "python",
   "name": "python3"
  },
  "language_info": {
   "codemirror_mode": {
    "name": "ipython",
    "version": 3
   },
   "file_extension": ".py",
   "mimetype": "text/x-python",
   "name": "python",
   "nbconvert_exporter": "python",
   "pygments_lexer": "ipython3",
   "version": "3.11.4"
  }
 },
 "nbformat": 4,
 "nbformat_minor": 5
}
