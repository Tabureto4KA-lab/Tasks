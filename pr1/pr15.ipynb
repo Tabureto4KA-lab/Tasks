{
 "cells": [
  {
   "cell_type": "code",
   "execution_count": 4,
   "id": "59b4e711",
   "metadata": {},
   "outputs": [
    {
     "name": "stdout",
     "output_type": "stream",
     "text": [
      "Получившийся словарь: {'a': 17, 'b': 11, 'c': 17}\n"
     ]
    }
   ],
   "source": [
    "a = [1, 2, 3, 4, 2, 1, 3, 4, 5, 6, 5, 4, 3, 2]\n",
    "b = ['a', 'b', 'c', 'c', 'c', 'b', 'a', 'c', 'a', 'a', 'b', 'c', 'b', 'a']\n",
    "res = dict()\n",
    "for i in range(len(b)):\n",
    "    if b[i] in res:\n",
    "        res[b[i]] += a[i]\n",
    "    else:\n",
    "        res[b[i]] = a[i]\n",
    "print('Получившийся словарь:', res)"
   ]
  },
  {
   "cell_type": "code",
   "execution_count": null,
   "id": "34e7cf7d",
   "metadata": {},
   "outputs": [],
   "source": []
  }
 ],
 "metadata": {
  "kernelspec": {
   "display_name": "Python 3 (ipykernel)",
   "language": "python",
   "name": "python3"
  },
  "language_info": {
   "codemirror_mode": {
    "name": "ipython",
    "version": 3
   },
   "file_extension": ".py",
   "mimetype": "text/x-python",
   "name": "python",
   "nbconvert_exporter": "python",
   "pygments_lexer": "ipython3",
   "version": "3.11.4"
  }
 },
 "nbformat": 4,
 "nbformat_minor": 5
}
