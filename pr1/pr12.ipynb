{
 "cells": [
  {
   "cell_type": "code",
   "execution_count": 1,
   "id": "b7b4a8d7",
   "metadata": {},
   "outputs": [
    {
     "name": "stdout",
     "output_type": "stream",
     "text": [
      "Перечень знаков: + сложение, - вычитание, / деление, // целочисленное деление, abs модуль суммы чисел, ** возведение в степень.\n",
      "      Для выхода из программы введите знак не из перечня.\n",
      "      Введите два числа и знак коперации:\n",
      "-9\n",
      "4\n",
      "+\n",
      "-5\n",
      "-\n",
      "-13\n",
      "/\n",
      "-2.25\n",
      "//\n",
      "-3\n",
      "abs\n",
      "5\n",
      "**\n",
      "6561\n",
      "=\n",
      "Операция не определена.\n"
     ]
    }
   ],
   "source": [
    "print('''Перечень знаков: + сложение, - вычитание, / деление, // целочисленное деление, abs модуль суммы чисел, ** возведение в степень.\n",
    "      Для выхода из программы введите знак не из перечня.\n",
    "      Введите два числа и знак коперации:''')\n",
    "a = int(input())\n",
    "b = int(input())\n",
    "while True:\n",
    "    sign = input()\n",
    "    if sign == '+':\n",
    "        res = a + b\n",
    "    elif sign == '-':\n",
    "        res = a - b\n",
    "    elif sign == '/':\n",
    "        res = a / b\n",
    "    elif sign == '//':\n",
    "        res = a // b\n",
    "    elif sign == 'abs':\n",
    "        res = abs(a + b)\n",
    "    elif sign == '**':\n",
    "        res = a ** b\n",
    "    else:\n",
    "        print('Операция не определена.')\n",
    "        break\n",
    "    print(res)"
   ]
  },
  {
   "cell_type": "code",
   "execution_count": null,
   "id": "ad246b25",
   "metadata": {},
   "outputs": [],
   "source": []
  }
 ],
 "metadata": {
  "kernelspec": {
   "display_name": "Python 3 (ipykernel)",
   "language": "python",
   "name": "python3"
  },
  "language_info": {
   "codemirror_mode": {
    "name": "ipython",
    "version": 3
   },
   "file_extension": ".py",
   "mimetype": "text/x-python",
   "name": "python",
   "nbconvert_exporter": "python",
   "pygments_lexer": "ipython3",
   "version": "3.11.4"
  }
 },
 "nbformat": 4,
 "nbformat_minor": 5
}
