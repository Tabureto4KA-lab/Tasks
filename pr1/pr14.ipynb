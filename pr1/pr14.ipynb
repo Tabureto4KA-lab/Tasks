{
 "cells": [
  {
   "cell_type": "code",
   "execution_count": 3,
   "id": "d99f8ab1",
   "metadata": {},
   "outputs": [
    {
     "name": "stdout",
     "output_type": "stream",
     "text": [
      "Введите длину последовательности. 17\n",
      "1 2 2 3 3 3 4 4 4 4 5 5 5 5 5 6 6\n"
     ]
    }
   ],
   "source": [
    "N = int(input('Введите длину последовательности. '))\n",
    "l = []\n",
    "for i in range(1, N+1):\n",
    "    for j in range(1, i+1):\n",
    "        if len(l) >= N: break\n",
    "        l.append(i)\n",
    "print(*l)"
   ]
  },
  {
   "cell_type": "code",
   "execution_count": null,
   "id": "d7e6de38",
   "metadata": {},
   "outputs": [],
   "source": []
  }
 ],
 "metadata": {
  "kernelspec": {
   "display_name": "Python 3 (ipykernel)",
   "language": "python",
   "name": "python3"
  },
  "language_info": {
   "codemirror_mode": {
    "name": "ipython",
    "version": 3
   },
   "file_extension": ".py",
   "mimetype": "text/x-python",
   "name": "python",
   "nbconvert_exporter": "python",
   "pygments_lexer": "ipython3",
   "version": "3.11.4"
  }
 },
 "nbformat": 4,
 "nbformat_minor": 5
}
