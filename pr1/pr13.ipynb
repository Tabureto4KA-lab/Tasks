{
 "cells": [
  {
   "cell_type": "code",
   "execution_count": 11,
   "id": "34d0ad51",
   "metadata": {},
   "outputs": [],
   "source": [
    "l = []\n",
    "sum1 = 0\n",
    "sum2 = 0"
   ]
  },
  {
   "cell_type": "code",
   "execution_count": 12,
   "id": "bda3152d",
   "metadata": {},
   "outputs": [
    {
     "name": "stdout",
     "output_type": "stream",
     "text": [
      "Вводите числа, пока их сумма не будет равна 0\n",
      "1\n",
      "2\n",
      "3\n",
      "-4\n",
      "5\n",
      "-10\n",
      "0\n",
      "4\n",
      "-1\n"
     ]
    }
   ],
   "source": [
    "print('Вводите числа, пока их сумма не будет равна 0')\n",
    "while True:\n",
    "    a = int(input())\n",
    "    l.append(a)\n",
    "    sum1 += a\n",
    "    if sum1 == 0:\n",
    "        break"
   ]
  },
  {
   "cell_type": "code",
   "execution_count": 13,
   "id": "814284e5",
   "metadata": {},
   "outputs": [],
   "source": [
    "for i in l:\n",
    "    sum2 += i**2"
   ]
  },
  {
   "cell_type": "code",
   "execution_count": 14,
   "id": "72b5e0a6",
   "metadata": {},
   "outputs": [
    {
     "name": "stdout",
     "output_type": "stream",
     "text": [
      "172\n"
     ]
    }
   ],
   "source": [
    "print(sum2)"
   ]
  },
  {
   "cell_type": "code",
   "execution_count": null,
   "id": "d5d61acd",
   "metadata": {},
   "outputs": [],
   "source": []
  },
  {
   "cell_type": "code",
   "execution_count": null,
   "id": "71858aa7",
   "metadata": {},
   "outputs": [],
   "source": []
  },
  {
   "cell_type": "code",
   "execution_count": null,
   "id": "dcf6fff5",
   "metadata": {},
   "outputs": [],
   "source": []
  },
  {
   "cell_type": "code",
   "execution_count": null,
   "id": "c4a16635",
   "metadata": {},
   "outputs": [],
   "source": []
  },
  {
   "cell_type": "code",
   "execution_count": null,
   "id": "31418d26",
   "metadata": {},
   "outputs": [],
   "source": []
  }
 ],
 "metadata": {
  "kernelspec": {
   "display_name": "Python 3 (ipykernel)",
   "language": "python",
   "name": "python3"
  },
  "language_info": {
   "codemirror_mode": {
    "name": "ipython",
    "version": 3
   },
   "file_extension": ".py",
   "mimetype": "text/x-python",
   "name": "python",
   "nbconvert_exporter": "python",
   "pygments_lexer": "ipython3",
   "version": "3.11.4"
  }
 },
 "nbformat": 4,
 "nbformat_minor": 5
}
