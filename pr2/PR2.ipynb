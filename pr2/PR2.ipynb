{
 "cells": [
  {
   "cell_type": "code",
   "execution_count": 2,
   "id": "d518782a",
   "metadata": {
    "scrolled": true
   },
   "outputs": [],
   "source": [
    "import pandas as pd\n",
    "import numpy as np\n",
    "import plotly\n",
    "import plotly.graph_objs as go\n",
    "import matplotlib as mpl\n",
    "import matplotlib.pyplot as plt\n",
    "import seaborn as sns"
   ]
  },
  {
   "cell_type": "code",
   "execution_count": 21,
   "id": "f807f541",
   "metadata": {},
   "outputs": [],
   "source": [
    "#1\n",
    "data = pd.read_csv('vgsales.csv', sep = ',')"
   ]
  },
  {
   "cell_type": "code",
   "execution_count": 22,
   "id": "9cc18c81",
   "metadata": {},
   "outputs": [
    {
     "name": "stdout",
     "output_type": "stream",
     "text": [
      "<class 'pandas.core.frame.DataFrame'>\n",
      "RangeIndex: 16598 entries, 0 to 16597\n",
      "Data columns (total 11 columns):\n",
      " #   Column        Non-Null Count  Dtype  \n",
      "---  ------        --------------  -----  \n",
      " 0   Rank          16598 non-null  int64  \n",
      " 1   Name          16598 non-null  object \n",
      " 2   Platform      16598 non-null  object \n",
      " 3   Year          16327 non-null  float64\n",
      " 4   Genre         16598 non-null  object \n",
      " 5   Publisher     16540 non-null  object \n",
      " 6   NA_Sales      16598 non-null  float64\n",
      " 7   EU_Sales      16598 non-null  float64\n",
      " 8   JP_Sales      16598 non-null  float64\n",
      " 9   Other_Sales   16598 non-null  float64\n",
      " 10  Global_Sales  16598 non-null  float64\n",
      "dtypes: float64(6), int64(1), object(4)\n",
      "memory usage: 1.4+ MB\n"
     ]
    },
    {
     "data": {
      "text/html": [
       "<div>\n",
       "<style scoped>\n",
       "    .dataframe tbody tr th:only-of-type {\n",
       "        vertical-align: middle;\n",
       "    }\n",
       "\n",
       "    .dataframe tbody tr th {\n",
       "        vertical-align: top;\n",
       "    }\n",
       "\n",
       "    .dataframe thead th {\n",
       "        text-align: right;\n",
       "    }\n",
       "</style>\n",
       "<table border=\"1\" class=\"dataframe\">\n",
       "  <thead>\n",
       "    <tr style=\"text-align: right;\">\n",
       "      <th></th>\n",
       "      <th>Rank</th>\n",
       "      <th>Name</th>\n",
       "      <th>Platform</th>\n",
       "      <th>Year</th>\n",
       "      <th>Genre</th>\n",
       "      <th>Publisher</th>\n",
       "      <th>NA_Sales</th>\n",
       "      <th>EU_Sales</th>\n",
       "      <th>JP_Sales</th>\n",
       "      <th>Other_Sales</th>\n",
       "      <th>Global_Sales</th>\n",
       "    </tr>\n",
       "  </thead>\n",
       "  <tbody>\n",
       "    <tr>\n",
       "      <th>0</th>\n",
       "      <td>1</td>\n",
       "      <td>Wii Sports</td>\n",
       "      <td>Wii</td>\n",
       "      <td>2006.0</td>\n",
       "      <td>Sports</td>\n",
       "      <td>Nintendo</td>\n",
       "      <td>41.49</td>\n",
       "      <td>29.02</td>\n",
       "      <td>3.77</td>\n",
       "      <td>8.46</td>\n",
       "      <td>82.74</td>\n",
       "    </tr>\n",
       "    <tr>\n",
       "      <th>1</th>\n",
       "      <td>2</td>\n",
       "      <td>Super Mario Bros.</td>\n",
       "      <td>NES</td>\n",
       "      <td>1985.0</td>\n",
       "      <td>Platform</td>\n",
       "      <td>Nintendo</td>\n",
       "      <td>29.08</td>\n",
       "      <td>3.58</td>\n",
       "      <td>6.81</td>\n",
       "      <td>0.77</td>\n",
       "      <td>40.24</td>\n",
       "    </tr>\n",
       "    <tr>\n",
       "      <th>2</th>\n",
       "      <td>3</td>\n",
       "      <td>Mario Kart Wii</td>\n",
       "      <td>Wii</td>\n",
       "      <td>2008.0</td>\n",
       "      <td>Racing</td>\n",
       "      <td>Nintendo</td>\n",
       "      <td>15.85</td>\n",
       "      <td>12.88</td>\n",
       "      <td>3.79</td>\n",
       "      <td>3.31</td>\n",
       "      <td>35.82</td>\n",
       "    </tr>\n",
       "    <tr>\n",
       "      <th>3</th>\n",
       "      <td>4</td>\n",
       "      <td>Wii Sports Resort</td>\n",
       "      <td>Wii</td>\n",
       "      <td>2009.0</td>\n",
       "      <td>Sports</td>\n",
       "      <td>Nintendo</td>\n",
       "      <td>15.75</td>\n",
       "      <td>11.01</td>\n",
       "      <td>3.28</td>\n",
       "      <td>2.96</td>\n",
       "      <td>33.00</td>\n",
       "    </tr>\n",
       "    <tr>\n",
       "      <th>4</th>\n",
       "      <td>5</td>\n",
       "      <td>Pokemon Red/Pokemon Blue</td>\n",
       "      <td>GB</td>\n",
       "      <td>1996.0</td>\n",
       "      <td>Role-Playing</td>\n",
       "      <td>Nintendo</td>\n",
       "      <td>11.27</td>\n",
       "      <td>8.89</td>\n",
       "      <td>10.22</td>\n",
       "      <td>1.00</td>\n",
       "      <td>31.37</td>\n",
       "    </tr>\n",
       "  </tbody>\n",
       "</table>\n",
       "</div>"
      ],
      "text/plain": [
       "   Rank                      Name Platform    Year         Genre Publisher  \\\n",
       "0     1                Wii Sports      Wii  2006.0        Sports  Nintendo   \n",
       "1     2         Super Mario Bros.      NES  1985.0      Platform  Nintendo   \n",
       "2     3            Mario Kart Wii      Wii  2008.0        Racing  Nintendo   \n",
       "3     4         Wii Sports Resort      Wii  2009.0        Sports  Nintendo   \n",
       "4     5  Pokemon Red/Pokemon Blue       GB  1996.0  Role-Playing  Nintendo   \n",
       "\n",
       "   NA_Sales  EU_Sales  JP_Sales  Other_Sales  Global_Sales  \n",
       "0     41.49     29.02      3.77         8.46         82.74  \n",
       "1     29.08      3.58      6.81         0.77         40.24  \n",
       "2     15.85     12.88      3.79         3.31         35.82  \n",
       "3     15.75     11.01      3.28         2.96         33.00  \n",
       "4     11.27      8.89     10.22         1.00         31.37  "
      ]
     },
     "execution_count": 22,
     "metadata": {},
     "output_type": "execute_result"
    }
   ],
   "source": [
    "#2\n",
    "data.info()\n",
    "data.head()"
   ]
  },
  {
   "cell_type": "code",
   "execution_count": 23,
   "id": "73a1bccb",
   "metadata": {
    "scrolled": true
   },
   "outputs": [
    {
     "data": {
      "text/plain": [
       "Rank              0\n",
       "Name              0\n",
       "Platform          0\n",
       "Year            271\n",
       "Genre             0\n",
       "Publisher        58\n",
       "NA_Sales          0\n",
       "EU_Sales          0\n",
       "JP_Sales          0\n",
       "Other_Sales       0\n",
       "Global_Sales      0\n",
       "dtype: int64"
      ]
     },
     "execution_count": 23,
     "metadata": {},
     "output_type": "execute_result"
    }
   ],
   "source": [
    "data.isna().sum()"
   ]
  },
  {
   "cell_type": "code",
   "execution_count": 25,
   "metadata": {},
   "outputs": [
    {
     "data": {
      "text/html": [
       "<div>\n",
       "<style scoped>\n",
       "    .dataframe tbody tr th:only-of-type {\n",
       "        vertical-align: middle;\n",
       "    }\n",
       "\n",
       "    .dataframe tbody tr th {\n",
       "        vertical-align: top;\n",
       "    }\n",
       "\n",
       "    .dataframe thead th {\n",
       "        text-align: right;\n",
       "    }\n",
       "</style>\n",
       "<table border=\"1\" class=\"dataframe\">\n",
       "  <thead>\n",
       "    <tr style=\"text-align: right;\">\n",
       "      <th></th>\n",
       "      <th>Rank</th>\n",
       "      <th>Name</th>\n",
       "      <th>Platform</th>\n",
       "      <th>Genre</th>\n",
       "      <th>NA_Sales</th>\n",
       "      <th>EU_Sales</th>\n",
       "      <th>JP_Sales</th>\n",
       "      <th>Other_Sales</th>\n",
       "      <th>Global_Sales</th>\n",
       "    </tr>\n",
       "  </thead>\n",
       "  <tbody>\n",
       "    <tr>\n",
       "      <th>0</th>\n",
       "      <td>1</td>\n",
       "      <td>Wii Sports</td>\n",
       "      <td>Wii</td>\n",
       "      <td>Sports</td>\n",
       "      <td>41.49</td>\n",
       "      <td>29.02</td>\n",
       "      <td>3.77</td>\n",
       "      <td>8.46</td>\n",
       "      <td>82.74</td>\n",
       "    </tr>\n",
       "    <tr>\n",
       "      <th>1</th>\n",
       "      <td>2</td>\n",
       "      <td>Super Mario Bros.</td>\n",
       "      <td>NES</td>\n",
       "      <td>Platform</td>\n",
       "      <td>29.08</td>\n",
       "      <td>3.58</td>\n",
       "      <td>6.81</td>\n",
       "      <td>0.77</td>\n",
       "      <td>40.24</td>\n",
       "    </tr>\n",
       "    <tr>\n",
       "      <th>2</th>\n",
       "      <td>3</td>\n",
       "      <td>Mario Kart Wii</td>\n",
       "      <td>Wii</td>\n",
       "      <td>Racing</td>\n",
       "      <td>15.85</td>\n",
       "      <td>12.88</td>\n",
       "      <td>3.79</td>\n",
       "      <td>3.31</td>\n",
       "      <td>35.82</td>\n",
       "    </tr>\n",
       "    <tr>\n",
       "      <th>3</th>\n",
       "      <td>4</td>\n",
       "      <td>Wii Sports Resort</td>\n",
       "      <td>Wii</td>\n",
       "      <td>Sports</td>\n",
       "      <td>15.75</td>\n",
       "      <td>11.01</td>\n",
       "      <td>3.28</td>\n",
       "      <td>2.96</td>\n",
       "      <td>33.00</td>\n",
       "    </tr>\n",
       "    <tr>\n",
       "      <th>4</th>\n",
       "      <td>5</td>\n",
       "      <td>Pokemon Red/Pokemon Blue</td>\n",
       "      <td>GB</td>\n",
       "      <td>Role-Playing</td>\n",
       "      <td>11.27</td>\n",
       "      <td>8.89</td>\n",
       "      <td>10.22</td>\n",
       "      <td>1.00</td>\n",
       "      <td>31.37</td>\n",
       "    </tr>\n",
       "    <tr>\n",
       "      <th>...</th>\n",
       "      <td>...</td>\n",
       "      <td>...</td>\n",
       "      <td>...</td>\n",
       "      <td>...</td>\n",
       "      <td>...</td>\n",
       "      <td>...</td>\n",
       "      <td>...</td>\n",
       "      <td>...</td>\n",
       "      <td>...</td>\n",
       "    </tr>\n",
       "    <tr>\n",
       "      <th>16593</th>\n",
       "      <td>16596</td>\n",
       "      <td>Woody Woodpecker in Crazy Castle 5</td>\n",
       "      <td>GBA</td>\n",
       "      <td>Platform</td>\n",
       "      <td>0.01</td>\n",
       "      <td>0.00</td>\n",
       "      <td>0.00</td>\n",
       "      <td>0.00</td>\n",
       "      <td>0.01</td>\n",
       "    </tr>\n",
       "    <tr>\n",
       "      <th>16594</th>\n",
       "      <td>16597</td>\n",
       "      <td>Men in Black II: Alien Escape</td>\n",
       "      <td>GC</td>\n",
       "      <td>Shooter</td>\n",
       "      <td>0.01</td>\n",
       "      <td>0.00</td>\n",
       "      <td>0.00</td>\n",
       "      <td>0.00</td>\n",
       "      <td>0.01</td>\n",
       "    </tr>\n",
       "    <tr>\n",
       "      <th>16595</th>\n",
       "      <td>16598</td>\n",
       "      <td>SCORE International Baja 1000: The Official Game</td>\n",
       "      <td>PS2</td>\n",
       "      <td>Racing</td>\n",
       "      <td>0.00</td>\n",
       "      <td>0.00</td>\n",
       "      <td>0.00</td>\n",
       "      <td>0.00</td>\n",
       "      <td>0.01</td>\n",
       "    </tr>\n",
       "    <tr>\n",
       "      <th>16596</th>\n",
       "      <td>16599</td>\n",
       "      <td>Know How 2</td>\n",
       "      <td>DS</td>\n",
       "      <td>Puzzle</td>\n",
       "      <td>0.00</td>\n",
       "      <td>0.01</td>\n",
       "      <td>0.00</td>\n",
       "      <td>0.00</td>\n",
       "      <td>0.01</td>\n",
       "    </tr>\n",
       "    <tr>\n",
       "      <th>16597</th>\n",
       "      <td>16600</td>\n",
       "      <td>Spirits &amp; Spells</td>\n",
       "      <td>GBA</td>\n",
       "      <td>Platform</td>\n",
       "      <td>0.01</td>\n",
       "      <td>0.00</td>\n",
       "      <td>0.00</td>\n",
       "      <td>0.00</td>\n",
       "      <td>0.01</td>\n",
       "    </tr>\n",
       "  </tbody>\n",
       "</table>\n",
       "<p>16598 rows × 9 columns</p>\n",
       "</div>"
      ],
      "text/plain": [
       "        Rank                                              Name Platform  \\\n",
       "0          1                                        Wii Sports      Wii   \n",
       "1          2                                 Super Mario Bros.      NES   \n",
       "2          3                                    Mario Kart Wii      Wii   \n",
       "3          4                                 Wii Sports Resort      Wii   \n",
       "4          5                          Pokemon Red/Pokemon Blue       GB   \n",
       "...      ...                                               ...      ...   \n",
       "16593  16596                Woody Woodpecker in Crazy Castle 5      GBA   \n",
       "16594  16597                     Men in Black II: Alien Escape       GC   \n",
       "16595  16598  SCORE International Baja 1000: The Official Game      PS2   \n",
       "16596  16599                                        Know How 2       DS   \n",
       "16597  16600                                  Spirits & Spells      GBA   \n",
       "\n",
       "              Genre  NA_Sales  EU_Sales  JP_Sales  Other_Sales  Global_Sales  \n",
       "0            Sports     41.49     29.02      3.77         8.46         82.74  \n",
       "1          Platform     29.08      3.58      6.81         0.77         40.24  \n",
       "2            Racing     15.85     12.88      3.79         3.31         35.82  \n",
       "3            Sports     15.75     11.01      3.28         2.96         33.00  \n",
       "4      Role-Playing     11.27      8.89     10.22         1.00         31.37  \n",
       "...             ...       ...       ...       ...          ...           ...  \n",
       "16593      Platform      0.01      0.00      0.00         0.00          0.01  \n",
       "16594       Shooter      0.01      0.00      0.00         0.00          0.01  \n",
       "16595        Racing      0.00      0.00      0.00         0.00          0.01  \n",
       "16596        Puzzle      0.00      0.01      0.00         0.00          0.01  \n",
       "16597      Platform      0.01      0.00      0.00         0.00          0.01  \n",
       "\n",
       "[16598 rows x 9 columns]"
      ]
     },
     "execution_count": 25,
     "metadata": {},
     "output_type": "execute_result"
    }
   ],
   "source": [
    "data.dropna(axis='columns')\n"
   ]
  },
  {
   "cell_type": "code",
   "execution_count": 39,
   "metadata": {},
   "outputs": [],
   "source": [
    "data = data[(data.NA_Sales > 0.5) & (data.EU_Sales > 0.5) & (data.JP_Sales > 0.5)]"
   ]
  },
  {
   "cell_type": "code",
   "execution_count": 40,
   "metadata": {},
   "outputs": [
    {
     "data": {
      "text/plain": [
       "Rank            0\n",
       "Name            0\n",
       "Platform        0\n",
       "Year            0\n",
       "Genre           0\n",
       "Publisher       0\n",
       "NA_Sales        0\n",
       "EU_Sales        0\n",
       "JP_Sales        0\n",
       "Other_Sales     0\n",
       "Global_Sales    0\n",
       "dtype: int64"
      ]
     },
     "execution_count": 40,
     "metadata": {},
     "output_type": "execute_result"
    }
   ],
   "source": [
    "data.isna().sum()"
   ]
  },
  {
   "cell_type": "code",
   "execution_count": 41,
   "metadata": {},
   "outputs": [
    {
     "data": {
      "text/html": [
       "<div>\n",
       "<style scoped>\n",
       "    .dataframe tbody tr th:only-of-type {\n",
       "        vertical-align: middle;\n",
       "    }\n",
       "\n",
       "    .dataframe tbody tr th {\n",
       "        vertical-align: top;\n",
       "    }\n",
       "\n",
       "    .dataframe thead th {\n",
       "        text-align: right;\n",
       "    }\n",
       "</style>\n",
       "<table border=\"1\" class=\"dataframe\">\n",
       "  <thead>\n",
       "    <tr style=\"text-align: right;\">\n",
       "      <th></th>\n",
       "      <th>Rank</th>\n",
       "      <th>Name</th>\n",
       "      <th>Platform</th>\n",
       "      <th>Year</th>\n",
       "      <th>Genre</th>\n",
       "      <th>Publisher</th>\n",
       "      <th>NA_Sales</th>\n",
       "      <th>EU_Sales</th>\n",
       "      <th>JP_Sales</th>\n",
       "      <th>Other_Sales</th>\n",
       "      <th>Global_Sales</th>\n",
       "    </tr>\n",
       "  </thead>\n",
       "  <tbody>\n",
       "    <tr>\n",
       "      <th>0</th>\n",
       "      <td>1</td>\n",
       "      <td>Wii Sports</td>\n",
       "      <td>Wii</td>\n",
       "      <td>2006.0</td>\n",
       "      <td>Sports</td>\n",
       "      <td>Nintendo</td>\n",
       "      <td>41.49</td>\n",
       "      <td>29.02</td>\n",
       "      <td>3.77</td>\n",
       "      <td>8.46</td>\n",
       "      <td>82.74</td>\n",
       "    </tr>\n",
       "    <tr>\n",
       "      <th>1</th>\n",
       "      <td>2</td>\n",
       "      <td>Super Mario Bros.</td>\n",
       "      <td>NES</td>\n",
       "      <td>1985.0</td>\n",
       "      <td>Platform</td>\n",
       "      <td>Nintendo</td>\n",
       "      <td>29.08</td>\n",
       "      <td>3.58</td>\n",
       "      <td>6.81</td>\n",
       "      <td>0.77</td>\n",
       "      <td>40.24</td>\n",
       "    </tr>\n",
       "    <tr>\n",
       "      <th>2</th>\n",
       "      <td>3</td>\n",
       "      <td>Mario Kart Wii</td>\n",
       "      <td>Wii</td>\n",
       "      <td>2008.0</td>\n",
       "      <td>Racing</td>\n",
       "      <td>Nintendo</td>\n",
       "      <td>15.85</td>\n",
       "      <td>12.88</td>\n",
       "      <td>3.79</td>\n",
       "      <td>3.31</td>\n",
       "      <td>35.82</td>\n",
       "    </tr>\n",
       "    <tr>\n",
       "      <th>3</th>\n",
       "      <td>4</td>\n",
       "      <td>Wii Sports Resort</td>\n",
       "      <td>Wii</td>\n",
       "      <td>2009.0</td>\n",
       "      <td>Sports</td>\n",
       "      <td>Nintendo</td>\n",
       "      <td>15.75</td>\n",
       "      <td>11.01</td>\n",
       "      <td>3.28</td>\n",
       "      <td>2.96</td>\n",
       "      <td>33.00</td>\n",
       "    </tr>\n",
       "    <tr>\n",
       "      <th>4</th>\n",
       "      <td>5</td>\n",
       "      <td>Pokemon Red/Pokemon Blue</td>\n",
       "      <td>GB</td>\n",
       "      <td>1996.0</td>\n",
       "      <td>Role-Playing</td>\n",
       "      <td>Nintendo</td>\n",
       "      <td>11.27</td>\n",
       "      <td>8.89</td>\n",
       "      <td>10.22</td>\n",
       "      <td>1.00</td>\n",
       "      <td>31.37</td>\n",
       "    </tr>\n",
       "    <tr>\n",
       "      <th>...</th>\n",
       "      <td>...</td>\n",
       "      <td>...</td>\n",
       "      <td>...</td>\n",
       "      <td>...</td>\n",
       "      <td>...</td>\n",
       "      <td>...</td>\n",
       "      <td>...</td>\n",
       "      <td>...</td>\n",
       "      <td>...</td>\n",
       "      <td>...</td>\n",
       "      <td>...</td>\n",
       "    </tr>\n",
       "    <tr>\n",
       "      <th>719</th>\n",
       "      <td>721</td>\n",
       "      <td>Dissidia: Final Fantasy</td>\n",
       "      <td>PSP</td>\n",
       "      <td>2008.0</td>\n",
       "      <td>Fighting</td>\n",
       "      <td>Square Enix</td>\n",
       "      <td>0.51</td>\n",
       "      <td>0.51</td>\n",
       "      <td>0.91</td>\n",
       "      <td>0.32</td>\n",
       "      <td>2.25</td>\n",
       "    </tr>\n",
       "    <tr>\n",
       "      <th>811</th>\n",
       "      <td>813</td>\n",
       "      <td>Dark Souls</td>\n",
       "      <td>PS3</td>\n",
       "      <td>2011.0</td>\n",
       "      <td>Role-Playing</td>\n",
       "      <td>Namco Bandai Games</td>\n",
       "      <td>0.75</td>\n",
       "      <td>0.54</td>\n",
       "      <td>0.54</td>\n",
       "      <td>0.23</td>\n",
       "      <td>2.07</td>\n",
       "    </tr>\n",
       "    <tr>\n",
       "      <th>816</th>\n",
       "      <td>818</td>\n",
       "      <td>Pokemon Mystery Dungeon: Red/Blue Rescue Team</td>\n",
       "      <td>GBA</td>\n",
       "      <td>2005.0</td>\n",
       "      <td>Role-Playing</td>\n",
       "      <td>Nintendo</td>\n",
       "      <td>0.71</td>\n",
       "      <td>0.52</td>\n",
       "      <td>0.74</td>\n",
       "      <td>0.08</td>\n",
       "      <td>2.06</td>\n",
       "    </tr>\n",
       "    <tr>\n",
       "      <th>862</th>\n",
       "      <td>864</td>\n",
       "      <td>Devil May Cry 2</td>\n",
       "      <td>PS2</td>\n",
       "      <td>2003.0</td>\n",
       "      <td>Action</td>\n",
       "      <td>Capcom</td>\n",
       "      <td>0.71</td>\n",
       "      <td>0.58</td>\n",
       "      <td>0.51</td>\n",
       "      <td>0.17</td>\n",
       "      <td>1.97</td>\n",
       "    </tr>\n",
       "    <tr>\n",
       "      <th>934</th>\n",
       "      <td>936</td>\n",
       "      <td>Mario Party: Island Tour</td>\n",
       "      <td>3DS</td>\n",
       "      <td>2013.0</td>\n",
       "      <td>Misc</td>\n",
       "      <td>Nintendo</td>\n",
       "      <td>0.61</td>\n",
       "      <td>0.59</td>\n",
       "      <td>0.55</td>\n",
       "      <td>0.11</td>\n",
       "      <td>1.85</td>\n",
       "    </tr>\n",
       "  </tbody>\n",
       "</table>\n",
       "<p>166 rows × 11 columns</p>\n",
       "</div>"
      ],
      "text/plain": [
       "     Rank                                           Name Platform    Year  \\\n",
       "0       1                                     Wii Sports      Wii  2006.0   \n",
       "1       2                              Super Mario Bros.      NES  1985.0   \n",
       "2       3                                 Mario Kart Wii      Wii  2008.0   \n",
       "3       4                              Wii Sports Resort      Wii  2009.0   \n",
       "4       5                       Pokemon Red/Pokemon Blue       GB  1996.0   \n",
       "..    ...                                            ...      ...     ...   \n",
       "719   721                        Dissidia: Final Fantasy      PSP  2008.0   \n",
       "811   813                                     Dark Souls      PS3  2011.0   \n",
       "816   818  Pokemon Mystery Dungeon: Red/Blue Rescue Team      GBA  2005.0   \n",
       "862   864                                Devil May Cry 2      PS2  2003.0   \n",
       "934   936                       Mario Party: Island Tour      3DS  2013.0   \n",
       "\n",
       "            Genre           Publisher  NA_Sales  EU_Sales  JP_Sales  \\\n",
       "0          Sports            Nintendo     41.49     29.02      3.77   \n",
       "1        Platform            Nintendo     29.08      3.58      6.81   \n",
       "2          Racing            Nintendo     15.85     12.88      3.79   \n",
       "3          Sports            Nintendo     15.75     11.01      3.28   \n",
       "4    Role-Playing            Nintendo     11.27      8.89     10.22   \n",
       "..            ...                 ...       ...       ...       ...   \n",
       "719      Fighting         Square Enix      0.51      0.51      0.91   \n",
       "811  Role-Playing  Namco Bandai Games      0.75      0.54      0.54   \n",
       "816  Role-Playing            Nintendo      0.71      0.52      0.74   \n",
       "862        Action              Capcom      0.71      0.58      0.51   \n",
       "934          Misc            Nintendo      0.61      0.59      0.55   \n",
       "\n",
       "     Other_Sales  Global_Sales  \n",
       "0           8.46         82.74  \n",
       "1           0.77         40.24  \n",
       "2           3.31         35.82  \n",
       "3           2.96         33.00  \n",
       "4           1.00         31.37  \n",
       "..           ...           ...  \n",
       "719         0.32          2.25  \n",
       "811         0.23          2.07  \n",
       "816         0.08          2.06  \n",
       "862         0.17          1.97  \n",
       "934         0.11          1.85  \n",
       "\n",
       "[166 rows x 11 columns]"
      ]
     },
     "execution_count": 41,
     "metadata": {},
     "output_type": "execute_result"
    }
   ],
   "source": [
    "data"
   ]
  },
  {
   "cell_type": "code",
   "execution_count": 44,
   "id": "84feac84",
   "metadata": {},
   "outputs": [
    {
     "data": {
      "application/vnd.plotly.v1+json": {
       "config": {
        "plotlyServerURL": "https://plot.ly"
       },
       "data": [
        {
         "marker": {
          "color": [
           6.81,
           1.69,
           6.35,
           10.399999999999999,
           6.54,
           1.15,
           14.42,
           2.92,
           6.19,
           4.73,
           17.77,
           9.64,
           13.69,
           19.73,
           5.31,
           10.89,
           9.2,
           5.02,
           10.07,
           24.59,
           22.33,
           16.47,
           16.53,
           23.09,
           11.88,
           7.58,
           13.530000000000001,
           9.57,
           7.57,
           2.37
          ],
          "colorbar": {
           "title": {
            "text": "Продажи игр"
           }
          },
          "colorscale": [
           [
            0,
            "rgb(200, 255, 0)"
           ],
           [
            0.5,
            "rgb(255, 127, 0)"
           ],
           [
            1,
            "rgb(255, 0, 0)"
           ]
          ],
          "line": {
           "color": "black",
           "width": 2
          }
         },
         "type": "bar",
         "x": [
          2006,
          1985,
          2008,
          2009,
          1996,
          1989,
          2006,
          2006,
          2009,
          2005,
          2005,
          1999,
          2007,
          2009,
          2013,
          1990,
          2005,
          2006,
          1989,
          1988,
          2002,
          2010,
          2005,
          2001,
          1998,
          2013,
          2012,
          2008,
          2005,
          2011,
          2009,
          1996,
          2007,
          2014,
          1992,
          1997,
          2011,
          2010,
          1993,
          2004,
          2004,
          1996,
          2012,
          1997,
          1999,
          1994,
          2012,
          2007,
          1992,
          2010,
          2007,
          2012,
          2007,
          2001,
          1999,
          2008,
          2010,
          1998,
          1997,
          1988,
          2014,
          2006,
          1998,
          1998,
          2001,
          2014,
          2003,
          1996,
          2005,
          2010,
          1986,
          2004,
          2002,
          2000,
          2002,
          1992,
          2001,
          2008,
          1998,
          2009,
          1998,
          1996,
          1988,
          1999,
          2001,
          2001,
          2001,
          1999,
          2009,
          1989,
          1999,
          2000,
          2003,
          1999,
          2007,
          2004,
          2003,
          2012,
          1994,
          2007,
          1995,
          2013,
          1992,
          2009,
          1996,
          2014,
          2007,
          1997,
          1990,
          2008,
          1991,
          2002,
          2013,
          2015,
          2005,
          2013,
          2011,
          2007,
          2009,
          1995,
          1992,
          2000,
          1997,
          2007,
          1994,
          2007,
          1992,
          2011,
          2007,
          1999,
          1998,
          1998,
          1999,
          2006,
          1990,
          2009,
          2000,
          2008,
          2002,
          2012,
          1995,
          2007,
          2015,
          2008,
          2012,
          2006,
          1994,
          1993,
          2001,
          2006,
          1990,
          1997,
          1992,
          1998,
          2011,
          2008,
          2010,
          2003,
          1998,
          2008,
          2001,
          2008,
          2011,
          2005,
          2003,
          2013
         ],
         "y": [
          6.81,
          1.69,
          6.35,
          10.399999999999999,
          6.54,
          1.15,
          14.42,
          2.92,
          6.19,
          4.73,
          17.77,
          9.64,
          13.69,
          19.73,
          5.31,
          10.89,
          9.2,
          5.02,
          10.07,
          24.59,
          22.33,
          16.47,
          16.53,
          23.09,
          11.88,
          7.58,
          13.530000000000001,
          9.57,
          7.57,
          2.37
         ]
        }
       ],
       "layout": {
        "height": 700,
        "template": {
         "data": {
          "bar": [
           {
            "error_x": {
             "color": "#2a3f5f"
            },
            "error_y": {
             "color": "#2a3f5f"
            },
            "marker": {
             "line": {
              "color": "#E5ECF6",
              "width": 0.5
             },
             "pattern": {
              "fillmode": "overlay",
              "size": 10,
              "solidity": 0.2
             }
            },
            "type": "bar"
           }
          ],
          "barpolar": [
           {
            "marker": {
             "line": {
              "color": "#E5ECF6",
              "width": 0.5
             },
             "pattern": {
              "fillmode": "overlay",
              "size": 10,
              "solidity": 0.2
             }
            },
            "type": "barpolar"
           }
          ],
          "carpet": [
           {
            "aaxis": {
             "endlinecolor": "#2a3f5f",
             "gridcolor": "white",
             "linecolor": "white",
             "minorgridcolor": "white",
             "startlinecolor": "#2a3f5f"
            },
            "baxis": {
             "endlinecolor": "#2a3f5f",
             "gridcolor": "white",
             "linecolor": "white",
             "minorgridcolor": "white",
             "startlinecolor": "#2a3f5f"
            },
            "type": "carpet"
           }
          ],
          "choropleth": [
           {
            "colorbar": {
             "outlinewidth": 0,
             "ticks": ""
            },
            "type": "choropleth"
           }
          ],
          "contour": [
           {
            "colorbar": {
             "outlinewidth": 0,
             "ticks": ""
            },
            "colorscale": [
             [
              0,
              "#0d0887"
             ],
             [
              0.1111111111111111,
              "#46039f"
             ],
             [
              0.2222222222222222,
              "#7201a8"
             ],
             [
              0.3333333333333333,
              "#9c179e"
             ],
             [
              0.4444444444444444,
              "#bd3786"
             ],
             [
              0.5555555555555556,
              "#d8576b"
             ],
             [
              0.6666666666666666,
              "#ed7953"
             ],
             [
              0.7777777777777778,
              "#fb9f3a"
             ],
             [
              0.8888888888888888,
              "#fdca26"
             ],
             [
              1,
              "#f0f921"
             ]
            ],
            "type": "contour"
           }
          ],
          "contourcarpet": [
           {
            "colorbar": {
             "outlinewidth": 0,
             "ticks": ""
            },
            "type": "contourcarpet"
           }
          ],
          "heatmap": [
           {
            "colorbar": {
             "outlinewidth": 0,
             "ticks": ""
            },
            "colorscale": [
             [
              0,
              "#0d0887"
             ],
             [
              0.1111111111111111,
              "#46039f"
             ],
             [
              0.2222222222222222,
              "#7201a8"
             ],
             [
              0.3333333333333333,
              "#9c179e"
             ],
             [
              0.4444444444444444,
              "#bd3786"
             ],
             [
              0.5555555555555556,
              "#d8576b"
             ],
             [
              0.6666666666666666,
              "#ed7953"
             ],
             [
              0.7777777777777778,
              "#fb9f3a"
             ],
             [
              0.8888888888888888,
              "#fdca26"
             ],
             [
              1,
              "#f0f921"
             ]
            ],
            "type": "heatmap"
           }
          ],
          "heatmapgl": [
           {
            "colorbar": {
             "outlinewidth": 0,
             "ticks": ""
            },
            "colorscale": [
             [
              0,
              "#0d0887"
             ],
             [
              0.1111111111111111,
              "#46039f"
             ],
             [
              0.2222222222222222,
              "#7201a8"
             ],
             [
              0.3333333333333333,
              "#9c179e"
             ],
             [
              0.4444444444444444,
              "#bd3786"
             ],
             [
              0.5555555555555556,
              "#d8576b"
             ],
             [
              0.6666666666666666,
              "#ed7953"
             ],
             [
              0.7777777777777778,
              "#fb9f3a"
             ],
             [
              0.8888888888888888,
              "#fdca26"
             ],
             [
              1,
              "#f0f921"
             ]
            ],
            "type": "heatmapgl"
           }
          ],
          "histogram": [
           {
            "marker": {
             "pattern": {
              "fillmode": "overlay",
              "size": 10,
              "solidity": 0.2
             }
            },
            "type": "histogram"
           }
          ],
          "histogram2d": [
           {
            "colorbar": {
             "outlinewidth": 0,
             "ticks": ""
            },
            "colorscale": [
             [
              0,
              "#0d0887"
             ],
             [
              0.1111111111111111,
              "#46039f"
             ],
             [
              0.2222222222222222,
              "#7201a8"
             ],
             [
              0.3333333333333333,
              "#9c179e"
             ],
             [
              0.4444444444444444,
              "#bd3786"
             ],
             [
              0.5555555555555556,
              "#d8576b"
             ],
             [
              0.6666666666666666,
              "#ed7953"
             ],
             [
              0.7777777777777778,
              "#fb9f3a"
             ],
             [
              0.8888888888888888,
              "#fdca26"
             ],
             [
              1,
              "#f0f921"
             ]
            ],
            "type": "histogram2d"
           }
          ],
          "histogram2dcontour": [
           {
            "colorbar": {
             "outlinewidth": 0,
             "ticks": ""
            },
            "colorscale": [
             [
              0,
              "#0d0887"
             ],
             [
              0.1111111111111111,
              "#46039f"
             ],
             [
              0.2222222222222222,
              "#7201a8"
             ],
             [
              0.3333333333333333,
              "#9c179e"
             ],
             [
              0.4444444444444444,
              "#bd3786"
             ],
             [
              0.5555555555555556,
              "#d8576b"
             ],
             [
              0.6666666666666666,
              "#ed7953"
             ],
             [
              0.7777777777777778,
              "#fb9f3a"
             ],
             [
              0.8888888888888888,
              "#fdca26"
             ],
             [
              1,
              "#f0f921"
             ]
            ],
            "type": "histogram2dcontour"
           }
          ],
          "mesh3d": [
           {
            "colorbar": {
             "outlinewidth": 0,
             "ticks": ""
            },
            "type": "mesh3d"
           }
          ],
          "parcoords": [
           {
            "line": {
             "colorbar": {
              "outlinewidth": 0,
              "ticks": ""
             }
            },
            "type": "parcoords"
           }
          ],
          "pie": [
           {
            "automargin": true,
            "type": "pie"
           }
          ],
          "scatter": [
           {
            "fillpattern": {
             "fillmode": "overlay",
             "size": 10,
             "solidity": 0.2
            },
            "type": "scatter"
           }
          ],
          "scatter3d": [
           {
            "line": {
             "colorbar": {
              "outlinewidth": 0,
              "ticks": ""
             }
            },
            "marker": {
             "colorbar": {
              "outlinewidth": 0,
              "ticks": ""
             }
            },
            "type": "scatter3d"
           }
          ],
          "scattercarpet": [
           {
            "marker": {
             "colorbar": {
              "outlinewidth": 0,
              "ticks": ""
             }
            },
            "type": "scattercarpet"
           }
          ],
          "scattergeo": [
           {
            "marker": {
             "colorbar": {
              "outlinewidth": 0,
              "ticks": ""
             }
            },
            "type": "scattergeo"
           }
          ],
          "scattergl": [
           {
            "marker": {
             "colorbar": {
              "outlinewidth": 0,
              "ticks": ""
             }
            },
            "type": "scattergl"
           }
          ],
          "scattermapbox": [
           {
            "marker": {
             "colorbar": {
              "outlinewidth": 0,
              "ticks": ""
             }
            },
            "type": "scattermapbox"
           }
          ],
          "scatterpolar": [
           {
            "marker": {
             "colorbar": {
              "outlinewidth": 0,
              "ticks": ""
             }
            },
            "type": "scatterpolar"
           }
          ],
          "scatterpolargl": [
           {
            "marker": {
             "colorbar": {
              "outlinewidth": 0,
              "ticks": ""
             }
            },
            "type": "scatterpolargl"
           }
          ],
          "scatterternary": [
           {
            "marker": {
             "colorbar": {
              "outlinewidth": 0,
              "ticks": ""
             }
            },
            "type": "scatterternary"
           }
          ],
          "surface": [
           {
            "colorbar": {
             "outlinewidth": 0,
             "ticks": ""
            },
            "colorscale": [
             [
              0,
              "#0d0887"
             ],
             [
              0.1111111111111111,
              "#46039f"
             ],
             [
              0.2222222222222222,
              "#7201a8"
             ],
             [
              0.3333333333333333,
              "#9c179e"
             ],
             [
              0.4444444444444444,
              "#bd3786"
             ],
             [
              0.5555555555555556,
              "#d8576b"
             ],
             [
              0.6666666666666666,
              "#ed7953"
             ],
             [
              0.7777777777777778,
              "#fb9f3a"
             ],
             [
              0.8888888888888888,
              "#fdca26"
             ],
             [
              1,
              "#f0f921"
             ]
            ],
            "type": "surface"
           }
          ],
          "table": [
           {
            "cells": {
             "fill": {
              "color": "#EBF0F8"
             },
             "line": {
              "color": "white"
             }
            },
            "header": {
             "fill": {
              "color": "#C8D4E3"
             },
             "line": {
              "color": "white"
             }
            },
            "type": "table"
           }
          ]
         },
         "layout": {
          "annotationdefaults": {
           "arrowcolor": "#2a3f5f",
           "arrowhead": 0,
           "arrowwidth": 1
          },
          "autotypenumbers": "strict",
          "coloraxis": {
           "colorbar": {
            "outlinewidth": 0,
            "ticks": ""
           }
          },
          "colorscale": {
           "diverging": [
            [
             0,
             "#8e0152"
            ],
            [
             0.1,
             "#c51b7d"
            ],
            [
             0.2,
             "#de77ae"
            ],
            [
             0.3,
             "#f1b6da"
            ],
            [
             0.4,
             "#fde0ef"
            ],
            [
             0.5,
             "#f7f7f7"
            ],
            [
             0.6,
             "#e6f5d0"
            ],
            [
             0.7,
             "#b8e186"
            ],
            [
             0.8,
             "#7fbc41"
            ],
            [
             0.9,
             "#4d9221"
            ],
            [
             1,
             "#276419"
            ]
           ],
           "sequential": [
            [
             0,
             "#0d0887"
            ],
            [
             0.1111111111111111,
             "#46039f"
            ],
            [
             0.2222222222222222,
             "#7201a8"
            ],
            [
             0.3333333333333333,
             "#9c179e"
            ],
            [
             0.4444444444444444,
             "#bd3786"
            ],
            [
             0.5555555555555556,
             "#d8576b"
            ],
            [
             0.6666666666666666,
             "#ed7953"
            ],
            [
             0.7777777777777778,
             "#fb9f3a"
            ],
            [
             0.8888888888888888,
             "#fdca26"
            ],
            [
             1,
             "#f0f921"
            ]
           ],
           "sequentialminus": [
            [
             0,
             "#0d0887"
            ],
            [
             0.1111111111111111,
             "#46039f"
            ],
            [
             0.2222222222222222,
             "#7201a8"
            ],
            [
             0.3333333333333333,
             "#9c179e"
            ],
            [
             0.4444444444444444,
             "#bd3786"
            ],
            [
             0.5555555555555556,
             "#d8576b"
            ],
            [
             0.6666666666666666,
             "#ed7953"
            ],
            [
             0.7777777777777778,
             "#fb9f3a"
            ],
            [
             0.8888888888888888,
             "#fdca26"
            ],
            [
             1,
             "#f0f921"
            ]
           ]
          },
          "colorway": [
           "#636efa",
           "#EF553B",
           "#00cc96",
           "#ab63fa",
           "#FFA15A",
           "#19d3f3",
           "#FF6692",
           "#B6E880",
           "#FF97FF",
           "#FECB52"
          ],
          "font": {
           "color": "#2a3f5f"
          },
          "geo": {
           "bgcolor": "white",
           "lakecolor": "white",
           "landcolor": "#E5ECF6",
           "showlakes": true,
           "showland": true,
           "subunitcolor": "white"
          },
          "hoverlabel": {
           "align": "left"
          },
          "hovermode": "closest",
          "mapbox": {
           "style": "light"
          },
          "paper_bgcolor": "white",
          "plot_bgcolor": "#E5ECF6",
          "polar": {
           "angularaxis": {
            "gridcolor": "white",
            "linecolor": "white",
            "ticks": ""
           },
           "bgcolor": "#E5ECF6",
           "radialaxis": {
            "gridcolor": "white",
            "linecolor": "white",
            "ticks": ""
           }
          },
          "scene": {
           "xaxis": {
            "backgroundcolor": "#E5ECF6",
            "gridcolor": "white",
            "gridwidth": 2,
            "linecolor": "white",
            "showbackground": true,
            "ticks": "",
            "zerolinecolor": "white"
           },
           "yaxis": {
            "backgroundcolor": "#E5ECF6",
            "gridcolor": "white",
            "gridwidth": 2,
            "linecolor": "white",
            "showbackground": true,
            "ticks": "",
            "zerolinecolor": "white"
           },
           "zaxis": {
            "backgroundcolor": "#E5ECF6",
            "gridcolor": "white",
            "gridwidth": 2,
            "linecolor": "white",
            "showbackground": true,
            "ticks": "",
            "zerolinecolor": "white"
           }
          },
          "shapedefaults": {
           "line": {
            "color": "#2a3f5f"
           }
          },
          "ternary": {
           "aaxis": {
            "gridcolor": "white",
            "linecolor": "white",
            "ticks": ""
           },
           "baxis": {
            "gridcolor": "white",
            "linecolor": "white",
            "ticks": ""
           },
           "bgcolor": "#E5ECF6",
           "caxis": {
            "gridcolor": "white",
            "linecolor": "white",
            "ticks": ""
           }
          },
          "title": {
           "x": 0.05
          },
          "xaxis": {
           "automargin": true,
           "gridcolor": "white",
           "linecolor": "white",
           "ticks": "",
           "title": {
            "standoff": 15
           },
           "zerolinecolor": "white",
           "zerolinewidth": 2
          },
          "yaxis": {
           "automargin": true,
           "gridcolor": "white",
           "linecolor": "white",
           "ticks": "",
           "title": {
            "standoff": 15
           },
           "zerolinecolor": "white",
           "zerolinewidth": 2
          }
         }
        },
        "title": {
         "font": {
          "size": 20
         },
         "text": "Глобальные продажи игр за год",
         "x": 0.5,
         "xanchor": "center",
         "y": 0.9,
         "yanchor": "top"
        },
        "xaxis": {
         "gridcolor": "ivory",
         "gridwidth": 2,
         "showgrid": true,
         "tickangle": -45,
         "tickfont": {
          "size": 14
         },
         "title": {
          "font": {
           "size": 16
          },
          "text": "Год"
         }
        },
        "yaxis": {
         "gridcolor": "ivory",
         "gridwidth": 2,
         "showgrid": true,
         "tickfont": {
          "size": 14
         },
         "title": {
          "font": {
           "size": 16
          },
          "text": "Продажи игр"
         }
        }
       }
      }
     },
     "metadata": {},
     "output_type": "display_data"
    }
   ],
   "source": [
    "#3\n",
    "customscale=[[0, 'rgb(200, 255, 0)'],\n",
    "            [0.5, 'rgb(255, 127, 0)'],\n",
    "            [1.0, 'rgb(255, 0, 0)']]\n",
    "y = data.groupby('Year')['JP_Sales'].sum()\n",
    "fig = go.Figure()\n",
    "fig.add_trace(go.Bar(x = data.Year, y = y,\n",
    "                    marker=dict(color=data.groupby('Year')['JP_Sales'].sum(),\n",
    "                        colorscale = customscale,\n",
    "                        colorbar=dict(title='Продажи игр'),\n",
    "                        line=dict(color='black', width=2))))\n",
    "\n",
    "fig.update_xaxes(showgrid=True, gridwidth=2, gridcolor='ivory')\n",
    "fig.update_yaxes(showgrid=True, gridwidth=2, gridcolor='ivory')\n",
    "\n",
    "fig.update_layout(title='Глобальные продажи игр за год',\n",
    "                 title_font_size=20, title_y=0.9, title_x=0.5,\n",
    "                 title_xanchor='center', title_yanchor='top',\n",
    "                 xaxis_title = 'Год', xaxis_title_font_size=16,\n",
    "                 xaxis_tickangle=315, xaxis_tickfont_size=14,\n",
    "                 yaxis_title = 'Продажи игр', yaxis_title_font_size=16,\n",
    "                 yaxis_tickfont_size=14, width=None, height=700)\n",
    "\n",
    "fig.show()"
   ]
  },
  {
   "cell_type": "code",
   "execution_count": 9,
   "id": "daf02f49",
   "metadata": {},
   "outputs": [
    {
     "data": {
      "application/vnd.plotly.v1+json": {
       "config": {
        "plotlyServerURL": "https://plot.ly"
       },
       "data": [
        {
         "insidetextorientation": "radial",
         "labels": [
          "1984-1995",
          "1995-2005",
          "2005-2015"
         ],
         "marker": {
          "colors": [
           659.5100000000001,
           2696.390000000001,
           4997.56
          ],
          "line": {
           "color": "black",
           "width": 2
          }
         },
         "textinfo": "label+percent",
         "type": "pie",
         "values": [
          659.5100000000001,
          2696.390000000001,
          4997.56
         ]
        }
       ],
       "layout": {
        "height": 700,
        "template": {
         "data": {
          "bar": [
           {
            "error_x": {
             "color": "#2a3f5f"
            },
            "error_y": {
             "color": "#2a3f5f"
            },
            "marker": {
             "line": {
              "color": "#E5ECF6",
              "width": 0.5
             },
             "pattern": {
              "fillmode": "overlay",
              "size": 10,
              "solidity": 0.2
             }
            },
            "type": "bar"
           }
          ],
          "barpolar": [
           {
            "marker": {
             "line": {
              "color": "#E5ECF6",
              "width": 0.5
             },
             "pattern": {
              "fillmode": "overlay",
              "size": 10,
              "solidity": 0.2
             }
            },
            "type": "barpolar"
           }
          ],
          "carpet": [
           {
            "aaxis": {
             "endlinecolor": "#2a3f5f",
             "gridcolor": "white",
             "linecolor": "white",
             "minorgridcolor": "white",
             "startlinecolor": "#2a3f5f"
            },
            "baxis": {
             "endlinecolor": "#2a3f5f",
             "gridcolor": "white",
             "linecolor": "white",
             "minorgridcolor": "white",
             "startlinecolor": "#2a3f5f"
            },
            "type": "carpet"
           }
          ],
          "choropleth": [
           {
            "colorbar": {
             "outlinewidth": 0,
             "ticks": ""
            },
            "type": "choropleth"
           }
          ],
          "contour": [
           {
            "colorbar": {
             "outlinewidth": 0,
             "ticks": ""
            },
            "colorscale": [
             [
              0,
              "#0d0887"
             ],
             [
              0.1111111111111111,
              "#46039f"
             ],
             [
              0.2222222222222222,
              "#7201a8"
             ],
             [
              0.3333333333333333,
              "#9c179e"
             ],
             [
              0.4444444444444444,
              "#bd3786"
             ],
             [
              0.5555555555555556,
              "#d8576b"
             ],
             [
              0.6666666666666666,
              "#ed7953"
             ],
             [
              0.7777777777777778,
              "#fb9f3a"
             ],
             [
              0.8888888888888888,
              "#fdca26"
             ],
             [
              1,
              "#f0f921"
             ]
            ],
            "type": "contour"
           }
          ],
          "contourcarpet": [
           {
            "colorbar": {
             "outlinewidth": 0,
             "ticks": ""
            },
            "type": "contourcarpet"
           }
          ],
          "heatmap": [
           {
            "colorbar": {
             "outlinewidth": 0,
             "ticks": ""
            },
            "colorscale": [
             [
              0,
              "#0d0887"
             ],
             [
              0.1111111111111111,
              "#46039f"
             ],
             [
              0.2222222222222222,
              "#7201a8"
             ],
             [
              0.3333333333333333,
              "#9c179e"
             ],
             [
              0.4444444444444444,
              "#bd3786"
             ],
             [
              0.5555555555555556,
              "#d8576b"
             ],
             [
              0.6666666666666666,
              "#ed7953"
             ],
             [
              0.7777777777777778,
              "#fb9f3a"
             ],
             [
              0.8888888888888888,
              "#fdca26"
             ],
             [
              1,
              "#f0f921"
             ]
            ],
            "type": "heatmap"
           }
          ],
          "heatmapgl": [
           {
            "colorbar": {
             "outlinewidth": 0,
             "ticks": ""
            },
            "colorscale": [
             [
              0,
              "#0d0887"
             ],
             [
              0.1111111111111111,
              "#46039f"
             ],
             [
              0.2222222222222222,
              "#7201a8"
             ],
             [
              0.3333333333333333,
              "#9c179e"
             ],
             [
              0.4444444444444444,
              "#bd3786"
             ],
             [
              0.5555555555555556,
              "#d8576b"
             ],
             [
              0.6666666666666666,
              "#ed7953"
             ],
             [
              0.7777777777777778,
              "#fb9f3a"
             ],
             [
              0.8888888888888888,
              "#fdca26"
             ],
             [
              1,
              "#f0f921"
             ]
            ],
            "type": "heatmapgl"
           }
          ],
          "histogram": [
           {
            "marker": {
             "pattern": {
              "fillmode": "overlay",
              "size": 10,
              "solidity": 0.2
             }
            },
            "type": "histogram"
           }
          ],
          "histogram2d": [
           {
            "colorbar": {
             "outlinewidth": 0,
             "ticks": ""
            },
            "colorscale": [
             [
              0,
              "#0d0887"
             ],
             [
              0.1111111111111111,
              "#46039f"
             ],
             [
              0.2222222222222222,
              "#7201a8"
             ],
             [
              0.3333333333333333,
              "#9c179e"
             ],
             [
              0.4444444444444444,
              "#bd3786"
             ],
             [
              0.5555555555555556,
              "#d8576b"
             ],
             [
              0.6666666666666666,
              "#ed7953"
             ],
             [
              0.7777777777777778,
              "#fb9f3a"
             ],
             [
              0.8888888888888888,
              "#fdca26"
             ],
             [
              1,
              "#f0f921"
             ]
            ],
            "type": "histogram2d"
           }
          ],
          "histogram2dcontour": [
           {
            "colorbar": {
             "outlinewidth": 0,
             "ticks": ""
            },
            "colorscale": [
             [
              0,
              "#0d0887"
             ],
             [
              0.1111111111111111,
              "#46039f"
             ],
             [
              0.2222222222222222,
              "#7201a8"
             ],
             [
              0.3333333333333333,
              "#9c179e"
             ],
             [
              0.4444444444444444,
              "#bd3786"
             ],
             [
              0.5555555555555556,
              "#d8576b"
             ],
             [
              0.6666666666666666,
              "#ed7953"
             ],
             [
              0.7777777777777778,
              "#fb9f3a"
             ],
             [
              0.8888888888888888,
              "#fdca26"
             ],
             [
              1,
              "#f0f921"
             ]
            ],
            "type": "histogram2dcontour"
           }
          ],
          "mesh3d": [
           {
            "colorbar": {
             "outlinewidth": 0,
             "ticks": ""
            },
            "type": "mesh3d"
           }
          ],
          "parcoords": [
           {
            "line": {
             "colorbar": {
              "outlinewidth": 0,
              "ticks": ""
             }
            },
            "type": "parcoords"
           }
          ],
          "pie": [
           {
            "automargin": true,
            "type": "pie"
           }
          ],
          "scatter": [
           {
            "fillpattern": {
             "fillmode": "overlay",
             "size": 10,
             "solidity": 0.2
            },
            "type": "scatter"
           }
          ],
          "scatter3d": [
           {
            "line": {
             "colorbar": {
              "outlinewidth": 0,
              "ticks": ""
             }
            },
            "marker": {
             "colorbar": {
              "outlinewidth": 0,
              "ticks": ""
             }
            },
            "type": "scatter3d"
           }
          ],
          "scattercarpet": [
           {
            "marker": {
             "colorbar": {
              "outlinewidth": 0,
              "ticks": ""
             }
            },
            "type": "scattercarpet"
           }
          ],
          "scattergeo": [
           {
            "marker": {
             "colorbar": {
              "outlinewidth": 0,
              "ticks": ""
             }
            },
            "type": "scattergeo"
           }
          ],
          "scattergl": [
           {
            "marker": {
             "colorbar": {
              "outlinewidth": 0,
              "ticks": ""
             }
            },
            "type": "scattergl"
           }
          ],
          "scattermapbox": [
           {
            "marker": {
             "colorbar": {
              "outlinewidth": 0,
              "ticks": ""
             }
            },
            "type": "scattermapbox"
           }
          ],
          "scatterpolar": [
           {
            "marker": {
             "colorbar": {
              "outlinewidth": 0,
              "ticks": ""
             }
            },
            "type": "scatterpolar"
           }
          ],
          "scatterpolargl": [
           {
            "marker": {
             "colorbar": {
              "outlinewidth": 0,
              "ticks": ""
             }
            },
            "type": "scatterpolargl"
           }
          ],
          "scatterternary": [
           {
            "marker": {
             "colorbar": {
              "outlinewidth": 0,
              "ticks": ""
             }
            },
            "type": "scatterternary"
           }
          ],
          "surface": [
           {
            "colorbar": {
             "outlinewidth": 0,
             "ticks": ""
            },
            "colorscale": [
             [
              0,
              "#0d0887"
             ],
             [
              0.1111111111111111,
              "#46039f"
             ],
             [
              0.2222222222222222,
              "#7201a8"
             ],
             [
              0.3333333333333333,
              "#9c179e"
             ],
             [
              0.4444444444444444,
              "#bd3786"
             ],
             [
              0.5555555555555556,
              "#d8576b"
             ],
             [
              0.6666666666666666,
              "#ed7953"
             ],
             [
              0.7777777777777778,
              "#fb9f3a"
             ],
             [
              0.8888888888888888,
              "#fdca26"
             ],
             [
              1,
              "#f0f921"
             ]
            ],
            "type": "surface"
           }
          ],
          "table": [
           {
            "cells": {
             "fill": {
              "color": "#EBF0F8"
             },
             "line": {
              "color": "white"
             }
            },
            "header": {
             "fill": {
              "color": "#C8D4E3"
             },
             "line": {
              "color": "white"
             }
            },
            "type": "table"
           }
          ]
         },
         "layout": {
          "annotationdefaults": {
           "arrowcolor": "#2a3f5f",
           "arrowhead": 0,
           "arrowwidth": 1
          },
          "autotypenumbers": "strict",
          "coloraxis": {
           "colorbar": {
            "outlinewidth": 0,
            "ticks": ""
           }
          },
          "colorscale": {
           "diverging": [
            [
             0,
             "#8e0152"
            ],
            [
             0.1,
             "#c51b7d"
            ],
            [
             0.2,
             "#de77ae"
            ],
            [
             0.3,
             "#f1b6da"
            ],
            [
             0.4,
             "#fde0ef"
            ],
            [
             0.5,
             "#f7f7f7"
            ],
            [
             0.6,
             "#e6f5d0"
            ],
            [
             0.7,
             "#b8e186"
            ],
            [
             0.8,
             "#7fbc41"
            ],
            [
             0.9,
             "#4d9221"
            ],
            [
             1,
             "#276419"
            ]
           ],
           "sequential": [
            [
             0,
             "#0d0887"
            ],
            [
             0.1111111111111111,
             "#46039f"
            ],
            [
             0.2222222222222222,
             "#7201a8"
            ],
            [
             0.3333333333333333,
             "#9c179e"
            ],
            [
             0.4444444444444444,
             "#bd3786"
            ],
            [
             0.5555555555555556,
             "#d8576b"
            ],
            [
             0.6666666666666666,
             "#ed7953"
            ],
            [
             0.7777777777777778,
             "#fb9f3a"
            ],
            [
             0.8888888888888888,
             "#fdca26"
            ],
            [
             1,
             "#f0f921"
            ]
           ],
           "sequentialminus": [
            [
             0,
             "#0d0887"
            ],
            [
             0.1111111111111111,
             "#46039f"
            ],
            [
             0.2222222222222222,
             "#7201a8"
            ],
            [
             0.3333333333333333,
             "#9c179e"
            ],
            [
             0.4444444444444444,
             "#bd3786"
            ],
            [
             0.5555555555555556,
             "#d8576b"
            ],
            [
             0.6666666666666666,
             "#ed7953"
            ],
            [
             0.7777777777777778,
             "#fb9f3a"
            ],
            [
             0.8888888888888888,
             "#fdca26"
            ],
            [
             1,
             "#f0f921"
            ]
           ]
          },
          "colorway": [
           "#636efa",
           "#EF553B",
           "#00cc96",
           "#ab63fa",
           "#FFA15A",
           "#19d3f3",
           "#FF6692",
           "#B6E880",
           "#FF97FF",
           "#FECB52"
          ],
          "font": {
           "color": "#2a3f5f"
          },
          "geo": {
           "bgcolor": "white",
           "lakecolor": "white",
           "landcolor": "#E5ECF6",
           "showlakes": true,
           "showland": true,
           "subunitcolor": "white"
          },
          "hoverlabel": {
           "align": "left"
          },
          "hovermode": "closest",
          "mapbox": {
           "style": "light"
          },
          "paper_bgcolor": "white",
          "plot_bgcolor": "#E5ECF6",
          "polar": {
           "angularaxis": {
            "gridcolor": "white",
            "linecolor": "white",
            "ticks": ""
           },
           "bgcolor": "#E5ECF6",
           "radialaxis": {
            "gridcolor": "white",
            "linecolor": "white",
            "ticks": ""
           }
          },
          "scene": {
           "xaxis": {
            "backgroundcolor": "#E5ECF6",
            "gridcolor": "white",
            "gridwidth": 2,
            "linecolor": "white",
            "showbackground": true,
            "ticks": "",
            "zerolinecolor": "white"
           },
           "yaxis": {
            "backgroundcolor": "#E5ECF6",
            "gridcolor": "white",
            "gridwidth": 2,
            "linecolor": "white",
            "showbackground": true,
            "ticks": "",
            "zerolinecolor": "white"
           },
           "zaxis": {
            "backgroundcolor": "#E5ECF6",
            "gridcolor": "white",
            "gridwidth": 2,
            "linecolor": "white",
            "showbackground": true,
            "ticks": "",
            "zerolinecolor": "white"
           }
          },
          "shapedefaults": {
           "line": {
            "color": "#2a3f5f"
           }
          },
          "ternary": {
           "aaxis": {
            "gridcolor": "white",
            "linecolor": "white",
            "ticks": ""
           },
           "baxis": {
            "gridcolor": "white",
            "linecolor": "white",
            "ticks": ""
           },
           "bgcolor": "#E5ECF6",
           "caxis": {
            "gridcolor": "white",
            "linecolor": "white",
            "ticks": ""
           }
          },
          "title": {
           "x": 0.05
          },
          "xaxis": {
           "automargin": true,
           "gridcolor": "white",
           "linecolor": "white",
           "ticks": "",
           "title": {
            "standoff": 15
           },
           "zerolinecolor": "white",
           "zerolinewidth": 2
          },
          "yaxis": {
           "automargin": true,
           "gridcolor": "white",
           "linecolor": "white",
           "ticks": "",
           "title": {
            "standoff": 15
           },
           "zerolinecolor": "white",
           "zerolinewidth": 2
          }
         }
        },
        "title": {
         "font": {
          "size": 20
         },
         "text": "Глобальные продажи игр за год",
         "x": 0.5,
         "xanchor": "center",
         "y": 0.9,
         "yanchor": "top"
        }
       }
      },
      "text/html": [
       "<div>                            <div id=\"e50fb5fb-683b-48ef-91b4-109968cb68da\" class=\"plotly-graph-div\" style=\"height:700px; width:100%;\"></div>            <script type=\"text/javascript\">                require([\"plotly\"], function(Plotly) {                    window.PLOTLYENV=window.PLOTLYENV || {};                                    if (document.getElementById(\"e50fb5fb-683b-48ef-91b4-109968cb68da\")) {                    Plotly.newPlot(                        \"e50fb5fb-683b-48ef-91b4-109968cb68da\",                        [{\"insidetextorientation\":\"radial\",\"labels\":[\"1984-1995\",\"1995-2005\",\"2005-2015\"],\"marker\":{\"colors\":[659.5100000000001,2696.390000000001,4997.56],\"line\":{\"color\":\"black\",\"width\":2}},\"textinfo\":\"label+percent\",\"values\":[659.5100000000001,2696.390000000001,4997.56],\"type\":\"pie\"}],                        {\"template\":{\"data\":{\"histogram2dcontour\":[{\"type\":\"histogram2dcontour\",\"colorbar\":{\"outlinewidth\":0,\"ticks\":\"\"},\"colorscale\":[[0.0,\"#0d0887\"],[0.1111111111111111,\"#46039f\"],[0.2222222222222222,\"#7201a8\"],[0.3333333333333333,\"#9c179e\"],[0.4444444444444444,\"#bd3786\"],[0.5555555555555556,\"#d8576b\"],[0.6666666666666666,\"#ed7953\"],[0.7777777777777778,\"#fb9f3a\"],[0.8888888888888888,\"#fdca26\"],[1.0,\"#f0f921\"]]}],\"choropleth\":[{\"type\":\"choropleth\",\"colorbar\":{\"outlinewidth\":0,\"ticks\":\"\"}}],\"histogram2d\":[{\"type\":\"histogram2d\",\"colorbar\":{\"outlinewidth\":0,\"ticks\":\"\"},\"colorscale\":[[0.0,\"#0d0887\"],[0.1111111111111111,\"#46039f\"],[0.2222222222222222,\"#7201a8\"],[0.3333333333333333,\"#9c179e\"],[0.4444444444444444,\"#bd3786\"],[0.5555555555555556,\"#d8576b\"],[0.6666666666666666,\"#ed7953\"],[0.7777777777777778,\"#fb9f3a\"],[0.8888888888888888,\"#fdca26\"],[1.0,\"#f0f921\"]]}],\"heatmap\":[{\"type\":\"heatmap\",\"colorbar\":{\"outlinewidth\":0,\"ticks\":\"\"},\"colorscale\":[[0.0,\"#0d0887\"],[0.1111111111111111,\"#46039f\"],[0.2222222222222222,\"#7201a8\"],[0.3333333333333333,\"#9c179e\"],[0.4444444444444444,\"#bd3786\"],[0.5555555555555556,\"#d8576b\"],[0.6666666666666666,\"#ed7953\"],[0.7777777777777778,\"#fb9f3a\"],[0.8888888888888888,\"#fdca26\"],[1.0,\"#f0f921\"]]}],\"heatmapgl\":[{\"type\":\"heatmapgl\",\"colorbar\":{\"outlinewidth\":0,\"ticks\":\"\"},\"colorscale\":[[0.0,\"#0d0887\"],[0.1111111111111111,\"#46039f\"],[0.2222222222222222,\"#7201a8\"],[0.3333333333333333,\"#9c179e\"],[0.4444444444444444,\"#bd3786\"],[0.5555555555555556,\"#d8576b\"],[0.6666666666666666,\"#ed7953\"],[0.7777777777777778,\"#fb9f3a\"],[0.8888888888888888,\"#fdca26\"],[1.0,\"#f0f921\"]]}],\"contourcarpet\":[{\"type\":\"contourcarpet\",\"colorbar\":{\"outlinewidth\":0,\"ticks\":\"\"}}],\"contour\":[{\"type\":\"contour\",\"colorbar\":{\"outlinewidth\":0,\"ticks\":\"\"},\"colorscale\":[[0.0,\"#0d0887\"],[0.1111111111111111,\"#46039f\"],[0.2222222222222222,\"#7201a8\"],[0.3333333333333333,\"#9c179e\"],[0.4444444444444444,\"#bd3786\"],[0.5555555555555556,\"#d8576b\"],[0.6666666666666666,\"#ed7953\"],[0.7777777777777778,\"#fb9f3a\"],[0.8888888888888888,\"#fdca26\"],[1.0,\"#f0f921\"]]}],\"surface\":[{\"type\":\"surface\",\"colorbar\":{\"outlinewidth\":0,\"ticks\":\"\"},\"colorscale\":[[0.0,\"#0d0887\"],[0.1111111111111111,\"#46039f\"],[0.2222222222222222,\"#7201a8\"],[0.3333333333333333,\"#9c179e\"],[0.4444444444444444,\"#bd3786\"],[0.5555555555555556,\"#d8576b\"],[0.6666666666666666,\"#ed7953\"],[0.7777777777777778,\"#fb9f3a\"],[0.8888888888888888,\"#fdca26\"],[1.0,\"#f0f921\"]]}],\"mesh3d\":[{\"type\":\"mesh3d\",\"colorbar\":{\"outlinewidth\":0,\"ticks\":\"\"}}],\"scatter\":[{\"fillpattern\":{\"fillmode\":\"overlay\",\"size\":10,\"solidity\":0.2},\"type\":\"scatter\"}],\"parcoords\":[{\"type\":\"parcoords\",\"line\":{\"colorbar\":{\"outlinewidth\":0,\"ticks\":\"\"}}}],\"scatterpolargl\":[{\"type\":\"scatterpolargl\",\"marker\":{\"colorbar\":{\"outlinewidth\":0,\"ticks\":\"\"}}}],\"bar\":[{\"error_x\":{\"color\":\"#2a3f5f\"},\"error_y\":{\"color\":\"#2a3f5f\"},\"marker\":{\"line\":{\"color\":\"#E5ECF6\",\"width\":0.5},\"pattern\":{\"fillmode\":\"overlay\",\"size\":10,\"solidity\":0.2}},\"type\":\"bar\"}],\"scattergeo\":[{\"type\":\"scattergeo\",\"marker\":{\"colorbar\":{\"outlinewidth\":0,\"ticks\":\"\"}}}],\"scatterpolar\":[{\"type\":\"scatterpolar\",\"marker\":{\"colorbar\":{\"outlinewidth\":0,\"ticks\":\"\"}}}],\"histogram\":[{\"marker\":{\"pattern\":{\"fillmode\":\"overlay\",\"size\":10,\"solidity\":0.2}},\"type\":\"histogram\"}],\"scattergl\":[{\"type\":\"scattergl\",\"marker\":{\"colorbar\":{\"outlinewidth\":0,\"ticks\":\"\"}}}],\"scatter3d\":[{\"type\":\"scatter3d\",\"line\":{\"colorbar\":{\"outlinewidth\":0,\"ticks\":\"\"}},\"marker\":{\"colorbar\":{\"outlinewidth\":0,\"ticks\":\"\"}}}],\"scattermapbox\":[{\"type\":\"scattermapbox\",\"marker\":{\"colorbar\":{\"outlinewidth\":0,\"ticks\":\"\"}}}],\"scatterternary\":[{\"type\":\"scatterternary\",\"marker\":{\"colorbar\":{\"outlinewidth\":0,\"ticks\":\"\"}}}],\"scattercarpet\":[{\"type\":\"scattercarpet\",\"marker\":{\"colorbar\":{\"outlinewidth\":0,\"ticks\":\"\"}}}],\"carpet\":[{\"aaxis\":{\"endlinecolor\":\"#2a3f5f\",\"gridcolor\":\"white\",\"linecolor\":\"white\",\"minorgridcolor\":\"white\",\"startlinecolor\":\"#2a3f5f\"},\"baxis\":{\"endlinecolor\":\"#2a3f5f\",\"gridcolor\":\"white\",\"linecolor\":\"white\",\"minorgridcolor\":\"white\",\"startlinecolor\":\"#2a3f5f\"},\"type\":\"carpet\"}],\"table\":[{\"cells\":{\"fill\":{\"color\":\"#EBF0F8\"},\"line\":{\"color\":\"white\"}},\"header\":{\"fill\":{\"color\":\"#C8D4E3\"},\"line\":{\"color\":\"white\"}},\"type\":\"table\"}],\"barpolar\":[{\"marker\":{\"line\":{\"color\":\"#E5ECF6\",\"width\":0.5},\"pattern\":{\"fillmode\":\"overlay\",\"size\":10,\"solidity\":0.2}},\"type\":\"barpolar\"}],\"pie\":[{\"automargin\":true,\"type\":\"pie\"}]},\"layout\":{\"autotypenumbers\":\"strict\",\"colorway\":[\"#636efa\",\"#EF553B\",\"#00cc96\",\"#ab63fa\",\"#FFA15A\",\"#19d3f3\",\"#FF6692\",\"#B6E880\",\"#FF97FF\",\"#FECB52\"],\"font\":{\"color\":\"#2a3f5f\"},\"hovermode\":\"closest\",\"hoverlabel\":{\"align\":\"left\"},\"paper_bgcolor\":\"white\",\"plot_bgcolor\":\"#E5ECF6\",\"polar\":{\"bgcolor\":\"#E5ECF6\",\"angularaxis\":{\"gridcolor\":\"white\",\"linecolor\":\"white\",\"ticks\":\"\"},\"radialaxis\":{\"gridcolor\":\"white\",\"linecolor\":\"white\",\"ticks\":\"\"}},\"ternary\":{\"bgcolor\":\"#E5ECF6\",\"aaxis\":{\"gridcolor\":\"white\",\"linecolor\":\"white\",\"ticks\":\"\"},\"baxis\":{\"gridcolor\":\"white\",\"linecolor\":\"white\",\"ticks\":\"\"},\"caxis\":{\"gridcolor\":\"white\",\"linecolor\":\"white\",\"ticks\":\"\"}},\"coloraxis\":{\"colorbar\":{\"outlinewidth\":0,\"ticks\":\"\"}},\"colorscale\":{\"sequential\":[[0.0,\"#0d0887\"],[0.1111111111111111,\"#46039f\"],[0.2222222222222222,\"#7201a8\"],[0.3333333333333333,\"#9c179e\"],[0.4444444444444444,\"#bd3786\"],[0.5555555555555556,\"#d8576b\"],[0.6666666666666666,\"#ed7953\"],[0.7777777777777778,\"#fb9f3a\"],[0.8888888888888888,\"#fdca26\"],[1.0,\"#f0f921\"]],\"sequentialminus\":[[0.0,\"#0d0887\"],[0.1111111111111111,\"#46039f\"],[0.2222222222222222,\"#7201a8\"],[0.3333333333333333,\"#9c179e\"],[0.4444444444444444,\"#bd3786\"],[0.5555555555555556,\"#d8576b\"],[0.6666666666666666,\"#ed7953\"],[0.7777777777777778,\"#fb9f3a\"],[0.8888888888888888,\"#fdca26\"],[1.0,\"#f0f921\"]],\"diverging\":[[0,\"#8e0152\"],[0.1,\"#c51b7d\"],[0.2,\"#de77ae\"],[0.3,\"#f1b6da\"],[0.4,\"#fde0ef\"],[0.5,\"#f7f7f7\"],[0.6,\"#e6f5d0\"],[0.7,\"#b8e186\"],[0.8,\"#7fbc41\"],[0.9,\"#4d9221\"],[1,\"#276419\"]]},\"xaxis\":{\"gridcolor\":\"white\",\"linecolor\":\"white\",\"ticks\":\"\",\"title\":{\"standoff\":15},\"zerolinecolor\":\"white\",\"automargin\":true,\"zerolinewidth\":2},\"yaxis\":{\"gridcolor\":\"white\",\"linecolor\":\"white\",\"ticks\":\"\",\"title\":{\"standoff\":15},\"zerolinecolor\":\"white\",\"automargin\":true,\"zerolinewidth\":2},\"scene\":{\"xaxis\":{\"backgroundcolor\":\"#E5ECF6\",\"gridcolor\":\"white\",\"linecolor\":\"white\",\"showbackground\":true,\"ticks\":\"\",\"zerolinecolor\":\"white\",\"gridwidth\":2},\"yaxis\":{\"backgroundcolor\":\"#E5ECF6\",\"gridcolor\":\"white\",\"linecolor\":\"white\",\"showbackground\":true,\"ticks\":\"\",\"zerolinecolor\":\"white\",\"gridwidth\":2},\"zaxis\":{\"backgroundcolor\":\"#E5ECF6\",\"gridcolor\":\"white\",\"linecolor\":\"white\",\"showbackground\":true,\"ticks\":\"\",\"zerolinecolor\":\"white\",\"gridwidth\":2}},\"shapedefaults\":{\"line\":{\"color\":\"#2a3f5f\"}},\"annotationdefaults\":{\"arrowcolor\":\"#2a3f5f\",\"arrowhead\":0,\"arrowwidth\":1},\"geo\":{\"bgcolor\":\"white\",\"landcolor\":\"#E5ECF6\",\"subunitcolor\":\"white\",\"showland\":true,\"showlakes\":true,\"lakecolor\":\"white\"},\"title\":{\"x\":0.05},\"mapbox\":{\"style\":\"light\"}}},\"title\":{\"text\":\"\\u0413\\u043b\\u043e\\u0431\\u0430\\u043b\\u044c\\u043d\\u044b\\u0435 \\u043f\\u0440\\u043e\\u0434\\u0430\\u0436\\u0438 \\u0438\\u0433\\u0440 \\u0437\\u0430 \\u0433\\u043e\\u0434\",\"font\":{\"size\":20},\"y\":0.9,\"x\":0.5,\"xanchor\":\"center\",\"yanchor\":\"top\"},\"height\":700},                        {\"responsive\": true}                    ).then(function(){\n",
       "                            \n",
       "var gd = document.getElementById('e50fb5fb-683b-48ef-91b4-109968cb68da');\n",
       "var x = new MutationObserver(function (mutations, observer) {{\n",
       "        var display = window.getComputedStyle(gd).display;\n",
       "        if (!display || display === 'none') {{\n",
       "            console.log([gd, 'removed!']);\n",
       "            Plotly.purge(gd);\n",
       "            observer.disconnect();\n",
       "        }}\n",
       "}});\n",
       "\n",
       "// Listen for the removal of the full notebook cells\n",
       "var notebookContainer = gd.closest('#notebook-container');\n",
       "if (notebookContainer) {{\n",
       "    x.observe(notebookContainer, {childList: true});\n",
       "}}\n",
       "\n",
       "// Listen for the clearing of the current output cell\n",
       "var outputEl = gd.closest('.output');\n",
       "if (outputEl) {{\n",
       "    x.observe(outputEl, {childList: true});\n",
       "}}\n",
       "\n",
       "                        })                };                });            </script>        </div>"
      ]
     },
     "metadata": {},
     "output_type": "display_data"
    }
   ],
   "source": [
    "#4\n",
    "part_80s = data.loc[(data.Year < 1995)]\n",
    "part_90s = data.loc[(data.Year < 2005) & (data.Year >= 1995)]\n",
    "part_00s = data.loc[(data.Year > 2005)]\n",
    "\n",
    "labels = ['1984-1995', '1995-2005', '2005-2015']\n",
    "\n",
    "values = [part_80s['Global_Sales'].sum(),\n",
    "         part_90s['Global_Sales'].sum(),\n",
    "         part_00s['Global_Sales'].sum()]\n",
    "\n",
    "fig = go.Figure()\n",
    "fig.add_trace(go.Pie(labels = labels, values = values,\n",
    "                    textinfo='label+percent',\n",
    "                    insidetextorientation='radial',\n",
    "                    marker=dict(colors=values, line=dict(color='black', width=2))))\n",
    "\n",
    "fig.update_layout(title='Глобальные продажи игр за год',\n",
    "                 title_font_size=20, title_y=0.9, title_x=0.5,\n",
    "                 title_xanchor='center', title_yanchor='top',\n",
    "                 width=None, height=700)\n",
    "\n",
    "fig.show()"
   ]
  },
  {
   "cell_type": "code",
   "execution_count": 19,
   "id": "2cbf3522",
   "metadata": {
    "scrolled": true
   },
   "outputs": [
    {
     "data": {
      "image/png": "[encoded data removed]",
      "text/plain": [
       "<Figure size 3700x1200 with 1 Axes>"
      ]
     },
     "metadata": {},
     "output_type": "display_data"
    }
   ],
   "source": [
    "#5\n",
    "plt.figure(figsize=(37,12))\n",
    "Sales = data.groupby('Genre')['JP_Sales'].sum()\n",
    "Genre = data.Genre.unique()\n",
    "plt.plot(Genre, Sales, color='blue',\n",
    "        marker = 'o', markersize = 2, markerfacecolor='white',\n",
    "        markeredgecolor='black')\n",
    "\n",
    "plt.grid(color='mistyrose', linewidth=2)\n",
    "\n",
    "plt.xlabel('Жанр', size=16)\n",
    "plt.ylabel('Продажи в Японии', size=16)\n",
    "plt.title(\"График продаж в Япониии по жанрам\")\n",
    "plt.xticks(size=14)\n",
    "plt.yticks(size=14)\n",
    "\n",
    "plt.show()"
   ]
  },
  {
   "cell_type": "code",
   "execution_count": 31,
   "id": "2fb22b9e",
   "metadata": {},
   "outputs": [
    {
     "data": {
      "image/png": "[encoded data removed]",
      "text/plain": [
       "<Figure size 3700x1200 with 1 Axes>"
      ]
     },
     "metadata": {},
     "output_type": "display_data"
    }
   ],
   "source": [
    "plt.figure(figsize=(37,12))\n",
    "Sales_1 = data.groupby('Year')['JP_Sales'].sum()\n",
    "Year = data.Year.unique()\n",
    "Year.sort()\n",
    "plt.plot(Year, Sales_1, color='blue',\n",
    "        marker = 'o', markersize = 2, markerfacecolor='white',\n",
    "        markeredgecolor='black')\n",
    "\n",
    "plt.grid(color='mistyrose', linewidth=2)\n",
    "\n",
    "plt.xlabel('Год', size=16)\n",
    "plt.ylabel('Продажи в Японии', size=16)\n",
    "plt.title(\"График продаж в Япониии по годам\")\n",
    "plt.xticks(size=14)\n",
    "plt.yticks(size=14)\n",
    "\n",
    "plt.show()"
   ]
  },
  {
   "cell_type": "code",
   "execution_count": 36,
   "id": "e0bb6f05",
   "metadata": {},
   "outputs": [
    {
     "ename": "ModuleNotFoundError",
     "evalue": "No module named 'tensorflow'",
     "output_type": "error",
     "traceback": [
      "\u001b[1;31m---------------------------------------------------------------------------\u001b[0m",
      "\u001b[1;31mModuleNotFoundError\u001b[0m                       Traceback (most recent call last)",
      "Cell \u001b[1;32mIn[36], line 6\u001b[0m\n\u001b[0;32m      4\u001b[0m \u001b[38;5;28;01mimport\u001b[39;00m \u001b[38;5;21;01mseaborn\u001b[39;00m \u001b[38;5;28;01mas\u001b[39;00m \u001b[38;5;21;01msns\u001b[39;00m\n\u001b[0;32m      5\u001b[0m \u001b[38;5;28;01mfrom\u001b[39;00m \u001b[38;5;21;01msklearn\u001b[39;00m \u001b[38;5;28;01mimport\u001b[39;00m preprocessing\n\u001b[1;32m----> 6\u001b[0m \u001b[38;5;28;01mfrom\u001b[39;00m \u001b[38;5;21;01mkeras\u001b[39;00m\u001b[38;5;21;01m.\u001b[39;00m\u001b[38;5;21;01mdatasets\u001b[39;00m \u001b[38;5;28;01mimport\u001b[39;00m mnist\n",
      "File \u001b[1;32m~\\anaconda3\\Lib\\site-packages\\keras\\__init__.py:3\u001b[0m\n\u001b[0;32m      1\u001b[0m \u001b[38;5;124;03m\"\"\"AUTOGENERATED. DO NOT EDIT.\"\"\"\u001b[39;00m\n\u001b[1;32m----> 3\u001b[0m \u001b[38;5;28;01mfrom\u001b[39;00m \u001b[38;5;21;01mkeras\u001b[39;00m \u001b[38;5;28;01mimport\u001b[39;00m __internal__\n\u001b[0;32m      4\u001b[0m \u001b[38;5;28;01mfrom\u001b[39;00m \u001b[38;5;21;01mkeras\u001b[39;00m \u001b[38;5;28;01mimport\u001b[39;00m activations\n\u001b[0;32m      5\u001b[0m \u001b[38;5;28;01mfrom\u001b[39;00m \u001b[38;5;21;01mkeras\u001b[39;00m \u001b[38;5;28;01mimport\u001b[39;00m applications\n",
      "File \u001b[1;32m~\\anaconda3\\Lib\\site-packages\\keras\\__internal__\\__init__.py:3\u001b[0m\n\u001b[0;32m      1\u001b[0m \u001b[38;5;124;03m\"\"\"AUTOGENERATED. DO NOT EDIT.\"\"\"\u001b[39;00m\n\u001b[1;32m----> 3\u001b[0m \u001b[38;5;28;01mfrom\u001b[39;00m \u001b[38;5;21;01mkeras\u001b[39;00m\u001b[38;5;21;01m.\u001b[39;00m\u001b[38;5;21;01m__internal__\u001b[39;00m \u001b[38;5;28;01mimport\u001b[39;00m backend\n\u001b[0;32m      4\u001b[0m \u001b[38;5;28;01mfrom\u001b[39;00m \u001b[38;5;21;01mkeras\u001b[39;00m\u001b[38;5;21;01m.\u001b[39;00m\u001b[38;5;21;01m__internal__\u001b[39;00m \u001b[38;5;28;01mimport\u001b[39;00m layers\n\u001b[0;32m      5\u001b[0m \u001b[38;5;28;01mfrom\u001b[39;00m \u001b[38;5;21;01mkeras\u001b[39;00m\u001b[38;5;21;01m.\u001b[39;00m\u001b[38;5;21;01m__internal__\u001b[39;00m \u001b[38;5;28;01mimport\u001b[39;00m losses\n",
      "File \u001b[1;32m~\\anaconda3\\Lib\\site-packages\\keras\\__internal__\\backend\\__init__.py:3\u001b[0m\n\u001b[0;32m      1\u001b[0m \u001b[38;5;124;03m\"\"\"AUTOGENERATED. DO NOT EDIT.\"\"\"\u001b[39;00m\n\u001b[1;32m----> 3\u001b[0m \u001b[38;5;28;01mfrom\u001b[39;00m \u001b[38;5;21;01mkeras\u001b[39;00m\u001b[38;5;21;01m.\u001b[39;00m\u001b[38;5;21;01msrc\u001b[39;00m\u001b[38;5;21;01m.\u001b[39;00m\u001b[38;5;21;01mbackend\u001b[39;00m \u001b[38;5;28;01mimport\u001b[39;00m _initialize_variables \u001b[38;5;28;01mas\u001b[39;00m initialize_variables\n\u001b[0;32m      4\u001b[0m \u001b[38;5;28;01mfrom\u001b[39;00m \u001b[38;5;21;01mkeras\u001b[39;00m\u001b[38;5;21;01m.\u001b[39;00m\u001b[38;5;21;01msrc\u001b[39;00m\u001b[38;5;21;01m.\u001b[39;00m\u001b[38;5;21;01mbackend\u001b[39;00m \u001b[38;5;28;01mimport\u001b[39;00m track_variable\n",
      "File \u001b[1;32m~\\anaconda3\\Lib\\site-packages\\keras\\src\\__init__.py:21\u001b[0m\n\u001b[0;32m     15\u001b[0m \u001b[38;5;124;03m\"\"\"Implementation of the Keras API, the high-level API of TensorFlow.\u001b[39;00m\n\u001b[0;32m     16\u001b[0m \n\u001b[0;32m     17\u001b[0m \u001b[38;5;124;03mDetailed documentation and user guides are available at\u001b[39;00m\n\u001b[0;32m     18\u001b[0m \u001b[38;5;124;03m[keras.io](https://keras.io).\u001b[39;00m\n\u001b[0;32m     19\u001b[0m \u001b[38;5;124;03m\"\"\"\u001b[39;00m\n\u001b[0;32m     20\u001b[0m \u001b[38;5;28;01mfrom\u001b[39;00m \u001b[38;5;21;01mkeras\u001b[39;00m\u001b[38;5;21;01m.\u001b[39;00m\u001b[38;5;21;01msrc\u001b[39;00m \u001b[38;5;28;01mimport\u001b[39;00m distribute\n\u001b[1;32m---> 21\u001b[0m \u001b[38;5;28;01mfrom\u001b[39;00m \u001b[38;5;21;01mkeras\u001b[39;00m\u001b[38;5;21;01m.\u001b[39;00m\u001b[38;5;21;01msrc\u001b[39;00m \u001b[38;5;28;01mimport\u001b[39;00m models\n\u001b[0;32m     22\u001b[0m \u001b[38;5;28;01mfrom\u001b[39;00m \u001b[38;5;21;01mkeras\u001b[39;00m\u001b[38;5;21;01m.\u001b[39;00m\u001b[38;5;21;01msrc\u001b[39;00m\u001b[38;5;21;01m.\u001b[39;00m\u001b[38;5;21;01mengine\u001b[39;00m\u001b[38;5;21;01m.\u001b[39;00m\u001b[38;5;21;01minput_layer\u001b[39;00m \u001b[38;5;28;01mimport\u001b[39;00m Input\n\u001b[0;32m     23\u001b[0m \u001b[38;5;28;01mfrom\u001b[39;00m \u001b[38;5;21;01mkeras\u001b[39;00m\u001b[38;5;21;01m.\u001b[39;00m\u001b[38;5;21;01msrc\u001b[39;00m\u001b[38;5;21;01m.\u001b[39;00m\u001b[38;5;21;01mengine\u001b[39;00m\u001b[38;5;21;01m.\u001b[39;00m\u001b[38;5;21;01msequential\u001b[39;00m \u001b[38;5;28;01mimport\u001b[39;00m Sequential\n",
      "File \u001b[1;32m~\\anaconda3\\Lib\\site-packages\\keras\\src\\models\\__init__.py:18\u001b[0m\n\u001b[0;32m      1\u001b[0m \u001b[38;5;66;03m# Copyright 2022 The TensorFlow Authors. All Rights Reserved.\u001b[39;00m\n\u001b[0;32m      2\u001b[0m \u001b[38;5;66;03m#\u001b[39;00m\n\u001b[0;32m      3\u001b[0m \u001b[38;5;66;03m# Licensed under the Apache License, Version 2.0 (the \"License\");\u001b[39;00m\n\u001b[1;32m   (...)\u001b[0m\n\u001b[0;32m     13\u001b[0m \u001b[38;5;66;03m# limitations under the License.\u001b[39;00m\n\u001b[0;32m     14\u001b[0m \u001b[38;5;66;03m# ==============================================================================\u001b[39;00m\n\u001b[0;32m     15\u001b[0m \u001b[38;5;124;03m\"\"\"Keras models API.\"\"\"\u001b[39;00m\n\u001b[1;32m---> 18\u001b[0m \u001b[38;5;28;01mfrom\u001b[39;00m \u001b[38;5;21;01mkeras\u001b[39;00m\u001b[38;5;21;01m.\u001b[39;00m\u001b[38;5;21;01msrc\u001b[39;00m\u001b[38;5;21;01m.\u001b[39;00m\u001b[38;5;21;01mengine\u001b[39;00m\u001b[38;5;21;01m.\u001b[39;00m\u001b[38;5;21;01mfunctional\u001b[39;00m \u001b[38;5;28;01mimport\u001b[39;00m Functional\n\u001b[0;32m     19\u001b[0m \u001b[38;5;28;01mfrom\u001b[39;00m \u001b[38;5;21;01mkeras\u001b[39;00m\u001b[38;5;21;01m.\u001b[39;00m\u001b[38;5;21;01msrc\u001b[39;00m\u001b[38;5;21;01m.\u001b[39;00m\u001b[38;5;21;01mengine\u001b[39;00m\u001b[38;5;21;01m.\u001b[39;00m\u001b[38;5;21;01msequential\u001b[39;00m \u001b[38;5;28;01mimport\u001b[39;00m Sequential\n\u001b[0;32m     20\u001b[0m \u001b[38;5;28;01mfrom\u001b[39;00m \u001b[38;5;21;01mkeras\u001b[39;00m\u001b[38;5;21;01m.\u001b[39;00m\u001b[38;5;21;01msrc\u001b[39;00m\u001b[38;5;21;01m.\u001b[39;00m\u001b[38;5;21;01mengine\u001b[39;00m\u001b[38;5;21;01m.\u001b[39;00m\u001b[38;5;21;01mtraining\u001b[39;00m \u001b[38;5;28;01mimport\u001b[39;00m Model\n",
      "File \u001b[1;32m~\\anaconda3\\Lib\\site-packages\\keras\\src\\engine\\functional.py:23\u001b[0m\n\u001b[0;32m     20\u001b[0m \u001b[38;5;28;01mimport\u001b[39;00m \u001b[38;5;21;01mitertools\u001b[39;00m\n\u001b[0;32m     21\u001b[0m \u001b[38;5;28;01mimport\u001b[39;00m \u001b[38;5;21;01mwarnings\u001b[39;00m\n\u001b[1;32m---> 23\u001b[0m \u001b[38;5;28;01mimport\u001b[39;00m \u001b[38;5;21;01mtensorflow\u001b[39;00m\u001b[38;5;21;01m.\u001b[39;00m\u001b[38;5;21;01mcompat\u001b[39;00m\u001b[38;5;21;01m.\u001b[39;00m\u001b[38;5;21;01mv2\u001b[39;00m \u001b[38;5;28;01mas\u001b[39;00m \u001b[38;5;21;01mtf\u001b[39;00m\n\u001b[0;32m     25\u001b[0m \u001b[38;5;28;01mfrom\u001b[39;00m \u001b[38;5;21;01mkeras\u001b[39;00m\u001b[38;5;21;01m.\u001b[39;00m\u001b[38;5;21;01msrc\u001b[39;00m \u001b[38;5;28;01mimport\u001b[39;00m backend\n\u001b[0;32m     26\u001b[0m \u001b[38;5;28;01mfrom\u001b[39;00m \u001b[38;5;21;01mkeras\u001b[39;00m\u001b[38;5;21;01m.\u001b[39;00m\u001b[38;5;21;01msrc\u001b[39;00m\u001b[38;5;21;01m.\u001b[39;00m\u001b[38;5;21;01mdtensor\u001b[39;00m \u001b[38;5;28;01mimport\u001b[39;00m layout_map \u001b[38;5;28;01mas\u001b[39;00m layout_map_lib\n",
      "\u001b[1;31mModuleNotFoundError\u001b[0m: No module named 'tensorflow'"
     ]
    }
   ],
   "source": [
    "#6\n",
    "from sklearn.manifold import TSNE\n",
    "import numpy as np\n",
    "import seaborn as sns\n",
    "from sklearn import preprocessing\n",
    "from keras.datasets import mnist\n"
   ]
  },
  {
   "cell_type": "code",
   "execution_count": null,
   "id": "2b754fbd",
   "metadata": {},
   "outputs": [],
   "source": [
    "(x_train, y_train), (x_test, y_test) = mnist.load_data()"
   ]
  },
  {
   "cell_type": "code",
   "execution_count": 35,
   "id": "91fbedf2",
   "metadata": {},
   "outputs": [
    {
     "name": "stdout",
     "output_type": "stream",
     "text": [
      "Collecting keras\n",
      "  Obtaining dependency information for keras from https://files.pythonhosted.org/packages/fe/58/34d4d8f1aa11120c2d36d7ad27d0526164b1a8ae45990a2fede31d0e59bf/keras-2.14.0-py3-none-any.whl.metadata\n",
      "  Using cached keras-2.14.0-py3-none-any.whl.metadata (2.4 kB)\n",
      "Downloading keras-2.14.0-py3-none-any.whl (1.7 MB)\n",
      "   ---------------------------------------- 0.0/1.7 MB ? eta -:--:--\n",
      "   ---------------------------------------- 0.0/1.7 MB ? eta -:--:--\n",
      "   ---------------------------------------- 0.0/1.7 MB ? eta -:--:--\n",
      "   ---------------------------------------- 0.0/1.7 MB ? eta -:--:--\n",
      "   ---------------------------------------- 0.0/1.7 MB ? eta -:--:--\n",
      "   ---------------------------------------- 0.0/1.7 MB ? eta -:--:--\n",
      "   ---------------------------------------- 0.0/1.7 MB ? eta -:--:--\n",
      "   ---------------------------------------- 0.0/1.7 MB ? eta -:--:--\n",
      "   ---------------------------------------- 0.0/1.7 MB ? eta -:--:--\n",
      "   ---------------------------------------- 0.0/1.7 MB ? eta -:--:--\n",
      "   ---------------------------------------- 0.0/1.7 MB ? eta -:--:--\n",
      "   ---------------------------------------- 0.0/1.7 MB ? eta -:--:--\n",
      "   ---------------------------------------- 0.0/1.7 MB ? eta -:--:--\n",
      "   ---------------------------------------- 0.0/1.7 MB ? eta -:--:--\n",
      "   ---------------------------------------- 0.0/1.7 MB ? eta -:--:--\n",
      "   ---------------------------------------- 0.0/1.7 MB ? eta -:--:--\n",
      "   ---------------------------------------- 0.0/1.7 MB ? eta -:--:--\n",
      "   ---------------------------------------- 0.0/1.7 MB ? eta -:--:--\n",
      "   ---------------------------------------- 0.0/1.7 MB ? eta -:--:--\n",
      "   ---------------------------------------- 0.0/1.7 MB ? eta -:--:--\n",
      "   ---------------------------------------- 0.0/1.7 MB ? eta -:--:--\n",
      "   ---------------------------------------- 0.0/1.7 MB ? eta -:--:--\n",
      "   ---------------------------------------- 0.0/1.7 MB ? eta -:--:--\n",
      "   ---------------------------------------- 0.0/1.7 MB ? eta -:--:--\n",
      "   ---------------------------------------- 0.0/1.7 MB ? eta -:--:--\n",
      "   ---------------------------------------- 0.0/1.7 MB ? eta -:--:--\n",
      "   ---------------------------------------- 0.0/1.7 MB ? eta -:--:--\n",
      "   ---------------------------------------- 0.0/1.7 MB ? eta -:--:--\n",
      "   ---------------------------------------- 0.0/1.7 MB ? eta -:--:--\n",
      "   ---------------------------------------- 0.0/1.7 MB ? eta -:--:--\n",
      "   ---------------------------------------- 0.0/1.7 MB ? eta -:--:--\n",
      "   ---------------------------------------- 0.0/1.7 MB ? eta -:--:--\n",
      "   ---------------------------------------- 0.0/1.7 MB ? eta -:--:--\n",
      "   ---------------------------------------- 0.0/1.7 MB ? eta -:--:--\n",
      "   ---------------------------------------- 0.0/1.7 MB ? eta -:--:--\n",
      "   ---------------------------------------- 0.0/1.7 MB ? eta -:--:--\n",
      "   ---------------------------------------- 0.0/1.7 MB ? eta -:--:--\n",
      "   ---------------------------------------- 0.0/1.7 MB ? eta -:--:--\n",
      "   ---------------------------------------- 0.0/1.7 MB ? eta -:--:--\n",
      "   ---------------------------------------- 0.0/1.7 MB ? eta -:--:--\n",
      "   ---------------------------------------- 0.0/1.7 MB ? eta -:--:--\n",
      "   ---------------------------------------- 0.0/1.7 MB ? eta -:--:--\n",
      "   ---------------------------------------- 0.0/1.7 MB ? eta -:--:--\n",
      "   ---------------------------------------- 0.0/1.7 MB ? eta -:--:--\n",
      "    --------------------------------------- 0.0/1.7 MB 24.3 kB/s eta 0:01:10\n",
      "    --------------------------------------- 0.0/1.7 MB 24.3 kB/s eta 0:01:10\n",
      "    --------------------------------------- 0.0/1.7 MB 24.3 kB/s eta 0:01:10\n",
      "    --------------------------------------- 0.0/1.7 MB 24.3 kB/s eta 0:01:10\n",
      "    --------------------------------------- 0.0/1.7 MB 24.3 kB/s eta 0:01:10\n",
      "    --------------------------------------- 0.0/1.7 MB 24.3 kB/s eta 0:01:10\n",
      "    --------------------------------------- 0.0/1.7 MB 24.3 kB/s eta 0:01:10\n",
      "    --------------------------------------- 0.0/1.7 MB 24.3 kB/s eta 0:01:10\n",
      "    --------------------------------------- 0.0/1.7 MB 24.3 kB/s eta 0:01:10\n",
      "    --------------------------------------- 0.0/1.7 MB 24.3 kB/s eta 0:01:10\n",
      "    --------------------------------------- 0.0/1.7 MB 24.3 kB/s eta 0:01:10\n",
      "    --------------------------------------- 0.0/1.7 MB 24.3 kB/s eta 0:01:10\n",
      "    --------------------------------------- 0.0/1.7 MB 24.3 kB/s eta 0:01:10\n",
      "    --------------------------------------- 0.0/1.7 MB 24.3 kB/s eta 0:01:10\n",
      "    --------------------------------------- 0.0/1.7 MB 24.3 kB/s eta 0:01:10\n",
      "    --------------------------------------- 0.0/1.7 MB 24.3 kB/s eta 0:01:10\n",
      "    --------------------------------------- 0.0/1.7 MB 24.3 kB/s eta 0:01:10\n",
      "    --------------------------------------- 0.0/1.7 MB 24.3 kB/s eta 0:01:10\n",
      "    --------------------------------------- 0.0/1.7 MB 24.3 kB/s eta 0:01:10\n",
      "    --------------------------------------- 0.0/1.7 MB 17.2 kB/s eta 0:01:37\n",
      "    --------------------------------------- 0.0/1.7 MB 17.2 kB/s eta 0:01:37\n",
      "    --------------------------------------- 0.0/1.7 MB 17.2 kB/s eta 0:01:37\n",
      "    --------------------------------------- 0.0/1.7 MB 17.2 kB/s eta 0:01:37\n",
      "    --------------------------------------- 0.0/1.7 MB 17.2 kB/s eta 0:01:37\n",
      "    --------------------------------------- 0.0/1.7 MB 17.2 kB/s eta 0:01:37\n",
      "    --------------------------------------- 0.0/1.7 MB 17.2 kB/s eta 0:01:37\n",
      "    --------------------------------------- 0.0/1.7 MB 17.2 kB/s eta 0:01:37\n",
      "    --------------------------------------- 0.0/1.7 MB 17.2 kB/s eta 0:01:37\n",
      "    --------------------------------------- 0.0/1.7 MB 17.2 kB/s eta 0:01:37\n",
      "    --------------------------------------- 0.0/1.7 MB 17.2 kB/s eta 0:01:37\n",
      "    --------------------------------------- 0.0/1.7 MB 17.2 kB/s eta 0:01:37\n",
      "    --------------------------------------- 0.0/1.7 MB 17.2 kB/s eta 0:01:37\n",
      "    --------------------------------------- 0.0/1.7 MB 17.2 kB/s eta 0:01:37\n",
      "    --------------------------------------- 0.0/1.7 MB 17.2 kB/s eta 0:01:37\n",
      "    --------------------------------------- 0.0/1.7 MB 17.2 kB/s eta 0:01:37\n",
      "    --------------------------------------- 0.0/1.7 MB 17.2 kB/s eta 0:01:37\n",
      "    --------------------------------------- 0.0/1.7 MB 17.2 kB/s eta 0:01:37\n",
      "    --------------------------------------- 0.0/1.7 MB 17.2 kB/s eta 0:01:37\n",
      "    --------------------------------------- 0.0/1.7 MB 17.2 kB/s eta 0:01:37\n",
      "    --------------------------------------- 0.0/1.7 MB 17.2 kB/s eta 0:01:37\n",
      "    --------------------------------------- 0.0/1.7 MB 17.2 kB/s eta 0:01:37\n",
      "    --------------------------------------- 0.0/1.7 MB 17.2 kB/s eta 0:01:37\n",
      "    --------------------------------------- 0.0/1.7 MB 17.2 kB/s eta 0:01:37\n",
      "    --------------------------------------- 0.0/1.7 MB 17.2 kB/s eta 0:01:37\n",
      "    --------------------------------------- 0.0/1.7 MB 17.2 kB/s eta 0:01:37\n",
      "    --------------------------------------- 0.0/1.7 MB 17.2 kB/s eta 0:01:37\n",
      "    --------------------------------------- 0.0/1.7 MB 17.2 kB/s eta 0:01:37\n",
      "    --------------------------------------- 0.0/1.7 MB 17.2 kB/s eta 0:01:37\n",
      "    --------------------------------------- 0.0/1.7 MB 17.2 kB/s eta 0:01:37\n",
      "    --------------------------------------- 0.0/1.7 MB 17.2 kB/s eta 0:01:37\n",
      "    --------------------------------------- 0.0/1.7 MB 17.2 kB/s eta 0:01:37\n",
      "   - -------------------------------------- 0.1/1.7 MB 15.6 kB/s eta 0:01:46\n",
      "   - -------------------------------------- 0.1/1.7 MB 15.6 kB/s eta 0:01:46\n",
      "   - -------------------------------------- 0.1/1.7 MB 15.6 kB/s eta 0:01:46\n",
      "   - -------------------------------------- 0.1/1.7 MB 15.6 kB/s eta 0:01:46\n",
      "   - -------------------------------------- 0.1/1.7 MB 15.6 kB/s eta 0:01:46\n",
      "   - -------------------------------------- 0.1/1.7 MB 15.6 kB/s eta 0:01:46\n",
      "   - -------------------------------------- 0.1/1.7 MB 15.6 kB/s eta 0:01:46\n",
      "   - -------------------------------------- 0.1/1.7 MB 15.6 kB/s eta 0:01:46\n",
      "   - -------------------------------------- 0.1/1.7 MB 15.6 kB/s eta 0:01:46\n",
      "   - -------------------------------------- 0.1/1.7 MB 15.6 kB/s eta 0:01:46\n",
      "   - -------------------------------------- 0.1/1.7 MB 15.6 kB/s eta 0:01:46\n",
      "   - -------------------------------------- 0.1/1.7 MB 15.6 kB/s eta 0:01:46\n",
      "   - -------------------------------------- 0.1/1.7 MB 15.6 kB/s eta 0:01:46\n",
      "   - -------------------------------------- 0.1/1.7 MB 15.6 kB/s eta 0:01:46\n",
      "   - -------------------------------------- 0.1/1.7 MB 15.6 kB/s eta 0:01:46\n",
      "   - -------------------------------------- 0.1/1.7 MB 15.6 kB/s eta 0:01:46\n",
      "   - -------------------------------------- 0.1/1.7 MB 15.6 kB/s eta 0:01:46\n",
      "   - -------------------------------------- 0.1/1.7 MB 15.6 kB/s eta 0:01:46\n",
      "   - -------------------------------------- 0.1/1.7 MB 15.6 kB/s eta 0:01:46\n",
      "   - -------------------------------------- 0.1/1.7 MB 15.6 kB/s eta 0:01:46\n",
      "   - -------------------------------------- 0.1/1.7 MB 15.6 kB/s eta 0:01:46\n",
      "   - -------------------------------------- 0.1/1.7 MB 15.6 kB/s eta 0:01:46\n",
      "   - -------------------------------------- 0.1/1.7 MB 15.6 kB/s eta 0:01:46\n",
      "   - -------------------------------------- 0.1/1.7 MB 15.6 kB/s eta 0:01:46\n",
      "   - -------------------------------------- 0.1/1.7 MB 15.6 kB/s eta 0:01:46\n",
      "   - -------------------------------------- 0.1/1.7 MB 15.6 kB/s eta 0:01:46\n",
      "   - -------------------------------------- 0.1/1.7 MB 15.6 kB/s eta 0:01:46\n",
      "   - -------------------------------------- 0.1/1.7 MB 15.6 kB/s eta 0:01:46\n",
      "   - -------------------------------------- 0.1/1.7 MB 15.6 kB/s eta 0:01:46\n",
      "   - -------------------------------------- 0.1/1.7 MB 15.6 kB/s eta 0:01:46\n",
      "   - -------------------------------------- 0.1/1.7 MB 15.6 kB/s eta 0:01:46\n",
      "   - -------------------------------------- 0.1/1.7 MB 15.6 kB/s eta 0:01:46\n",
      "   - -------------------------------------- 0.1/1.7 MB 15.6 kB/s eta 0:01:46\n",
      "   - -------------------------------------- 0.1/1.7 MB 15.6 kB/s eta 0:01:46\n",
      "   - -------------------------------------- 0.1/1.7 MB 15.6 kB/s eta 0:01:46\n",
      "   - -------------------------------------- 0.1/1.7 MB 15.6 kB/s eta 0:01:46\n",
      "   - -------------------------------------- 0.1/1.7 MB 15.6 kB/s eta 0:01:46\n",
      "   - -------------------------------------- 0.1/1.7 MB 15.6 kB/s eta 0:01:46\n",
      "   - -------------------------------------- 0.1/1.7 MB 15.6 kB/s eta 0:01:46\n",
      "   - -------------------------------------- 0.1/1.7 MB 15.6 kB/s eta 0:01:46\n",
      "   - -------------------------------------- 0.1/1.7 MB 15.6 kB/s eta 0:01:46\n",
      "   - -------------------------------------- 0.1/1.7 MB 15.6 kB/s eta 0:01:46\n",
      "   - -------------------------------------- 0.1/1.7 MB 15.6 kB/s eta 0:01:46\n",
      "   - -------------------------------------- 0.1/1.7 MB 15.6 kB/s eta 0:01:46\n",
      "   - -------------------------------------- 0.1/1.7 MB 15.6 kB/s eta 0:01:46\n",
      "   - -------------------------------------- 0.1/1.7 MB 15.6 kB/s eta 0:01:46\n",
      "   - -------------------------------------- 0.1/1.7 MB 15.6 kB/s eta 0:01:46\n",
      "   - -------------------------------------- 0.1/1.7 MB 15.6 kB/s eta 0:01:46\n",
      "   - -------------------------------------- 0.1/1.7 MB 15.6 kB/s eta 0:01:46\n",
      "   - -------------------------------------- 0.1/1.7 MB 15.6 kB/s eta 0:01:46\n",
      "   - -------------------------------------- 0.1/1.7 MB 10.8 kB/s eta 0:02:32\n",
      "   - -------------------------------------- 0.1/1.7 MB 10.8 kB/s eta 0:02:32\n",
      "   - -------------------------------------- 0.1/1.7 MB 10.8 kB/s eta 0:02:32\n",
      "   - -------------------------------------- 0.1/1.7 MB 10.8 kB/s eta 0:02:32\n",
      "   - -------------------------------------- 0.1/1.7 MB 10.8 kB/s eta 0:02:32\n",
      "   - -------------------------------------- 0.1/1.7 MB 10.8 kB/s eta 0:02:32\n",
      "   - -------------------------------------- 0.1/1.7 MB 10.8 kB/s eta 0:02:32\n",
      "   - -------------------------------------- 0.1/1.7 MB 10.8 kB/s eta 0:02:32\n",
      "   - -------------------------------------- 0.1/1.7 MB 10.8 kB/s eta 0:02:32\n",
      "   - -------------------------------------- 0.1/1.7 MB 10.8 kB/s eta 0:02:32\n",
      "   - -------------------------------------- 0.1/1.7 MB 10.8 kB/s eta 0:02:32\n",
      "   - -------------------------------------- 0.1/1.7 MB 10.8 kB/s eta 0:02:32\n",
      "   - -------------------------------------- 0.1/1.7 MB 10.8 kB/s eta 0:02:32\n",
      "   - -------------------------------------- 0.1/1.7 MB 10.8 kB/s eta 0:02:32\n",
      "   - -------------------------------------- 0.1/1.7 MB 10.8 kB/s eta 0:02:32\n",
      "   - -------------------------------------- 0.1/1.7 MB 10.8 kB/s eta 0:02:32\n",
      "   - -------------------------------------- 0.1/1.7 MB 10.8 kB/s eta 0:02:32\n",
      "   - -------------------------------------- 0.1/1.7 MB 10.8 kB/s eta 0:02:32\n",
      "   - -------------------------------------- 0.1/1.7 MB 10.8 kB/s eta 0:02:32\n",
      "   - -------------------------------------- 0.1/1.7 MB 10.8 kB/s eta 0:02:32\n",
      "   - -------------------------------------- 0.1/1.7 MB 10.8 kB/s eta 0:02:32\n",
      "   - -------------------------------------- 0.1/1.7 MB 10.8 kB/s eta 0:02:32\n",
      "   - -------------------------------------- 0.1/1.7 MB 10.8 kB/s eta 0:02:32\n",
      "   - -------------------------------------- 0.1/1.7 MB 10.8 kB/s eta 0:02:32\n",
      "   - -------------------------------------- 0.1/1.7 MB 10.8 kB/s eta 0:02:32\n",
      "   -- ------------------------------------- 0.1/1.7 MB 11.9 kB/s eta 0:02:16\n",
      "   -- ------------------------------------- 0.1/1.7 MB 11.9 kB/s eta 0:02:16\n",
      "   -- ------------------------------------- 0.1/1.7 MB 11.9 kB/s eta 0:02:16\n",
      "   -- ------------------------------------- 0.1/1.7 MB 11.9 kB/s eta 0:02:16\n",
      "   -- ------------------------------------- 0.1/1.7 MB 11.9 kB/s eta 0:02:16\n",
      "   -- ------------------------------------- 0.1/1.7 MB 11.9 kB/s eta 0:02:16\n",
      "   -- ------------------------------------- 0.1/1.7 MB 11.9 kB/s eta 0:02:16\n",
      "   -- ------------------------------------- 0.1/1.7 MB 11.9 kB/s eta 0:02:16\n",
      "   -- ------------------------------------- 0.1/1.7 MB 11.9 kB/s eta 0:02:16\n",
      "   -- ------------------------------------- 0.1/1.7 MB 11.9 kB/s eta 0:02:16\n",
      "   -- ------------------------------------- 0.1/1.7 MB 11.9 kB/s eta 0:02:16\n",
      "   -- ------------------------------------- 0.1/1.7 MB 11.9 kB/s eta 0:02:16\n",
      "   -- ------------------------------------- 0.1/1.7 MB 11.9 kB/s eta 0:02:16\n",
      "   -- ------------------------------------- 0.1/1.7 MB 11.9 kB/s eta 0:02:16\n",
      "   -- ------------------------------------- 0.1/1.7 MB 13.5 kB/s eta 0:01:58\n",
      "   -- ------------------------------------- 0.1/1.7 MB 13.5 kB/s eta 0:01:58\n",
      "   -- ------------------------------------- 0.1/1.7 MB 13.5 kB/s eta 0:01:58\n",
      "   -- ------------------------------------- 0.1/1.7 MB 13.5 kB/s eta 0:01:58\n",
      "   -- ------------------------------------- 0.1/1.7 MB 13.5 kB/s eta 0:01:58\n",
      "   -- ------------------------------------- 0.1/1.7 MB 13.5 kB/s eta 0:01:58\n",
      "   -- ------------------------------------- 0.1/1.7 MB 13.5 kB/s eta 0:01:58\n",
      "   -- ------------------------------------- 0.1/1.7 MB 13.5 kB/s eta 0:01:58\n",
      "   -- ------------------------------------- 0.1/1.7 MB 13.5 kB/s eta 0:01:58\n",
      "   -- ------------------------------------- 0.1/1.7 MB 13.5 kB/s eta 0:01:58\n",
      "   -- ------------------------------------- 0.1/1.7 MB 13.5 kB/s eta 0:01:58\n",
      "   -- ------------------------------------- 0.1/1.7 MB 13.5 kB/s eta 0:01:58\n",
      "   -- ------------------------------------- 0.1/1.7 MB 13.8 kB/s eta 0:01:55\n",
      "   -- ------------------------------------- 0.1/1.7 MB 13.8 kB/s eta 0:01:55\n",
      "   -- ------------------------------------- 0.1/1.7 MB 13.8 kB/s eta 0:01:55\n",
      "   -- ------------------------------------- 0.1/1.7 MB 13.8 kB/s eta 0:01:55\n",
      "   -- ------------------------------------- 0.1/1.7 MB 13.8 kB/s eta 0:01:55\n",
      "   -- ------------------------------------- 0.1/1.7 MB 13.8 kB/s eta 0:01:55\n",
      "   -- ------------------------------------- 0.1/1.7 MB 13.8 kB/s eta 0:01:55\n",
      "   -- ------------------------------------- 0.1/1.7 MB 13.8 kB/s eta 0:01:55\n",
      "   -- ------------------------------------- 0.1/1.7 MB 13.8 kB/s eta 0:01:55\n",
      "   -- ------------------------------------- 0.1/1.7 MB 13.8 kB/s eta 0:01:55\n",
      "   -- ------------------------------------- 0.1/1.7 MB 13.8 kB/s eta 0:01:55\n",
      "   -- ------------------------------------- 0.1/1.7 MB 13.8 kB/s eta 0:01:55\n",
      "   -- ------------------------------------- 0.1/1.7 MB 13.8 kB/s eta 0:01:55\n",
      "   -- ------------------------------------- 0.1/1.7 MB 13.8 kB/s eta 0:01:55\n",
      "   -- ------------------------------------- 0.1/1.7 MB 13.8 kB/s eta 0:01:55\n",
      "   -- ------------------------------------- 0.1/1.7 MB 13.8 kB/s eta 0:01:55\n",
      "   -- ------------------------------------- 0.1/1.7 MB 13.8 kB/s eta 0:01:55\n",
      "   -- ------------------------------------- 0.1/1.7 MB 13.8 kB/s eta 0:01:55\n",
      "   -- ------------------------------------- 0.1/1.7 MB 13.8 kB/s eta 0:01:55\n",
      "   -- ------------------------------------- 0.1/1.7 MB 13.8 kB/s eta 0:01:55\n",
      "   -- ------------------------------------- 0.1/1.7 MB 13.8 kB/s eta 0:01:55\n",
      "   -- ------------------------------------- 0.1/1.7 MB 13.8 kB/s eta 0:01:55\n",
      "   -- ------------------------------------- 0.1/1.7 MB 13.8 kB/s eta 0:01:55\n",
      "   -- ------------------------------------- 0.1/1.7 MB 13.8 kB/s eta 0:01:55\n",
      "   -- ------------------------------------- 0.1/1.7 MB 13.8 kB/s eta 0:01:55\n",
      "   -- ------------------------------------- 0.1/1.7 MB 13.8 kB/s eta 0:01:55\n",
      "   -- ------------------------------------- 0.1/1.7 MB 13.8 kB/s eta 0:01:55\n",
      "   --- ------------------------------------ 0.1/1.7 MB 14.2 kB/s eta 0:01:51\n",
      "   --- ------------------------------------ 0.1/1.7 MB 14.2 kB/s eta 0:01:51\n",
      "   --- ------------------------------------ 0.1/1.7 MB 14.2 kB/s eta 0:01:51\n",
      "   --- ------------------------------------ 0.1/1.7 MB 14.2 kB/s eta 0:01:51\n",
      "   --- ------------------------------------ 0.1/1.7 MB 14.2 kB/s eta 0:01:51\n",
      "   --- ------------------------------------ 0.1/1.7 MB 14.2 kB/s eta 0:01:51\n",
      "   --- ------------------------------------ 0.1/1.7 MB 14.2 kB/s eta 0:01:51\n",
      "   --- ------------------------------------ 0.1/1.7 MB 14.2 kB/s eta 0:01:51\n",
      "   --- ------------------------------------ 0.1/1.7 MB 14.2 kB/s eta 0:01:51\n",
      "   --- ------------------------------------ 0.1/1.7 MB 14.2 kB/s eta 0:01:51\n",
      "   --- ------------------------------------ 0.1/1.7 MB 14.2 kB/s eta 0:01:51\n",
      "   --- ------------------------------------ 0.1/1.7 MB 14.2 kB/s eta 0:01:51\n",
      "   --- ------------------------------------ 0.1/1.7 MB 14.2 kB/s eta 0:01:51\n",
      "   --- ------------------------------------ 0.1/1.7 MB 14.2 kB/s eta 0:01:51\n",
      "   --- ------------------------------------ 0.1/1.7 MB 14.2 kB/s eta 0:01:51\n",
      "   --- ------------------------------------ 0.1/1.7 MB 14.2 kB/s eta 0:01:51\n",
      "   --- ------------------------------------ 0.1/1.7 MB 14.2 kB/s eta 0:01:51\n",
      "   --- ------------------------------------ 0.1/1.7 MB 14.2 kB/s eta 0:01:51\n",
      "   --- ------------------------------------ 0.1/1.7 MB 14.2 kB/s eta 0:01:51\n",
      "   --- ------------------------------------ 0.1/1.7 MB 14.2 kB/s eta 0:01:51\n",
      "   --- ------------------------------------ 0.1/1.7 MB 14.2 kB/s eta 0:01:51\n",
      "   --- ------------------------------------ 0.1/1.7 MB 14.2 kB/s eta 0:01:51\n",
      "   --- ------------------------------------ 0.1/1.7 MB 14.2 kB/s eta 0:01:51\n",
      "   --- ------------------------------------ 0.1/1.7 MB 14.2 kB/s eta 0:01:51\n",
      "   --- ------------------------------------ 0.1/1.7 MB 14.2 kB/s eta 0:01:51\n",
      "   --- ------------------------------------ 0.1/1.7 MB 14.2 kB/s eta 0:01:51\n",
      "   --- ------------------------------------ 0.1/1.7 MB 14.2 kB/s eta 0:01:51\n",
      "   --- ------------------------------------ 0.1/1.7 MB 14.2 kB/s eta 0:01:51\n",
      "   --- ------------------------------------ 0.1/1.7 MB 14.2 kB/s eta 0:01:51\n",
      "   --- ------------------------------------ 0.1/1.7 MB 14.2 kB/s eta 0:01:51\n",
      "   --- ------------------------------------ 0.1/1.7 MB 14.2 kB/s eta 0:01:51\n",
      "   --- ------------------------------------ 0.1/1.7 MB 14.2 kB/s eta 0:01:51\n",
      "   --- ------------------------------------ 0.1/1.7 MB 14.2 kB/s eta 0:01:51\n",
      "   --- ------------------------------------ 0.1/1.7 MB 14.2 kB/s eta 0:01:51\n",
      "   --- ------------------------------------ 0.2/1.7 MB 13.0 kB/s eta 0:02:00\n",
      "   --- ------------------------------------ 0.2/1.7 MB 13.0 kB/s eta 0:02:00\n",
      "   --- ------------------------------------ 0.2/1.7 MB 13.0 kB/s eta 0:02:00\n",
      "   --- ------------------------------------ 0.2/1.7 MB 13.0 kB/s eta 0:02:00\n",
      "   --- ------------------------------------ 0.2/1.7 MB 13.0 kB/s eta 0:02:00\n",
      "   --- ------------------------------------ 0.2/1.7 MB 13.0 kB/s eta 0:02:00\n",
      "   --- ------------------------------------ 0.2/1.7 MB 13.0 kB/s eta 0:02:00\n",
      "   --- ------------------------------------ 0.2/1.7 MB 13.0 kB/s eta 0:02:00\n",
      "   --- ------------------------------------ 0.2/1.7 MB 13.0 kB/s eta 0:02:00\n",
      "   --- ------------------------------------ 0.2/1.7 MB 13.0 kB/s eta 0:02:00\n",
      "   --- ------------------------------------ 0.2/1.7 MB 13.0 kB/s eta 0:02:00\n",
      "   --- ------------------------------------ 0.2/1.7 MB 13.0 kB/s eta 0:02:00\n",
      "   --- ------------------------------------ 0.2/1.7 MB 13.0 kB/s eta 0:02:00\n",
      "   --- ------------------------------------ 0.2/1.7 MB 13.0 kB/s eta 0:02:00\n",
      "   --- ------------------------------------ 0.2/1.7 MB 13.0 kB/s eta 0:02:00\n",
      "   --- ------------------------------------ 0.2/1.7 MB 13.0 kB/s eta 0:02:00\n",
      "   --- ------------------------------------ 0.2/1.7 MB 13.0 kB/s eta 0:02:00\n",
      "   --- ------------------------------------ 0.2/1.7 MB 13.0 kB/s eta 0:02:00\n",
      "   --- ------------------------------------ 0.2/1.7 MB 13.0 kB/s eta 0:02:00\n",
      "   --- ------------------------------------ 0.2/1.7 MB 13.0 kB/s eta 0:02:00\n",
      "   --- ------------------------------------ 0.2/1.7 MB 13.0 kB/s eta 0:02:00\n",
      "   --- ------------------------------------ 0.2/1.7 MB 13.0 kB/s eta 0:02:00\n",
      "   --- ------------------------------------ 0.2/1.7 MB 13.0 kB/s eta 0:02:00\n",
      "   --- ------------------------------------ 0.2/1.7 MB 13.0 kB/s eta 0:02:00\n",
      "   --- ------------------------------------ 0.2/1.7 MB 13.0 kB/s eta 0:02:00\n",
      "   --- ------------------------------------ 0.2/1.7 MB 13.0 kB/s eta 0:02:00\n",
      "   --- ------------------------------------ 0.2/1.7 MB 13.0 kB/s eta 0:02:00\n",
      "   --- ------------------------------------ 0.2/1.7 MB 13.0 kB/s eta 0:02:00\n",
      "   --- ------------------------------------ 0.2/1.7 MB 13.0 kB/s eta 0:02:00\n",
      "   --- ------------------------------------ 0.2/1.7 MB 13.0 kB/s eta 0:02:00\n",
      "   --- ------------------------------------ 0.2/1.7 MB 13.0 kB/s eta 0:02:00\n",
      "   --- ------------------------------------ 0.2/1.7 MB 13.0 kB/s eta 0:02:00\n",
      "   --- ------------------------------------ 0.2/1.7 MB 13.0 kB/s eta 0:02:00\n",
      "   --- ------------------------------------ 0.2/1.7 MB 13.0 kB/s eta 0:02:00\n",
      "   --- ------------------------------------ 0.2/1.7 MB 13.0 kB/s eta 0:02:00\n",
      "   --- ------------------------------------ 0.2/1.7 MB 13.0 kB/s eta 0:02:00\n",
      "   --- ------------------------------------ 0.2/1.7 MB 13.0 kB/s eta 0:02:00\n",
      "   --- ------------------------------------ 0.2/1.7 MB 13.0 kB/s eta 0:02:00\n",
      "   --- ------------------------------------ 0.2/1.7 MB 13.0 kB/s eta 0:02:00\n",
      "   --- ------------------------------------ 0.2/1.7 MB 13.0 kB/s eta 0:02:00\n",
      "   --- ------------------------------------ 0.2/1.7 MB 13.0 kB/s eta 0:02:00\n",
      "   --- ------------------------------------ 0.2/1.7 MB 13.0 kB/s eta 0:02:00\n",
      "   --- ------------------------------------ 0.2/1.7 MB 13.0 kB/s eta 0:02:00\n",
      "   --- ------------------------------------ 0.2/1.7 MB 13.0 kB/s eta 0:02:00\n",
      "   --- ------------------------------------ 0.2/1.7 MB 13.0 kB/s eta 0:02:00\n",
      "   --- ------------------------------------ 0.2/1.7 MB 13.0 kB/s eta 0:02:00\n",
      "   --- ------------------------------------ 0.2/1.7 MB 13.0 kB/s eta 0:02:00\n",
      "   --- ------------------------------------ 0.2/1.7 MB 13.0 kB/s eta 0:02:00\n",
      "   --- ------------------------------------ 0.2/1.7 MB 13.0 kB/s eta 0:02:00\n",
      "   ---- ----------------------------------- 0.2/1.7 MB 12.2 kB/s eta 0:02:06\n",
      "   ---- ----------------------------------- 0.2/1.7 MB 12.2 kB/s eta 0:02:06\n",
      "   ---- ----------------------------------- 0.2/1.7 MB 12.2 kB/s eta 0:02:06\n",
      "   ---- ----------------------------------- 0.2/1.7 MB 12.2 kB/s eta 0:02:06\n",
      "   ---- ----------------------------------- 0.2/1.7 MB 12.2 kB/s eta 0:02:06\n",
      "   ---- ----------------------------------- 0.2/1.7 MB 12.2 kB/s eta 0:02:06\n",
      "   ---- ----------------------------------- 0.2/1.7 MB 12.2 kB/s eta 0:02:06\n",
      "   ---- ----------------------------------- 0.2/1.7 MB 12.2 kB/s eta 0:02:06\n",
      "   ---- ----------------------------------- 0.2/1.7 MB 12.2 kB/s eta 0:02:06\n",
      "   ---- ----------------------------------- 0.2/1.7 MB 12.2 kB/s eta 0:02:06\n",
      "   ---- ----------------------------------- 0.2/1.7 MB 12.2 kB/s eta 0:02:06\n",
      "   ---- ----------------------------------- 0.2/1.7 MB 12.2 kB/s eta 0:02:06\n",
      "   ---- ----------------------------------- 0.2/1.7 MB 12.2 kB/s eta 0:02:06\n",
      "   ---- ----------------------------------- 0.2/1.7 MB 12.2 kB/s eta 0:02:06\n",
      "   ---- ----------------------------------- 0.2/1.7 MB 12.2 kB/s eta 0:02:06\n",
      "   ---- ----------------------------------- 0.2/1.7 MB 12.2 kB/s eta 0:02:06\n",
      "   ---- ----------------------------------- 0.2/1.7 MB 12.2 kB/s eta 0:02:06\n",
      "   ---- ----------------------------------- 0.2/1.7 MB 12.2 kB/s eta 0:02:06\n",
      "   ---- ----------------------------------- 0.2/1.7 MB 12.2 kB/s eta 0:02:06\n",
      "   ---- ----------------------------------- 0.2/1.7 MB 12.2 kB/s eta 0:02:06\n",
      "   ---- ----------------------------------- 0.2/1.7 MB 12.2 kB/s eta 0:02:06\n",
      "   ---- ----------------------------------- 0.2/1.7 MB 12.2 kB/s eta 0:02:06\n",
      "   ---- ----------------------------------- 0.2/1.7 MB 12.2 kB/s eta 0:02:06\n",
      "   ---- ----------------------------------- 0.2/1.7 MB 12.2 kB/s eta 0:02:06\n",
      "   ---- ----------------------------------- 0.2/1.7 MB 12.2 kB/s eta 0:02:06\n",
      "   ---- ----------------------------------- 0.2/1.7 MB 12.2 kB/s eta 0:02:06\n",
      "   ---- ----------------------------------- 0.2/1.7 MB 12.2 kB/s eta 0:02:06\n",
      "   ---- ----------------------------------- 0.2/1.7 MB 12.2 kB/s eta 0:02:06\n",
      "   ---- ----------------------------------- 0.2/1.7 MB 12.2 kB/s eta 0:02:06\n",
      "   ---- ----------------------------------- 0.2/1.7 MB 12.2 kB/s eta 0:02:06\n",
      "   ---- ----------------------------------- 0.2/1.7 MB 12.2 kB/s eta 0:02:06\n",
      "   ---- ----------------------------------- 0.2/1.7 MB 12.2 kB/s eta 0:02:06\n",
      "   ---- ----------------------------------- 0.2/1.7 MB 12.2 kB/s eta 0:02:06\n",
      "   ---- ----------------------------------- 0.2/1.7 MB 12.2 kB/s eta 0:02:06\n",
      "   ---- ----------------------------------- 0.2/1.7 MB 12.2 kB/s eta 0:02:06\n",
      "   ---- ----------------------------------- 0.2/1.7 MB 12.2 kB/s eta 0:02:06\n",
      "   ---- ----------------------------------- 0.2/1.7 MB 12.2 kB/s eta 0:02:06\n",
      "   ---- ----------------------------------- 0.2/1.7 MB 12.2 kB/s eta 0:02:06\n",
      "   ---- ----------------------------------- 0.2/1.7 MB 12.2 kB/s eta 0:02:06\n",
      "   ---- ----------------------------------- 0.2/1.7 MB 12.2 kB/s eta 0:02:06\n",
      "   ---- ----------------------------------- 0.2/1.7 MB 12.2 kB/s eta 0:02:06\n",
      "   ---- ----------------------------------- 0.2/1.7 MB 12.2 kB/s eta 0:02:06\n",
      "   ---- ----------------------------------- 0.2/1.7 MB 12.2 kB/s eta 0:02:06\n",
      "   ---- ----------------------------------- 0.2/1.7 MB 12.2 kB/s eta 0:02:06\n",
      "   ---- ----------------------------------- 0.2/1.7 MB 12.2 kB/s eta 0:02:06\n",
      "   ---- ----------------------------------- 0.2/1.7 MB 12.2 kB/s eta 0:02:06\n",
      "   ---- ----------------------------------- 0.2/1.7 MB 12.2 kB/s eta 0:02:06\n",
      "   ---- ----------------------------------- 0.2/1.7 MB 12.2 kB/s eta 0:02:06\n",
      "   ---- ----------------------------------- 0.2/1.7 MB 12.2 kB/s eta 0:02:06\n",
      "   ---- ----------------------------------- 0.2/1.7 MB 12.2 kB/s eta 0:02:06\n",
      "   ---- ----------------------------------- 0.2/1.7 MB 12.2 kB/s eta 0:02:06\n",
      "   ---- ----------------------------------- 0.2/1.7 MB 12.2 kB/s eta 0:02:06\n",
      "   ---- ----------------------------------- 0.2/1.7 MB 12.2 kB/s eta 0:02:06\n",
      "   ---- ----------------------------------- 0.2/1.7 MB 12.2 kB/s eta 0:02:06\n",
      "   ---- ----------------------------------- 0.2/1.7 MB 12.2 kB/s eta 0:02:06\n",
      "   ---- ----------------------------------- 0.2/1.7 MB 12.2 kB/s eta 0:02:06\n",
      "   ---- ----------------------------------- 0.2/1.7 MB 12.2 kB/s eta 0:02:06\n",
      "   ---- ----------------------------------- 0.2/1.7 MB 11.5 kB/s eta 0:02:13\n",
      "   ---- ----------------------------------- 0.2/1.7 MB 11.5 kB/s eta 0:02:13\n",
      "   ---- ----------------------------------- 0.2/1.7 MB 11.5 kB/s eta 0:02:13\n",
      "   ---- ----------------------------------- 0.2/1.7 MB 11.5 kB/s eta 0:02:13\n",
      "   ---- ----------------------------------- 0.2/1.7 MB 11.5 kB/s eta 0:02:13\n",
      "   ---- ----------------------------------- 0.2/1.7 MB 11.5 kB/s eta 0:02:13\n",
      "   ---- ----------------------------------- 0.2/1.7 MB 11.5 kB/s eta 0:02:13\n",
      "   ---- ----------------------------------- 0.2/1.7 MB 11.5 kB/s eta 0:02:13\n",
      "   ---- ----------------------------------- 0.2/1.7 MB 11.5 kB/s eta 0:02:13\n",
      "   ---- ----------------------------------- 0.2/1.7 MB 11.5 kB/s eta 0:02:13\n",
      "   ---- ----------------------------------- 0.2/1.7 MB 11.5 kB/s eta 0:02:13\n",
      "   ---- ----------------------------------- 0.2/1.7 MB 11.5 kB/s eta 0:02:13\n",
      "   ---- ----------------------------------- 0.2/1.7 MB 11.5 kB/s eta 0:02:13\n",
      "   ---- ----------------------------------- 0.2/1.7 MB 11.5 kB/s eta 0:02:13\n",
      "   ---- ----------------------------------- 0.2/1.7 MB 11.5 kB/s eta 0:02:13\n",
      "   ---- ----------------------------------- 0.2/1.7 MB 11.5 kB/s eta 0:02:13\n",
      "   ---- ----------------------------------- 0.2/1.7 MB 11.5 kB/s eta 0:02:13\n",
      "   ---- ----------------------------------- 0.2/1.7 MB 11.5 kB/s eta 0:02:13\n",
      "   ---- ----------------------------------- 0.2/1.7 MB 11.5 kB/s eta 0:02:13\n",
      "   ---- ----------------------------------- 0.2/1.7 MB 11.5 kB/s eta 0:02:13\n",
      "   ---- ----------------------------------- 0.2/1.7 MB 11.5 kB/s eta 0:02:13\n",
      "   ---- ----------------------------------- 0.2/1.7 MB 11.5 kB/s eta 0:02:13\n",
      "   ---- ----------------------------------- 0.2/1.7 MB 11.5 kB/s eta 0:02:13\n",
      "   ---- ----------------------------------- 0.2/1.7 MB 11.5 kB/s eta 0:02:13\n",
      "   ---- ----------------------------------- 0.2/1.7 MB 11.5 kB/s eta 0:02:13\n",
      "   ---- ----------------------------------- 0.2/1.7 MB 11.5 kB/s eta 0:02:13\n",
      "   ---- ----------------------------------- 0.2/1.7 MB 11.5 kB/s eta 0:02:13\n",
      "   ---- ----------------------------------- 0.2/1.7 MB 11.5 kB/s eta 0:02:13\n",
      "   ---- ----------------------------------- 0.2/1.7 MB 11.5 kB/s eta 0:02:13\n",
      "   ---- ----------------------------------- 0.2/1.7 MB 11.5 kB/s eta 0:02:13\n",
      "   ---- ----------------------------------- 0.2/1.7 MB 11.5 kB/s eta 0:02:13\n",
      "   ---- ----------------------------------- 0.2/1.7 MB 11.5 kB/s eta 0:02:13\n",
      "   ---- ----------------------------------- 0.2/1.7 MB 11.5 kB/s eta 0:02:13\n",
      "   ---- ----------------------------------- 0.2/1.7 MB 11.5 kB/s eta 0:02:13\n",
      "   ---- ----------------------------------- 0.2/1.7 MB 11.5 kB/s eta 0:02:13\n",
      "   ---- ----------------------------------- 0.2/1.7 MB 11.5 kB/s eta 0:02:13\n",
      "   ---- ----------------------------------- 0.2/1.7 MB 11.5 kB/s eta 0:02:13\n",
      "   ---- ----------------------------------- 0.2/1.7 MB 11.5 kB/s eta 0:02:13\n",
      "   ---- ----------------------------------- 0.2/1.7 MB 11.5 kB/s eta 0:02:13\n",
      "   ---- ----------------------------------- 0.2/1.7 MB 11.5 kB/s eta 0:02:13\n",
      "   ---- ----------------------------------- 0.2/1.7 MB 11.5 kB/s eta 0:02:13\n",
      "   ---- ----------------------------------- 0.2/1.7 MB 11.5 kB/s eta 0:02:13\n",
      "   ---- ----------------------------------- 0.2/1.7 MB 11.5 kB/s eta 0:02:13\n",
      "   ---- ----------------------------------- 0.2/1.7 MB 11.5 kB/s eta 0:02:13\n",
      "   ---- ----------------------------------- 0.2/1.7 MB 11.5 kB/s eta 0:02:13\n",
      "   ---- ----------------------------------- 0.2/1.7 MB 11.5 kB/s eta 0:02:13\n",
      "   ---- ----------------------------------- 0.2/1.7 MB 11.5 kB/s eta 0:02:13\n",
      "   ---- ----------------------------------- 0.2/1.7 MB 11.5 kB/s eta 0:02:13\n",
      "   ---- ----------------------------------- 0.2/1.7 MB 11.5 kB/s eta 0:02:13\n",
      "   ---- ----------------------------------- 0.2/1.7 MB 11.5 kB/s eta 0:02:13\n",
      "   ---- ----------------------------------- 0.2/1.7 MB 11.5 kB/s eta 0:02:13\n",
      "   ---- ----------------------------------- 0.2/1.7 MB 11.5 kB/s eta 0:02:13\n",
      "   ---- ----------------------------------- 0.2/1.7 MB 11.5 kB/s eta 0:02:13\n",
      "   ---- ----------------------------------- 0.2/1.7 MB 11.5 kB/s eta 0:02:13\n",
      "   ---- ----------------------------------- 0.2/1.7 MB 11.5 kB/s eta 0:02:13\n",
      "   ---- ----------------------------------- 0.2/1.7 MB 10.4 kB/s eta 0:02:25\n",
      "   ---- ----------------------------------- 0.2/1.7 MB 10.4 kB/s eta 0:02:25\n",
      "   ---- ----------------------------------- 0.2/1.7 MB 10.4 kB/s eta 0:02:25\n",
      "   ---- ----------------------------------- 0.2/1.7 MB 10.4 kB/s eta 0:02:25\n",
      "   ---- ----------------------------------- 0.2/1.7 MB 10.4 kB/s eta 0:02:25\n",
      "   ---- ----------------------------------- 0.2/1.7 MB 10.4 kB/s eta 0:02:25\n",
      "   ---- ----------------------------------- 0.2/1.7 MB 10.4 kB/s eta 0:02:25\n",
      "   ---- ----------------------------------- 0.2/1.7 MB 10.4 kB/s eta 0:02:25\n",
      "   ---- ----------------------------------- 0.2/1.7 MB 10.4 kB/s eta 0:02:25\n",
      "   ---- ----------------------------------- 0.2/1.7 MB 10.4 kB/s eta 0:02:25\n",
      "   ---- ----------------------------------- 0.2/1.7 MB 10.4 kB/s eta 0:02:25\n",
      "   ---- ----------------------------------- 0.2/1.7 MB 10.4 kB/s eta 0:02:25\n",
      "   ---- ----------------------------------- 0.2/1.7 MB 10.4 kB/s eta 0:02:25\n",
      "   ---- ----------------------------------- 0.2/1.7 MB 10.4 kB/s eta 0:02:25\n",
      "   ---- ----------------------------------- 0.2/1.7 MB 10.4 kB/s eta 0:02:25\n",
      "   ---- ----------------------------------- 0.2/1.7 MB 10.4 kB/s eta 0:02:25\n",
      "   ---- ----------------------------------- 0.2/1.7 MB 10.4 kB/s eta 0:02:25\n",
      "   ---- ----------------------------------- 0.2/1.7 MB 10.4 kB/s eta 0:02:25\n",
      "   ---- ----------------------------------- 0.2/1.7 MB 10.4 kB/s eta 0:02:25\n",
      "   ---- ----------------------------------- 0.2/1.7 MB 10.4 kB/s eta 0:02:25\n",
      "   ---- ----------------------------------- 0.2/1.7 MB 10.4 kB/s eta 0:02:25\n",
      "   ---- ----------------------------------- 0.2/1.7 MB 10.4 kB/s eta 0:02:25\n",
      "   ---- ----------------------------------- 0.2/1.7 MB 10.4 kB/s eta 0:02:25\n",
      "   ---- ----------------------------------- 0.2/1.7 MB 10.4 kB/s eta 0:02:25\n",
      "   ---- ----------------------------------- 0.2/1.7 MB 10.4 kB/s eta 0:02:25\n",
      "   ---- ----------------------------------- 0.2/1.7 MB 10.4 kB/s eta 0:02:25\n",
      "   ---- ----------------------------------- 0.2/1.7 MB 10.4 kB/s eta 0:02:25\n",
      "   ---- ----------------------------------- 0.2/1.7 MB 10.4 kB/s eta 0:02:25\n",
      "   ---- ----------------------------------- 0.2/1.7 MB 10.4 kB/s eta 0:02:25\n",
      "   ---- ----------------------------------- 0.2/1.7 MB 10.4 kB/s eta 0:02:25\n",
      "   ---- ----------------------------------- 0.2/1.7 MB 10.4 kB/s eta 0:02:25\n",
      "   ---- ----------------------------------- 0.2/1.7 MB 10.4 kB/s eta 0:02:25\n",
      "   ---- ----------------------------------- 0.2/1.7 MB 10.4 kB/s eta 0:02:25\n",
      "   ---- ----------------------------------- 0.2/1.7 MB 10.4 kB/s eta 0:02:25\n",
      "   ---- ----------------------------------- 0.2/1.7 MB 10.4 kB/s eta 0:02:25\n",
      "   ----- ---------------------------------- 0.2/1.7 MB 10.5 kB/s eta 0:02:21\n",
      "   ----- ---------------------------------- 0.2/1.7 MB 10.5 kB/s eta 0:02:21\n",
      "   ----- ---------------------------------- 0.2/1.7 MB 10.5 kB/s eta 0:02:21\n",
      "   ----- ---------------------------------- 0.2/1.7 MB 10.5 kB/s eta 0:02:21\n",
      "   ----- ---------------------------------- 0.2/1.7 MB 10.5 kB/s eta 0:02:21\n",
      "   ----- ---------------------------------- 0.2/1.7 MB 10.5 kB/s eta 0:02:21\n",
      "   ----- ---------------------------------- 0.2/1.7 MB 10.5 kB/s eta 0:02:21\n",
      "   ----- ---------------------------------- 0.2/1.7 MB 10.5 kB/s eta 0:02:21\n",
      "   ----- ---------------------------------- 0.2/1.7 MB 10.5 kB/s eta 0:02:21\n",
      "   ----- ---------------------------------- 0.2/1.7 MB 10.5 kB/s eta 0:02:21\n",
      "   ----- ---------------------------------- 0.2/1.7 MB 10.5 kB/s eta 0:02:21\n",
      "   ----- ---------------------------------- 0.2/1.7 MB 10.5 kB/s eta 0:02:21\n",
      "   ----- ---------------------------------- 0.2/1.7 MB 10.5 kB/s eta 0:02:21\n",
      "   ----- ---------------------------------- 0.2/1.7 MB 10.5 kB/s eta 0:02:21\n",
      "   ----- ---------------------------------- 0.2/1.7 MB 10.5 kB/s eta 0:02:21\n",
      "   ----- ---------------------------------- 0.2/1.7 MB 10.5 kB/s eta 0:02:21\n",
      "   ----- ---------------------------------- 0.2/1.7 MB 10.5 kB/s eta 0:02:21\n",
      "   ----- ---------------------------------- 0.2/1.7 MB 10.5 kB/s eta 0:02:21\n",
      "   ----- ---------------------------------- 0.2/1.7 MB 10.5 kB/s eta 0:02:21\n",
      "   ----- ---------------------------------- 0.2/1.7 MB 10.5 kB/s eta 0:02:21\n",
      "   ----- ---------------------------------- 0.2/1.7 MB 10.5 kB/s eta 0:02:21\n",
      "   ----- ---------------------------------- 0.2/1.7 MB 10.5 kB/s eta 0:02:21\n",
      "   ----- ---------------------------------- 0.2/1.7 MB 10.5 kB/s eta 0:02:21\n",
      "   ----- ---------------------------------- 0.2/1.7 MB 10.5 kB/s eta 0:02:21\n",
      "   ----- ---------------------------------- 0.2/1.7 MB 10.5 kB/s eta 0:02:21\n",
      "   ----- ---------------------------------- 0.2/1.7 MB 10.5 kB/s eta 0:02:21\n",
      "   ----- ---------------------------------- 0.2/1.7 MB 10.5 kB/s eta 0:02:21\n",
      "   ----- ---------------------------------- 0.2/1.7 MB 10.5 kB/s eta 0:02:21\n",
      "   ----- ---------------------------------- 0.2/1.7 MB 10.5 kB/s eta 0:02:21\n",
      "   ----- ---------------------------------- 0.2/1.7 MB 10.5 kB/s eta 0:02:21\n",
      "   ----- ---------------------------------- 0.2/1.7 MB 10.5 kB/s eta 0:02:21\n",
      "   ----- ---------------------------------- 0.2/1.7 MB 10.5 kB/s eta 0:02:21\n",
      "   ----- ---------------------------------- 0.2/1.7 MB 10.5 kB/s eta 0:02:21\n",
      "   ----- ---------------------------------- 0.2/1.7 MB 10.5 kB/s eta 0:02:21\n",
      "   ----- ---------------------------------- 0.2/1.7 MB 10.5 kB/s eta 0:02:21\n",
      "   ----- ---------------------------------- 0.2/1.7 MB 10.5 kB/s eta 0:02:21\n",
      "   ----- ---------------------------------- 0.2/1.7 MB 10.5 kB/s eta 0:02:21\n",
      "   ----- ---------------------------------- 0.2/1.7 MB 10.5 kB/s eta 0:02:21\n",
      "   ----- ---------------------------------- 0.2/1.7 MB 10.5 kB/s eta 0:02:21\n",
      "   ----- ---------------------------------- 0.2/1.7 MB 10.5 kB/s eta 0:02:21\n",
      "   ----- ---------------------------------- 0.2/1.7 MB 10.5 kB/s eta 0:02:21\n",
      "   ----- ---------------------------------- 0.2/1.7 MB 10.5 kB/s eta 0:02:21\n",
      "   ----- ---------------------------------- 0.2/1.7 MB 10.5 kB/s eta 0:02:21\n",
      "   ----- ---------------------------------- 0.2/1.7 MB 10.5 kB/s eta 0:02:21\n",
      "   ----- ---------------------------------- 0.2/1.7 MB 10.5 kB/s eta 0:02:21\n",
      "   ----- ---------------------------------- 0.2/1.7 MB 10.5 kB/s eta 0:02:21\n",
      "   ----- ---------------------------------- 0.2/1.7 MB 10.5 kB/s eta 0:02:21\n",
      "   ----- ---------------------------------- 0.2/1.7 MB 10.5 kB/s eta 0:02:21\n",
      "   ----- ---------------------------------- 0.2/1.7 MB 10.5 kB/s eta 0:02:21\n",
      "   ----- ---------------------------------- 0.2/1.7 MB 10.5 kB/s eta 0:02:21\n",
      "   ----- ---------------------------------- 0.2/1.7 MB 10.5 kB/s eta 0:02:21\n",
      "   ----- ---------------------------------- 0.2/1.7 MB 10.5 kB/s eta 0:02:21\n",
      "   ----- ---------------------------------- 0.2/1.7 MB 10.5 kB/s eta 0:02:21\n",
      "   ----- ---------------------------------- 0.2/1.7 MB 10.5 kB/s eta 0:02:21\n",
      "   ----- ---------------------------------- 0.2/1.7 MB 10.5 kB/s eta 0:02:21\n",
      "   ----- ---------------------------------- 0.2/1.7 MB 10.5 kB/s eta 0:02:21\n",
      "   ----- ---------------------------------- 0.2/1.7 MB 10.5 kB/s eta 0:02:21\n",
      "   ----- ---------------------------------- 0.2/1.7 MB 10.5 kB/s eta 0:02:21\n",
      "   ----- ---------------------------------- 0.2/1.7 MB 10.5 kB/s eta 0:02:21\n",
      "   ----- ---------------------------------- 0.2/1.7 MB 10.5 kB/s eta 0:02:21\n",
      "   ----- ---------------------------------- 0.2/1.7 MB 10.5 kB/s eta 0:02:21\n",
      "   ----- ---------------------------------- 0.2/1.7 MB 10.5 kB/s eta 0:02:21\n",
      "   ----- ---------------------------------- 0.2/1.7 MB 10.5 kB/s eta 0:02:21\n",
      "   ----- ---------------------------------- 0.2/1.7 MB 10.5 kB/s eta 0:02:21\n",
      "   ----- ---------------------------------- 0.2/1.7 MB 10.5 kB/s eta 0:02:21\n",
      "   ----- ---------------------------------- 0.2/1.7 MB 10.5 kB/s eta 0:02:21\n",
      "   ----- ---------------------------------- 0.2/1.7 MB 9.6 kB/s eta 0:02:35\n",
      "   ----- ---------------------------------- 0.2/1.7 MB 9.6 kB/s eta 0:02:35\n",
      "   ----- ---------------------------------- 0.2/1.7 MB 9.6 kB/s eta 0:02:35\n",
      "   ----- ---------------------------------- 0.2/1.7 MB 9.6 kB/s eta 0:02:35\n",
      "   ----- ---------------------------------- 0.2/1.7 MB 9.6 kB/s eta 0:02:35\n",
      "   ----- ---------------------------------- 0.2/1.7 MB 9.6 kB/s eta 0:02:35\n",
      "   ----- ---------------------------------- 0.2/1.7 MB 9.6 kB/s eta 0:02:35\n",
      "   ----- ---------------------------------- 0.2/1.7 MB 9.6 kB/s eta 0:02:35\n",
      "   ----- ---------------------------------- 0.2/1.7 MB 9.6 kB/s eta 0:02:35\n",
      "   ----- ---------------------------------- 0.2/1.7 MB 9.6 kB/s eta 0:02:35\n",
      "   ----- ---------------------------------- 0.2/1.7 MB 9.6 kB/s eta 0:02:35\n",
      "   ----- ---------------------------------- 0.2/1.7 MB 9.6 kB/s eta 0:02:35\n",
      "   ----- ---------------------------------- 0.2/1.7 MB 9.6 kB/s eta 0:02:35\n",
      "   ----- ---------------------------------- 0.2/1.7 MB 9.6 kB/s eta 0:02:35\n",
      "   ----- ---------------------------------- 0.2/1.7 MB 9.6 kB/s eta 0:02:35\n",
      "   ----- ---------------------------------- 0.2/1.7 MB 9.6 kB/s eta 0:02:35\n",
      "   ----- ---------------------------------- 0.2/1.7 MB 9.6 kB/s eta 0:02:35\n",
      "   ----- ---------------------------------- 0.2/1.7 MB 9.6 kB/s eta 0:02:35\n",
      "   ----- ---------------------------------- 0.3/1.7 MB 10.1 kB/s eta 0:02:25\n",
      "   ----- ---------------------------------- 0.3/1.7 MB 10.1 kB/s eta 0:02:25\n",
      "   ----- ---------------------------------- 0.3/1.7 MB 10.1 kB/s eta 0:02:25\n",
      "   ----- ---------------------------------- 0.3/1.7 MB 10.1 kB/s eta 0:02:25\n",
      "   ----- ---------------------------------- 0.3/1.7 MB 10.1 kB/s eta 0:02:25\n",
      "   ----- ---------------------------------- 0.3/1.7 MB 10.1 kB/s eta 0:02:25\n",
      "   ----- ---------------------------------- 0.3/1.7 MB 10.1 kB/s eta 0:02:25\n",
      "   ----- ---------------------------------- 0.3/1.7 MB 10.1 kB/s eta 0:02:25\n",
      "   ----- ---------------------------------- 0.3/1.7 MB 10.1 kB/s eta 0:02:25\n",
      "   ----- ---------------------------------- 0.3/1.7 MB 10.1 kB/s eta 0:02:25\n",
      "   ----- ---------------------------------- 0.3/1.7 MB 10.1 kB/s eta 0:02:25\n",
      "   ----- ---------------------------------- 0.3/1.7 MB 10.1 kB/s eta 0:02:25\n",
      "   ----- ---------------------------------- 0.3/1.7 MB 10.1 kB/s eta 0:02:25\n",
      "   ----- ---------------------------------- 0.3/1.7 MB 10.1 kB/s eta 0:02:25\n",
      "   ----- ---------------------------------- 0.3/1.7 MB 10.1 kB/s eta 0:02:25\n",
      "   ----- ---------------------------------- 0.3/1.7 MB 10.1 kB/s eta 0:02:25\n",
      "   ----- ---------------------------------- 0.3/1.7 MB 10.1 kB/s eta 0:02:25\n",
      "   ----- ---------------------------------- 0.3/1.7 MB 10.1 kB/s eta 0:02:25\n",
      "   ----- ---------------------------------- 0.3/1.7 MB 10.1 kB/s eta 0:02:25\n",
      "   ----- ---------------------------------- 0.3/1.7 MB 10.1 kB/s eta 0:02:25\n",
      "   ----- ---------------------------------- 0.3/1.7 MB 10.1 kB/s eta 0:02:25\n",
      "   ----- ---------------------------------- 0.3/1.7 MB 10.1 kB/s eta 0:02:25\n",
      "   ------ --------------------------------- 0.3/1.7 MB 10.5 kB/s eta 0:02:17\n",
      "   ------ --------------------------------- 0.3/1.7 MB 10.5 kB/s eta 0:02:17\n",
      "   ------ --------------------------------- 0.3/1.7 MB 10.5 kB/s eta 0:02:17\n",
      "   ------ --------------------------------- 0.3/1.7 MB 10.5 kB/s eta 0:02:17\n",
      "   ------ --------------------------------- 0.3/1.7 MB 10.5 kB/s eta 0:02:17\n",
      "   ------ --------------------------------- 0.3/1.7 MB 10.5 kB/s eta 0:02:17\n",
      "   ------ --------------------------------- 0.3/1.7 MB 10.5 kB/s eta 0:02:17\n",
      "   ------ --------------------------------- 0.3/1.7 MB 10.5 kB/s eta 0:02:17\n",
      "   ------ --------------------------------- 0.3/1.7 MB 10.5 kB/s eta 0:02:17\n",
      "   ------ --------------------------------- 0.3/1.7 MB 10.5 kB/s eta 0:02:17\n",
      "   ------ --------------------------------- 0.3/1.7 MB 10.5 kB/s eta 0:02:17\n",
      "   ------ --------------------------------- 0.3/1.7 MB 10.5 kB/s eta 0:02:17\n",
      "   ------ --------------------------------- 0.3/1.7 MB 10.6 kB/s eta 0:02:14\n",
      "   ------ --------------------------------- 0.3/1.7 MB 10.6 kB/s eta 0:02:14\n",
      "   ------ --------------------------------- 0.3/1.7 MB 10.6 kB/s eta 0:02:14\n",
      "   ------ --------------------------------- 0.3/1.7 MB 10.6 kB/s eta 0:02:14\n",
      "   ------ --------------------------------- 0.3/1.7 MB 10.6 kB/s eta 0:02:14\n",
      "   ------ --------------------------------- 0.3/1.7 MB 10.6 kB/s eta 0:02:14\n",
      "   ------ --------------------------------- 0.3/1.7 MB 10.6 kB/s eta 0:02:14\n",
      "   ------ --------------------------------- 0.3/1.7 MB 10.6 kB/s eta 0:02:14\n",
      "   ------ --------------------------------- 0.3/1.7 MB 10.6 kB/s eta 0:02:14\n",
      "   ------ --------------------------------- 0.3/1.7 MB 10.6 kB/s eta 0:02:14\n",
      "   ------ --------------------------------- 0.3/1.7 MB 10.6 kB/s eta 0:02:14\n",
      "   ------ --------------------------------- 0.3/1.7 MB 10.6 kB/s eta 0:02:14\n",
      "   ------ --------------------------------- 0.3/1.7 MB 10.6 kB/s eta 0:02:14\n",
      "   ------ --------------------------------- 0.3/1.7 MB 10.6 kB/s eta 0:02:14\n",
      "   ------ --------------------------------- 0.3/1.7 MB 10.6 kB/s eta 0:02:14\n",
      "   ------ --------------------------------- 0.3/1.7 MB 10.6 kB/s eta 0:02:14\n",
      "   ------ --------------------------------- 0.3/1.7 MB 10.6 kB/s eta 0:02:14\n",
      "   ------- -------------------------------- 0.3/1.7 MB 11.1 kB/s eta 0:02:07\n",
      "   ------- -------------------------------- 0.3/1.7 MB 11.1 kB/s eta 0:02:07\n",
      "   ------- -------------------------------- 0.3/1.7 MB 11.1 kB/s eta 0:02:07\n",
      "   ------- -------------------------------- 0.3/1.7 MB 11.1 kB/s eta 0:02:07\n",
      "   ------- -------------------------------- 0.3/1.7 MB 11.1 kB/s eta 0:02:07\n",
      "   ------- -------------------------------- 0.3/1.7 MB 11.1 kB/s eta 0:02:07\n",
      "   ------- -------------------------------- 0.3/1.7 MB 11.1 kB/s eta 0:02:07\n",
      "   ------- -------------------------------- 0.3/1.7 MB 11.1 kB/s eta 0:02:07\n",
      "   ------- -------------------------------- 0.3/1.7 MB 11.1 kB/s eta 0:02:07\n",
      "   ------- -------------------------------- 0.3/1.7 MB 11.1 kB/s eta 0:02:07\n",
      "   ------- -------------------------------- 0.3/1.7 MB 11.1 kB/s eta 0:02:07\n",
      "   ------- -------------------------------- 0.3/1.7 MB 11.1 kB/s eta 0:02:07\n",
      "   ------- -------------------------------- 0.3/1.7 MB 11.1 kB/s eta 0:02:07\n",
      "   ------- -------------------------------- 0.3/1.7 MB 11.1 kB/s eta 0:02:07\n",
      "   ------- -------------------------------- 0.3/1.7 MB 11.1 kB/s eta 0:02:07\n",
      "   ------- -------------------------------- 0.3/1.7 MB 11.2 kB/s eta 0:02:05\n",
      "   ------- -------------------------------- 0.3/1.7 MB 11.2 kB/s eta 0:02:05\n",
      "   ------- -------------------------------- 0.3/1.7 MB 11.2 kB/s eta 0:02:05\n",
      "   ------- -------------------------------- 0.3/1.7 MB 11.2 kB/s eta 0:02:05\n",
      "   ------- -------------------------------- 0.3/1.7 MB 11.2 kB/s eta 0:02:05\n",
      "   ------- -------------------------------- 0.3/1.7 MB 11.2 kB/s eta 0:02:05\n",
      "   ------- -------------------------------- 0.3/1.7 MB 11.8 kB/s eta 0:01:57\n",
      "   ------- -------------------------------- 0.3/1.7 MB 11.8 kB/s eta 0:01:57\n",
      "   ------- -------------------------------- 0.3/1.7 MB 11.8 kB/s eta 0:01:57\n",
      "   ------- -------------------------------- 0.3/1.7 MB 11.8 kB/s eta 0:01:57\n",
      "   ------- -------------------------------- 0.3/1.7 MB 11.8 kB/s eta 0:01:57\n",
      "   ------- -------------------------------- 0.3/1.7 MB 11.8 kB/s eta 0:01:57\n",
      "   ------- -------------------------------- 0.3/1.7 MB 11.8 kB/s eta 0:01:57\n",
      "   ------- -------------------------------- 0.3/1.7 MB 11.8 kB/s eta 0:01:57\n",
      "   ------- -------------------------------- 0.3/1.7 MB 11.8 kB/s eta 0:01:57\n",
      "   ------- -------------------------------- 0.3/1.7 MB 11.8 kB/s eta 0:01:57\n",
      "   ------- -------------------------------- 0.3/1.7 MB 11.8 kB/s eta 0:01:57\n",
      "   -------- ------------------------------- 0.4/1.7 MB 12.3 kB/s eta 0:01:50\n",
      "   -------- ------------------------------- 0.4/1.7 MB 12.3 kB/s eta 0:01:50\n",
      "   -------- ------------------------------- 0.4/1.7 MB 12.3 kB/s eta 0:01:50\n",
      "   -------- ------------------------------- 0.4/1.7 MB 12.3 kB/s eta 0:01:50\n",
      "   -------- ------------------------------- 0.4/1.7 MB 12.3 kB/s eta 0:01:50\n",
      "   -------- ------------------------------- 0.4/1.7 MB 12.3 kB/s eta 0:01:50\n",
      "   -------- ------------------------------- 0.4/1.7 MB 12.3 kB/s eta 0:01:50\n",
      "   -------- ------------------------------- 0.4/1.7 MB 12.3 kB/s eta 0:01:50\n",
      "   -------- ------------------------------- 0.4/1.7 MB 12.3 kB/s eta 0:01:50\n",
      "   -------- ------------------------------- 0.4/1.7 MB 12.3 kB/s eta 0:01:50\n",
      "   -------- ------------------------------- 0.4/1.7 MB 12.3 kB/s eta 0:01:50\n",
      "   -------- ------------------------------- 0.4/1.7 MB 12.4 kB/s eta 0:01:48\n",
      "   -------- ------------------------------- 0.4/1.7 MB 12.4 kB/s eta 0:01:48\n",
      "   -------- ------------------------------- 0.4/1.7 MB 12.4 kB/s eta 0:01:48\n",
      "   -------- ------------------------------- 0.4/1.7 MB 12.4 kB/s eta 0:01:48\n",
      "   -------- ------------------------------- 0.4/1.7 MB 12.4 kB/s eta 0:01:48\n",
      "   -------- ------------------------------- 0.4/1.7 MB 12.4 kB/s eta 0:01:48\n",
      "   -------- ------------------------------- 0.4/1.7 MB 12.4 kB/s eta 0:01:48\n",
      "   -------- ------------------------------- 0.4/1.7 MB 12.4 kB/s eta 0:01:48\n",
      "   -------- ------------------------------- 0.4/1.7 MB 12.4 kB/s eta 0:01:48\n",
      "   -------- ------------------------------- 0.4/1.7 MB 12.4 kB/s eta 0:01:48\n",
      "   -------- ------------------------------- 0.4/1.7 MB 12.4 kB/s eta 0:01:48\n",
      "   -------- ------------------------------- 0.4/1.7 MB 12.4 kB/s eta 0:01:48\n",
      "   -------- ------------------------------- 0.4/1.7 MB 12.4 kB/s eta 0:01:48\n",
      "   -------- ------------------------------- 0.4/1.7 MB 12.4 kB/s eta 0:01:48\n",
      "   -------- ------------------------------- 0.4/1.7 MB 12.4 kB/s eta 0:01:48\n",
      "   -------- ------------------------------- 0.4/1.7 MB 12.4 kB/s eta 0:01:48\n",
      "   -------- ------------------------------- 0.4/1.7 MB 12.4 kB/s eta 0:01:48\n",
      "   -------- ------------------------------- 0.4/1.7 MB 12.4 kB/s eta 0:01:48\n",
      "   -------- ------------------------------- 0.4/1.7 MB 12.4 kB/s eta 0:01:48\n",
      "   -------- ------------------------------- 0.4/1.7 MB 12.4 kB/s eta 0:01:48\n",
      "   --------- ------------------------------ 0.4/1.7 MB 12.7 kB/s eta 0:01:44\n",
      "   --------- ------------------------------ 0.4/1.7 MB 12.7 kB/s eta 0:01:44\n",
      "   --------- ------------------------------ 0.4/1.7 MB 12.7 kB/s eta 0:01:44\n",
      "   --------- ------------------------------ 0.4/1.7 MB 12.7 kB/s eta 0:01:44\n",
      "   --------- ------------------------------ 0.4/1.7 MB 12.7 kB/s eta 0:01:44\n",
      "   --------- ------------------------------ 0.4/1.7 MB 13.0 kB/s eta 0:01:42\n",
      "   --------- ------------------------------ 0.4/1.7 MB 13.0 kB/s eta 0:01:42\n",
      "   --------- ------------------------------ 0.4/1.7 MB 13.0 kB/s eta 0:01:42\n",
      "   --------- ------------------------------ 0.4/1.7 MB 13.0 kB/s eta 0:01:42\n",
      "   --------- ------------------------------ 0.4/1.7 MB 13.0 kB/s eta 0:01:42\n",
      "   --------- ------------------------------ 0.4/1.7 MB 13.0 kB/s eta 0:01:42\n",
      "   --------- ------------------------------ 0.4/1.7 MB 13.0 kB/s eta 0:01:42\n",
      "   --------- ------------------------------ 0.4/1.7 MB 13.0 kB/s eta 0:01:42\n",
      "   --------- ------------------------------ 0.4/1.7 MB 13.0 kB/s eta 0:01:42\n",
      "   --------- ------------------------------ 0.4/1.7 MB 13.0 kB/s eta 0:01:42\n",
      "   --------- ------------------------------ 0.4/1.7 MB 13.0 kB/s eta 0:01:42\n",
      "   --------- ------------------------------ 0.4/1.7 MB 13.0 kB/s eta 0:01:42\n",
      "   --------- ------------------------------ 0.4/1.7 MB 13.0 kB/s eta 0:01:42\n",
      "   --------- ------------------------------ 0.4/1.7 MB 13.0 kB/s eta 0:01:42\n",
      "   --------- ------------------------------ 0.4/1.7 MB 13.0 kB/s eta 0:01:42\n",
      "   --------- ------------------------------ 0.4/1.7 MB 13.0 kB/s eta 0:01:41\n",
      "   --------- ------------------------------ 0.4/1.7 MB 13.0 kB/s eta 0:01:41\n",
      "   --------- ------------------------------ 0.4/1.7 MB 13.0 kB/s eta 0:01:41\n",
      "   --------- ------------------------------ 0.4/1.7 MB 13.0 kB/s eta 0:01:41\n",
      "   --------- ------------------------------ 0.4/1.7 MB 13.0 kB/s eta 0:01:41\n",
      "   --------- ------------------------------ 0.4/1.7 MB 13.0 kB/s eta 0:01:41\n",
      "   --------- ------------------------------ 0.4/1.7 MB 13.0 kB/s eta 0:01:41\n",
      "   --------- ------------------------------ 0.4/1.7 MB 13.0 kB/s eta 0:01:41\n",
      "   --------- ------------------------------ 0.4/1.7 MB 13.0 kB/s eta 0:01:41\n",
      "   --------- ------------------------------ 0.4/1.7 MB 13.0 kB/s eta 0:01:41\n",
      "   --------- ------------------------------ 0.4/1.7 MB 13.0 kB/s eta 0:01:41\n",
      "   --------- ------------------------------ 0.4/1.7 MB 13.0 kB/s eta 0:01:41\n",
      "   --------- ------------------------------ 0.4/1.7 MB 13.0 kB/s eta 0:01:41\n",
      "   --------- ------------------------------ 0.4/1.7 MB 13.0 kB/s eta 0:01:41\n",
      "   --------- ------------------------------ 0.4/1.7 MB 13.0 kB/s eta 0:01:41\n",
      "   --------- ------------------------------ 0.4/1.7 MB 13.0 kB/s eta 0:01:41\n",
      "   --------- ------------------------------ 0.4/1.7 MB 13.0 kB/s eta 0:01:41\n",
      "   --------- ------------------------------ 0.4/1.7 MB 13.0 kB/s eta 0:01:41\n",
      "   ---------- ----------------------------- 0.4/1.7 MB 13.0 kB/s eta 0:01:39\n",
      "   ---------- ----------------------------- 0.4/1.7 MB 13.0 kB/s eta 0:01:39\n",
      "   ---------- ----------------------------- 0.4/1.7 MB 13.0 kB/s eta 0:01:39\n",
      "   ---------- ----------------------------- 0.4/1.7 MB 13.0 kB/s eta 0:01:39\n",
      "   ---------- ----------------------------- 0.4/1.7 MB 13.0 kB/s eta 0:01:39\n",
      "   ---------- ----------------------------- 0.4/1.7 MB 13.0 kB/s eta 0:01:39\n",
      "   ---------- ----------------------------- 0.4/1.7 MB 13.0 kB/s eta 0:01:39\n",
      "   ---------- ----------------------------- 0.4/1.7 MB 13.0 kB/s eta 0:01:39\n",
      "   ---------- ----------------------------- 0.4/1.7 MB 13.0 kB/s eta 0:01:39\n",
      "   ---------- ----------------------------- 0.4/1.7 MB 13.0 kB/s eta 0:01:39\n",
      "   ---------- ----------------------------- 0.4/1.7 MB 13.0 kB/s eta 0:01:39\n",
      "   ---------- ----------------------------- 0.4/1.7 MB 13.0 kB/s eta 0:01:39\n",
      "   ---------- ----------------------------- 0.4/1.7 MB 13.0 kB/s eta 0:01:39\n",
      "   ---------- ----------------------------- 0.4/1.7 MB 13.0 kB/s eta 0:01:39\n",
      "   ---------- ----------------------------- 0.4/1.7 MB 13.0 kB/s eta 0:01:39\n",
      "   ---------- ----------------------------- 0.4/1.7 MB 13.0 kB/s eta 0:01:39\n",
      "   ---------- ----------------------------- 0.4/1.7 MB 13.0 kB/s eta 0:01:39\n",
      "   ---------- ----------------------------- 0.4/1.7 MB 13.0 kB/s eta 0:01:39\n",
      "   ---------- ----------------------------- 0.4/1.7 MB 13.0 kB/s eta 0:01:39\n",
      "   ---------- ----------------------------- 0.4/1.7 MB 13.0 kB/s eta 0:01:39\n",
      "   ---------- ----------------------------- 0.4/1.7 MB 13.0 kB/s eta 0:01:39\n",
      "   ---------- ----------------------------- 0.4/1.7 MB 13.0 kB/s eta 0:01:39\n",
      "   ---------- ----------------------------- 0.4/1.7 MB 13.0 kB/s eta 0:01:39\n",
      "   ---------- ----------------------------- 0.4/1.7 MB 13.0 kB/s eta 0:01:39\n",
      "   ---------- ----------------------------- 0.5/1.7 MB 13.5 kB/s eta 0:01:33\n",
      "   ---------- ----------------------------- 0.5/1.7 MB 13.5 kB/s eta 0:01:33\n",
      "   ---------- ----------------------------- 0.5/1.7 MB 13.5 kB/s eta 0:01:33\n",
      "   ---------- ----------------------------- 0.5/1.7 MB 13.5 kB/s eta 0:01:33\n",
      "   ---------- ----------------------------- 0.5/1.7 MB 13.5 kB/s eta 0:01:33\n",
      "   ---------- ----------------------------- 0.5/1.7 MB 13.5 kB/s eta 0:01:33\n",
      "   ---------- ----------------------------- 0.5/1.7 MB 13.5 kB/s eta 0:01:33\n",
      "   ---------- ----------------------------- 0.5/1.7 MB 13.5 kB/s eta 0:01:33\n",
      "   ---------- ----------------------------- 0.5/1.7 MB 13.5 kB/s eta 0:01:33\n",
      "   ---------- ----------------------------- 0.5/1.7 MB 13.5 kB/s eta 0:01:33\n",
      "   ---------- ----------------------------- 0.5/1.7 MB 13.5 kB/s eta 0:01:33\n",
      "   ---------- ----------------------------- 0.5/1.7 MB 13.5 kB/s eta 0:01:33\n",
      "   ---------- ----------------------------- 0.5/1.7 MB 13.5 kB/s eta 0:01:33\n",
      "   ---------- ----------------------------- 0.5/1.7 MB 13.5 kB/s eta 0:01:33\n",
      "   ---------- ----------------------------- 0.5/1.7 MB 13.5 kB/s eta 0:01:33\n",
      "   ---------- ----------------------------- 0.5/1.7 MB 13.5 kB/s eta 0:01:33\n",
      "   ---------- ----------------------------- 0.5/1.7 MB 13.5 kB/s eta 0:01:33\n",
      "   ---------- ----------------------------- 0.5/1.7 MB 13.5 kB/s eta 0:01:33\n",
      "   ---------- ----------------------------- 0.5/1.7 MB 13.5 kB/s eta 0:01:33\n",
      "   ---------- ----------------------------- 0.5/1.7 MB 13.5 kB/s eta 0:01:33\n",
      "   ---------- ----------------------------- 0.5/1.7 MB 13.5 kB/s eta 0:01:33\n",
      "   ---------- ----------------------------- 0.5/1.7 MB 13.5 kB/s eta 0:01:33\n",
      "   ---------- ----------------------------- 0.5/1.7 MB 13.8 kB/s eta 0:01:31\n",
      "   ---------- ----------------------------- 0.5/1.7 MB 13.8 kB/s eta 0:01:31\n",
      "   ---------- ----------------------------- 0.5/1.7 MB 13.8 kB/s eta 0:01:31\n",
      "   ---------- ----------------------------- 0.5/1.7 MB 13.8 kB/s eta 0:01:31\n",
      "   ---------- ----------------------------- 0.5/1.7 MB 13.8 kB/s eta 0:01:31\n",
      "   ---------- ----------------------------- 0.5/1.7 MB 13.8 kB/s eta 0:01:31\n",
      "   ---------- ----------------------------- 0.5/1.7 MB 13.8 kB/s eta 0:01:31\n",
      "   ---------- ----------------------------- 0.5/1.7 MB 13.8 kB/s eta 0:01:31\n",
      "   ---------- ----------------------------- 0.5/1.7 MB 13.8 kB/s eta 0:01:31\n",
      "   ---------- ----------------------------- 0.5/1.7 MB 13.8 kB/s eta 0:01:31\n",
      "   ---------- ----------------------------- 0.5/1.7 MB 13.8 kB/s eta 0:01:31\n",
      "   ----------- ---------------------------- 0.5/1.7 MB 14.3 kB/s eta 0:01:26\n",
      "   ----------- ---------------------------- 0.5/1.7 MB 14.3 kB/s eta 0:01:26\n",
      "   ----------- ---------------------------- 0.5/1.7 MB 14.3 kB/s eta 0:01:26\n",
      "   ----------- ---------------------------- 0.5/1.7 MB 14.3 kB/s eta 0:01:26\n",
      "   ----------- ---------------------------- 0.5/1.7 MB 14.3 kB/s eta 0:01:26\n",
      "   ----------- ---------------------------- 0.5/1.7 MB 14.3 kB/s eta 0:01:26\n",
      "   ----------- ---------------------------- 0.5/1.7 MB 14.3 kB/s eta 0:01:26\n",
      "   ----------- ---------------------------- 0.5/1.7 MB 14.3 kB/s eta 0:01:26\n",
      "   ----------- ---------------------------- 0.5/1.7 MB 14.3 kB/s eta 0:01:26\n",
      "   ----------- ---------------------------- 0.5/1.7 MB 14.3 kB/s eta 0:01:26\n",
      "   ----------- ---------------------------- 0.5/1.7 MB 14.3 kB/s eta 0:01:26\n",
      "   ----------- ---------------------------- 0.5/1.7 MB 14.3 kB/s eta 0:01:26\n",
      "   ----------- ---------------------------- 0.5/1.7 MB 14.4 kB/s eta 0:01:25\n",
      "   ----------- ---------------------------- 0.5/1.7 MB 14.4 kB/s eta 0:01:25\n",
      "   ----------- ---------------------------- 0.5/1.7 MB 14.4 kB/s eta 0:01:25\n",
      "   ----------- ---------------------------- 0.5/1.7 MB 14.4 kB/s eta 0:01:25\n",
      "   ----------- ---------------------------- 0.5/1.7 MB 14.4 kB/s eta 0:01:25\n",
      "   ----------- ---------------------------- 0.5/1.7 MB 14.4 kB/s eta 0:01:25\n",
      "   ----------- ---------------------------- 0.5/1.7 MB 14.4 kB/s eta 0:01:25\n",
      "   ----------- ---------------------------- 0.5/1.7 MB 14.4 kB/s eta 0:01:25\n",
      "   ----------- ---------------------------- 0.5/1.7 MB 14.4 kB/s eta 0:01:25\n",
      "   ----------- ---------------------------- 0.5/1.7 MB 14.4 kB/s eta 0:01:25\n",
      "   ----------- ---------------------------- 0.5/1.7 MB 14.4 kB/s eta 0:01:25\n",
      "   ----------- ---------------------------- 0.5/1.7 MB 14.4 kB/s eta 0:01:25\n",
      "   ----------- ---------------------------- 0.5/1.7 MB 14.4 kB/s eta 0:01:25\n",
      "   ----------- ---------------------------- 0.5/1.7 MB 14.4 kB/s eta 0:01:25\n",
      "   ----------- ---------------------------- 0.5/1.7 MB 14.4 kB/s eta 0:01:25\n",
      "   ----------- ---------------------------- 0.5/1.7 MB 14.4 kB/s eta 0:01:25\n",
      "   ----------- ---------------------------- 0.5/1.7 MB 14.7 kB/s eta 0:01:22\n",
      "   ----------- ---------------------------- 0.5/1.7 MB 14.7 kB/s eta 0:01:22\n",
      "   ----------- ---------------------------- 0.5/1.7 MB 14.7 kB/s eta 0:01:22\n",
      "   ----------- ---------------------------- 0.5/1.7 MB 14.7 kB/s eta 0:01:22\n",
      "   ----------- ---------------------------- 0.5/1.7 MB 14.7 kB/s eta 0:01:22\n",
      "   ----------- ---------------------------- 0.5/1.7 MB 14.7 kB/s eta 0:01:22\n",
      "   ----------- ---------------------------- 0.5/1.7 MB 14.7 kB/s eta 0:01:22\n",
      "   ----------- ---------------------------- 0.5/1.7 MB 14.7 kB/s eta 0:01:22\n",
      "   ------------ --------------------------- 0.5/1.7 MB 15.4 kB/s eta 0:01:17\n",
      "   ------------ --------------------------- 0.5/1.7 MB 15.4 kB/s eta 0:01:17\n",
      "   ------------ --------------------------- 0.5/1.7 MB 15.4 kB/s eta 0:01:17\n",
      "   ------------ --------------------------- 0.5/1.7 MB 15.4 kB/s eta 0:01:17\n",
      "   ------------ --------------------------- 0.5/1.7 MB 15.4 kB/s eta 0:01:17\n",
      "   ------------ --------------------------- 0.5/1.7 MB 15.4 kB/s eta 0:01:17\n",
      "   ------------ --------------------------- 0.5/1.7 MB 15.4 kB/s eta 0:01:17\n",
      "   ------------ --------------------------- 0.5/1.7 MB 15.4 kB/s eta 0:01:17\n",
      "   ------------ --------------------------- 0.5/1.7 MB 15.4 kB/s eta 0:01:17\n",
      "   ------------ --------------------------- 0.5/1.7 MB 15.4 kB/s eta 0:01:17\n",
      "   ------------ --------------------------- 0.5/1.7 MB 15.4 kB/s eta 0:01:17\n",
      "   ------------ --------------------------- 0.5/1.7 MB 15.4 kB/s eta 0:01:17\n",
      "   ------------ --------------------------- 0.5/1.7 MB 15.4 kB/s eta 0:01:17\n",
      "   ------------ --------------------------- 0.5/1.7 MB 15.4 kB/s eta 0:01:17\n",
      "   ------------ --------------------------- 0.5/1.7 MB 15.4 kB/s eta 0:01:17\n",
      "   ------------ --------------------------- 0.5/1.7 MB 15.4 kB/s eta 0:01:17\n",
      "   ------------ --------------------------- 0.5/1.7 MB 15.4 kB/s eta 0:01:17\n",
      "   ------------ --------------------------- 0.5/1.7 MB 15.4 kB/s eta 0:01:17\n",
      "   ------------ --------------------------- 0.5/1.7 MB 15.4 kB/s eta 0:01:17\n",
      "   ------------ --------------------------- 0.5/1.7 MB 15.4 kB/s eta 0:01:17\n",
      "   ------------ --------------------------- 0.5/1.7 MB 15.4 kB/s eta 0:01:17\n",
      "   ------------ --------------------------- 0.5/1.7 MB 14.9 kB/s eta 0:01:19\n",
      "   ------------ --------------------------- 0.5/1.7 MB 14.9 kB/s eta 0:01:19\n",
      "   ------------ --------------------------- 0.5/1.7 MB 14.9 kB/s eta 0:01:19\n",
      "   ------------ --------------------------- 0.5/1.7 MB 14.9 kB/s eta 0:01:19\n",
      "   ------------ --------------------------- 0.5/1.7 MB 14.9 kB/s eta 0:01:19\n",
      "   ------------ --------------------------- 0.5/1.7 MB 14.9 kB/s eta 0:01:19\n",
      "   ------------ --------------------------- 0.5/1.7 MB 14.9 kB/s eta 0:01:19\n",
      "   ------------ --------------------------- 0.5/1.7 MB 14.9 kB/s eta 0:01:19\n",
      "   ------------ --------------------------- 0.5/1.7 MB 14.9 kB/s eta 0:01:19\n",
      "   ------------ --------------------------- 0.5/1.7 MB 14.9 kB/s eta 0:01:19\n",
      "   ------------ --------------------------- 0.5/1.7 MB 14.9 kB/s eta 0:01:19\n",
      "   ------------ --------------------------- 0.5/1.7 MB 14.9 kB/s eta 0:01:19\n",
      "   ------------ --------------------------- 0.5/1.7 MB 14.9 kB/s eta 0:01:19\n",
      "   ------------ --------------------------- 0.5/1.7 MB 14.9 kB/s eta 0:01:19\n",
      "   ------------ --------------------------- 0.5/1.7 MB 14.9 kB/s eta 0:01:19\n",
      "   ------------ --------------------------- 0.5/1.7 MB 14.9 kB/s eta 0:01:19\n",
      "   ------------ --------------------------- 0.5/1.7 MB 14.9 kB/s eta 0:01:19\n",
      "   ------------ --------------------------- 0.5/1.7 MB 14.9 kB/s eta 0:01:19\n",
      "   ------------ --------------------------- 0.5/1.7 MB 14.9 kB/s eta 0:01:19\n",
      "   ------------ --------------------------- 0.5/1.7 MB 14.9 kB/s eta 0:01:19\n",
      "   ------------ --------------------------- 0.5/1.7 MB 14.9 kB/s eta 0:01:19\n",
      "   ------------ --------------------------- 0.5/1.7 MB 14.9 kB/s eta 0:01:19\n",
      "   ------------ --------------------------- 0.5/1.7 MB 14.9 kB/s eta 0:01:19\n",
      "   ------------ --------------------------- 0.5/1.7 MB 14.9 kB/s eta 0:01:19\n",
      "   ------------ --------------------------- 0.5/1.7 MB 14.9 kB/s eta 0:01:19\n",
      "   ------------ --------------------------- 0.5/1.7 MB 14.9 kB/s eta 0:01:19\n",
      "   ------------ --------------------------- 0.5/1.7 MB 14.9 kB/s eta 0:01:19\n",
      "   ------------ --------------------------- 0.5/1.7 MB 14.9 kB/s eta 0:01:19\n",
      "   ------------ --------------------------- 0.5/1.7 MB 14.9 kB/s eta 0:01:19\n",
      "   ------------ --------------------------- 0.5/1.7 MB 14.9 kB/s eta 0:01:19\n",
      "   ------------ --------------------------- 0.5/1.7 MB 14.9 kB/s eta 0:01:19\n",
      "   ------------ --------------------------- 0.5/1.7 MB 14.9 kB/s eta 0:01:19\n",
      "   ------------ --------------------------- 0.5/1.7 MB 14.9 kB/s eta 0:01:19\n",
      "   ------------ --------------------------- 0.5/1.7 MB 14.9 kB/s eta 0:01:19\n",
      "   ------------ --------------------------- 0.5/1.7 MB 14.9 kB/s eta 0:01:19\n",
      "   ------------ --------------------------- 0.5/1.7 MB 14.9 kB/s eta 0:01:19\n",
      "   ------------ --------------------------- 0.5/1.7 MB 14.9 kB/s eta 0:01:19\n",
      "   ------------ --------------------------- 0.5/1.7 MB 14.9 kB/s eta 0:01:19\n",
      "   ------------ --------------------------- 0.5/1.7 MB 14.9 kB/s eta 0:01:19\n",
      "   ------------ --------------------------- 0.5/1.7 MB 14.9 kB/s eta 0:01:19\n",
      "   ------------ --------------------------- 0.5/1.7 MB 14.9 kB/s eta 0:01:19\n",
      "   ------------ --------------------------- 0.5/1.7 MB 14.9 kB/s eta 0:01:19\n",
      "   ------------ --------------------------- 0.5/1.7 MB 14.9 kB/s eta 0:01:19\n",
      "   ------------ --------------------------- 0.5/1.7 MB 14.9 kB/s eta 0:01:19\n",
      "   ------------ --------------------------- 0.5/1.7 MB 14.9 kB/s eta 0:01:19\n",
      "   ------------ --------------------------- 0.5/1.7 MB 14.9 kB/s eta 0:01:19\n",
      "   ------------ --------------------------- 0.5/1.7 MB 14.9 kB/s eta 0:01:19\n",
      "   ------------ --------------------------- 0.5/1.7 MB 14.9 kB/s eta 0:01:19\n",
      "   ------------ --------------------------- 0.5/1.7 MB 14.9 kB/s eta 0:01:19\n",
      "   ------------ --------------------------- 0.5/1.7 MB 14.9 kB/s eta 0:01:19\n",
      "   ------------ --------------------------- 0.5/1.7 MB 14.9 kB/s eta 0:01:19\n",
      "   ------------ --------------------------- 0.5/1.7 MB 14.9 kB/s eta 0:01:19\n",
      "   ------------ --------------------------- 0.5/1.7 MB 14.9 kB/s eta 0:01:19\n",
      "   ------------ --------------------------- 0.5/1.7 MB 14.9 kB/s eta 0:01:19\n",
      "   ------------ --------------------------- 0.5/1.7 MB 14.9 kB/s eta 0:01:19\n",
      "   ------------ --------------------------- 0.5/1.7 MB 14.9 kB/s eta 0:01:19\n",
      "   ------------ --------------------------- 0.5/1.7 MB 14.9 kB/s eta 0:01:19\n",
      "   ------------ --------------------------- 0.5/1.7 MB 14.9 kB/s eta 0:01:19\n",
      "   ------------ --------------------------- 0.5/1.7 MB 14.9 kB/s eta 0:01:19\n",
      "   ------------ --------------------------- 0.5/1.7 MB 14.9 kB/s eta 0:01:19\n",
      "   ------------ --------------------------- 0.5/1.7 MB 14.9 kB/s eta 0:01:19\n",
      "   ------------- -------------------------- 0.6/1.7 MB 14.1 kB/s eta 0:01:22\n",
      "   ------------- -------------------------- 0.6/1.7 MB 14.1 kB/s eta 0:01:22\n",
      "   ------------- -------------------------- 0.6/1.7 MB 14.1 kB/s eta 0:01:22\n",
      "   ------------- -------------------------- 0.6/1.7 MB 14.1 kB/s eta 0:01:22\n",
      "   -------------- ------------------------- 0.6/1.7 MB 15.8 kB/s eta 0:01:10\n",
      "   -------------- ------------------------- 0.6/1.7 MB 15.8 kB/s eta 0:01:10\n",
      "   -------------- ------------------------- 0.6/1.7 MB 15.8 kB/s eta 0:01:10\n",
      "   -------------- ------------------------- 0.6/1.7 MB 15.8 kB/s eta 0:01:10\n",
      "   -------------- ------------------------- 0.6/1.7 MB 15.8 kB/s eta 0:01:10\n",
      "   -------------- ------------------------- 0.6/1.7 MB 15.8 kB/s eta 0:01:10\n",
      "   -------------- ------------------------- 0.6/1.7 MB 15.8 kB/s eta 0:01:10\n",
      "   -------------- ------------------------- 0.6/1.7 MB 15.8 kB/s eta 0:01:10\n",
      "   -------------- ------------------------- 0.6/1.7 MB 15.8 kB/s eta 0:01:10\n",
      "   -------------- ------------------------- 0.6/1.7 MB 15.8 kB/s eta 0:01:10\n",
      "   -------------- ------------------------- 0.6/1.7 MB 15.8 kB/s eta 0:01:10\n",
      "   -------------- ------------------------- 0.6/1.7 MB 15.8 kB/s eta 0:01:10\n",
      "   -------------- ------------------------- 0.6/1.7 MB 15.8 kB/s eta 0:01:10\n",
      "   -------------- ------------------------- 0.6/1.7 MB 15.8 kB/s eta 0:01:10\n",
      "   -------------- ------------------------- 0.6/1.7 MB 15.8 kB/s eta 0:01:09\n",
      "   -------------- ------------------------- 0.6/1.7 MB 15.8 kB/s eta 0:01:09\n",
      "   -------------- ------------------------- 0.6/1.7 MB 15.8 kB/s eta 0:01:09\n",
      "   -------------- ------------------------- 0.6/1.7 MB 15.8 kB/s eta 0:01:09\n",
      "   -------------- ------------------------- 0.6/1.7 MB 15.8 kB/s eta 0:01:09\n",
      "   -------------- ------------------------- 0.6/1.7 MB 15.8 kB/s eta 0:01:09\n",
      "   -------------- ------------------------- 0.6/1.7 MB 15.8 kB/s eta 0:01:09\n",
      "   -------------- ------------------------- 0.6/1.7 MB 15.8 kB/s eta 0:01:09\n",
      "   -------------- ------------------------- 0.6/1.7 MB 15.8 kB/s eta 0:01:09\n",
      "   -------------- ------------------------- 0.6/1.7 MB 15.8 kB/s eta 0:01:09\n",
      "   -------------- ------------------------- 0.6/1.7 MB 15.8 kB/s eta 0:01:09\n",
      "   -------------- ------------------------- 0.6/1.7 MB 15.8 kB/s eta 0:01:09\n",
      "   -------------- ------------------------- 0.6/1.7 MB 15.8 kB/s eta 0:01:09\n",
      "   --------------- ------------------------ 0.6/1.7 MB 17.1 kB/s eta 0:01:03\n",
      "   --------------- ------------------------ 0.6/1.7 MB 17.1 kB/s eta 0:01:03\n",
      "   --------------- ------------------------ 0.6/1.7 MB 17.1 kB/s eta 0:01:03\n",
      "   --------------- ------------------------ 0.6/1.7 MB 17.1 kB/s eta 0:01:03\n",
      "   --------------- ------------------------ 0.6/1.7 MB 17.1 kB/s eta 0:01:03\n",
      "   --------------- ------------------------ 0.6/1.7 MB 17.1 kB/s eta 0:01:03\n",
      "   --------------- ------------------------ 0.6/1.7 MB 17.1 kB/s eta 0:01:03\n",
      "   --------------- ------------------------ 0.6/1.7 MB 17.1 kB/s eta 0:01:03\n",
      "   --------------- ------------------------ 0.6/1.7 MB 17.1 kB/s eta 0:01:03\n",
      "   --------------- ------------------------ 0.6/1.7 MB 17.1 kB/s eta 0:01:03\n",
      "   --------------- ------------------------ 0.6/1.7 MB 17.1 kB/s eta 0:01:03\n",
      "   --------------- ------------------------ 0.6/1.7 MB 17.1 kB/s eta 0:01:03\n",
      "   --------------- ------------------------ 0.6/1.7 MB 17.1 kB/s eta 0:01:03\n",
      "   --------------- ------------------------ 0.6/1.7 MB 17.1 kB/s eta 0:01:03\n",
      "   --------------- ------------------------ 0.6/1.7 MB 17.1 kB/s eta 0:01:03\n",
      "   --------------- ------------------------ 0.6/1.7 MB 17.1 kB/s eta 0:01:03\n",
      "   --------------- ------------------------ 0.6/1.7 MB 17.1 kB/s eta 0:01:03\n",
      "   --------------- ------------------------ 0.6/1.7 MB 17.1 kB/s eta 0:01:03\n",
      "   --------------- ------------------------ 0.7/1.7 MB 17.0 kB/s eta 0:01:03\n",
      "   --------------- ------------------------ 0.7/1.7 MB 17.0 kB/s eta 0:01:03\n",
      "   --------------- ------------------------ 0.7/1.7 MB 17.0 kB/s eta 0:01:03\n",
      "   --------------- ------------------------ 0.7/1.7 MB 17.0 kB/s eta 0:01:03\n",
      "   --------------- ------------------------ 0.7/1.7 MB 17.0 kB/s eta 0:01:03\n",
      "   --------------- ------------------------ 0.7/1.7 MB 17.0 kB/s eta 0:01:03\n",
      "   --------------- ------------------------ 0.7/1.7 MB 17.0 kB/s eta 0:01:03\n",
      "   --------------- ------------------------ 0.7/1.7 MB 17.0 kB/s eta 0:01:03\n",
      "   --------------- ------------------------ 0.7/1.7 MB 17.0 kB/s eta 0:01:03\n",
      "   --------------- ------------------------ 0.7/1.7 MB 17.0 kB/s eta 0:01:03\n",
      "   --------------- ------------------------ 0.7/1.7 MB 17.0 kB/s eta 0:01:03\n",
      "   --------------- ------------------------ 0.7/1.7 MB 17.0 kB/s eta 0:01:03\n",
      "   --------------- ------------------------ 0.7/1.7 MB 17.0 kB/s eta 0:01:03\n",
      "   --------------- ------------------------ 0.7/1.7 MB 17.0 kB/s eta 0:01:03\n",
      "   --------------- ------------------------ 0.7/1.7 MB 17.0 kB/s eta 0:01:03\n",
      "   --------------- ------------------------ 0.7/1.7 MB 17.0 kB/s eta 0:01:03\n",
      "   --------------- ------------------------ 0.7/1.7 MB 17.0 kB/s eta 0:01:03\n",
      "   --------------- ------------------------ 0.7/1.7 MB 17.0 kB/s eta 0:01:03\n",
      "   --------------- ------------------------ 0.7/1.7 MB 17.0 kB/s eta 0:01:03\n",
      "   --------------- ------------------------ 0.7/1.7 MB 17.0 kB/s eta 0:01:03\n",
      "   --------------- ------------------------ 0.7/1.7 MB 17.0 kB/s eta 0:01:03\n",
      "   --------------- ------------------------ 0.7/1.7 MB 17.0 kB/s eta 0:01:03\n",
      "   --------------- ------------------------ 0.7/1.7 MB 17.0 kB/s eta 0:01:03\n",
      "   --------------- ------------------------ 0.7/1.7 MB 17.0 kB/s eta 0:01:03\n",
      "   --------------- ------------------------ 0.7/1.7 MB 17.0 kB/s eta 0:01:03\n",
      "   --------------- ------------------------ 0.7/1.7 MB 17.0 kB/s eta 0:01:03\n",
      "   --------------- ------------------------ 0.7/1.7 MB 17.0 kB/s eta 0:01:03\n",
      "   --------------- ------------------------ 0.7/1.7 MB 17.0 kB/s eta 0:01:03\n",
      "   --------------- ------------------------ 0.7/1.7 MB 17.0 kB/s eta 0:01:03\n",
      "   --------------- ------------------------ 0.7/1.7 MB 17.0 kB/s eta 0:01:03\n",
      "   --------------- ------------------------ 0.7/1.7 MB 17.0 kB/s eta 0:01:03\n",
      "   --------------- ------------------------ 0.7/1.7 MB 17.0 kB/s eta 0:01:03\n",
      "   --------------- ------------------------ 0.7/1.7 MB 17.0 kB/s eta 0:01:03\n",
      "   --------------- ------------------------ 0.7/1.7 MB 17.0 kB/s eta 0:01:03\n",
      "   --------------- ------------------------ 0.7/1.7 MB 17.0 kB/s eta 0:01:03\n",
      "   --------------- ------------------------ 0.7/1.7 MB 17.0 kB/s eta 0:01:03\n",
      "   --------------- ------------------------ 0.7/1.7 MB 17.0 kB/s eta 0:01:03\n",
      "   --------------- ------------------------ 0.7/1.7 MB 17.0 kB/s eta 0:01:03\n",
      "   --------------- ------------------------ 0.7/1.7 MB 17.0 kB/s eta 0:01:03\n",
      "   --------------- ------------------------ 0.7/1.7 MB 17.0 kB/s eta 0:01:03\n",
      "   --------------- ------------------------ 0.7/1.7 MB 17.0 kB/s eta 0:01:03\n",
      "   --------------- ------------------------ 0.7/1.7 MB 17.0 kB/s eta 0:01:03\n",
      "   --------------- ------------------------ 0.7/1.7 MB 17.0 kB/s eta 0:01:03\n",
      "   --------------- ------------------------ 0.7/1.7 MB 17.0 kB/s eta 0:01:03\n",
      "   --------------- ------------------------ 0.7/1.7 MB 17.0 kB/s eta 0:01:03\n",
      "   --------------- ------------------------ 0.7/1.7 MB 17.0 kB/s eta 0:01:03\n",
      "   --------------- ------------------------ 0.7/1.7 MB 17.0 kB/s eta 0:01:03\n",
      "   --------------- ------------------------ 0.7/1.7 MB 17.0 kB/s eta 0:01:03\n",
      "   --------------- ------------------------ 0.7/1.7 MB 17.0 kB/s eta 0:01:03\n",
      "   --------------- ------------------------ 0.7/1.7 MB 17.0 kB/s eta 0:01:03\n",
      "   --------------- ------------------------ 0.7/1.7 MB 17.0 kB/s eta 0:01:03\n",
      "   --------------- ------------------------ 0.7/1.7 MB 17.0 kB/s eta 0:01:03\n",
      "   --------------- ------------------------ 0.7/1.7 MB 17.0 kB/s eta 0:01:03\n",
      "   --------------- ------------------------ 0.7/1.7 MB 17.0 kB/s eta 0:01:03\n",
      "   --------------- ------------------------ 0.7/1.7 MB 17.0 kB/s eta 0:01:03\n",
      "   --------------- ------------------------ 0.7/1.7 MB 17.0 kB/s eta 0:01:03\n",
      "   --------------- ------------------------ 0.7/1.7 MB 17.0 kB/s eta 0:01:03\n",
      "   --------------- ------------------------ 0.7/1.7 MB 17.0 kB/s eta 0:01:03\n",
      "   --------------- ------------------------ 0.7/1.7 MB 17.0 kB/s eta 0:01:03\n",
      "   --------------- ------------------------ 0.7/1.7 MB 17.0 kB/s eta 0:01:03\n",
      "   --------------- ------------------------ 0.7/1.7 MB 17.0 kB/s eta 0:01:03\n",
      "   --------------- ------------------------ 0.7/1.7 MB 17.0 kB/s eta 0:01:03\n",
      "   --------------- ------------------------ 0.7/1.7 MB 17.0 kB/s eta 0:01:03\n",
      "   --------------- ------------------------ 0.7/1.7 MB 17.0 kB/s eta 0:01:03\n",
      "   --------------- ------------------------ 0.7/1.7 MB 17.0 kB/s eta 0:01:03\n",
      "   --------------- ------------------------ 0.7/1.7 MB 17.0 kB/s eta 0:01:03\n",
      "   --------------- ------------------------ 0.7/1.7 MB 17.0 kB/s eta 0:01:03\n",
      "   --------------- ------------------------ 0.7/1.7 MB 17.0 kB/s eta 0:01:03\n",
      "   --------------- ------------------------ 0.7/1.7 MB 17.0 kB/s eta 0:01:03\n",
      "   --------------- ------------------------ 0.7/1.7 MB 17.0 kB/s eta 0:01:03\n",
      "   --------------- ------------------------ 0.7/1.7 MB 17.0 kB/s eta 0:01:03\n",
      "   --------------- ------------------------ 0.7/1.7 MB 17.0 kB/s eta 0:01:03\n",
      "   --------------- ------------------------ 0.7/1.7 MB 17.0 kB/s eta 0:01:03\n",
      "   --------------- ------------------------ 0.7/1.7 MB 17.0 kB/s eta 0:01:03\n",
      "   --------------- ------------------------ 0.7/1.7 MB 17.0 kB/s eta 0:01:03\n",
      "   --------------- ------------------------ 0.7/1.7 MB 17.0 kB/s eta 0:01:03\n",
      "   --------------- ------------------------ 0.7/1.7 MB 17.0 kB/s eta 0:01:03\n",
      "   --------------- ------------------------ 0.7/1.7 MB 17.0 kB/s eta 0:01:03\n",
      "   --------------- ------------------------ 0.7/1.7 MB 17.0 kB/s eta 0:01:03\n",
      "   --------------- ------------------------ 0.7/1.7 MB 17.0 kB/s eta 0:01:03\n",
      "   --------------- ------------------------ 0.7/1.7 MB 17.0 kB/s eta 0:01:03\n",
      "   --------------- ------------------------ 0.7/1.7 MB 17.0 kB/s eta 0:01:03\n",
      "   --------------- ------------------------ 0.7/1.7 MB 17.0 kB/s eta 0:01:03\n",
      "   --------------- ------------------------ 0.7/1.7 MB 17.0 kB/s eta 0:01:03\n",
      "   --------------- ------------------------ 0.7/1.7 MB 17.0 kB/s eta 0:01:03\n",
      "   --------------- ------------------------ 0.7/1.7 MB 17.0 kB/s eta 0:01:03\n",
      "   --------------- ------------------------ 0.7/1.7 MB 17.0 kB/s eta 0:01:03\n",
      "   --------------- ------------------------ 0.7/1.7 MB 17.0 kB/s eta 0:01:03\n",
      "   --------------- ------------------------ 0.7/1.7 MB 17.0 kB/s eta 0:01:03\n",
      "   --------------- ------------------------ 0.7/1.7 MB 17.0 kB/s eta 0:01:03\n",
      "   --------------- ------------------------ 0.7/1.7 MB 17.0 kB/s eta 0:01:03\n",
      "   --------------- ------------------------ 0.7/1.7 MB 17.0 kB/s eta 0:01:03\n",
      "   --------------- ------------------------ 0.7/1.7 MB 17.0 kB/s eta 0:01:03\n",
      "   --------------- ------------------------ 0.7/1.7 MB 17.0 kB/s eta 0:01:03\n",
      "   --------------- ------------------------ 0.7/1.7 MB 17.0 kB/s eta 0:01:03\n",
      "   --------------- ------------------------ 0.7/1.7 MB 17.0 kB/s eta 0:01:03\n",
      "   --------------- ------------------------ 0.7/1.7 MB 17.0 kB/s eta 0:01:03\n",
      "   --------------- ------------------------ 0.7/1.7 MB 17.0 kB/s eta 0:01:03\n",
      "   --------------- ------------------------ 0.7/1.7 MB 17.0 kB/s eta 0:01:03\n",
      "   --------------- ------------------------ 0.7/1.7 MB 17.0 kB/s eta 0:01:03\n",
      "   --------------- ------------------------ 0.7/1.7 MB 17.0 kB/s eta 0:01:03\n",
      "   --------------- ------------------------ 0.7/1.7 MB 17.0 kB/s eta 0:01:03\n",
      "   --------------- ------------------------ 0.7/1.7 MB 17.0 kB/s eta 0:01:03\n",
      "   --------------- ------------------------ 0.7/1.7 MB 17.0 kB/s eta 0:01:03\n",
      "   ---------------- ----------------------- 0.7/1.7 MB 17.2 kB/s eta 0:00:59\n",
      "   ----------------- ---------------------- 0.7/1.7 MB 18.3 kB/s eta 0:00:54\n",
      "   ----------------- ---------------------- 0.7/1.7 MB 18.3 kB/s eta 0:00:54\n",
      "   ----------------- ---------------------- 0.7/1.7 MB 18.3 kB/s eta 0:00:54\n",
      "   ----------------- ---------------------- 0.7/1.7 MB 18.3 kB/s eta 0:00:54\n",
      "   ----------------- ---------------------- 0.7/1.7 MB 18.3 kB/s eta 0:00:54\n",
      "   ----------------- ---------------------- 0.7/1.7 MB 18.3 kB/s eta 0:00:54\n",
      "   ----------------- ---------------------- 0.7/1.7 MB 18.3 kB/s eta 0:00:54\n",
      "   ----------------- ---------------------- 0.7/1.7 MB 18.3 kB/s eta 0:00:54\n",
      "   ----------------- ---------------------- 0.7/1.7 MB 18.4 kB/s eta 0:00:53\n",
      "   ----------------- ---------------------- 0.7/1.7 MB 18.4 kB/s eta 0:00:53\n",
      "   ----------------- ---------------------- 0.7/1.7 MB 18.4 kB/s eta 0:00:53\n",
      "   ----------------- ---------------------- 0.7/1.7 MB 18.4 kB/s eta 0:00:53\n",
      "   ----------------- ---------------------- 0.7/1.7 MB 18.4 kB/s eta 0:00:53\n",
      "   ----------------- ---------------------- 0.7/1.7 MB 18.4 kB/s eta 0:00:53\n",
      "   ----------------- ---------------------- 0.7/1.7 MB 18.4 kB/s eta 0:00:53\n",
      "   ----------------- ---------------------- 0.7/1.7 MB 18.4 kB/s eta 0:00:53\n",
      "   ----------------- ---------------------- 0.7/1.7 MB 18.4 kB/s eta 0:00:53\n",
      "   ----------------- ---------------------- 0.7/1.7 MB 18.4 kB/s eta 0:00:53\n",
      "   ----------------- ---------------------- 0.7/1.7 MB 18.4 kB/s eta 0:00:53\n",
      "   ----------------- ---------------------- 0.7/1.7 MB 18.4 kB/s eta 0:00:53\n",
      "   ----------------- ---------------------- 0.7/1.7 MB 18.4 kB/s eta 0:00:53\n",
      "   ----------------- ---------------------- 0.7/1.7 MB 18.4 kB/s eta 0:00:53\n",
      "   ----------------- ---------------------- 0.7/1.7 MB 18.4 kB/s eta 0:00:53\n",
      "   ----------------- ---------------------- 0.7/1.7 MB 18.4 kB/s eta 0:00:53\n",
      "   ----------------- ---------------------- 0.7/1.7 MB 18.4 kB/s eta 0:00:53\n",
      "   ----------------- ---------------------- 0.7/1.7 MB 18.4 kB/s eta 0:00:53\n",
      "   ----------------- ---------------------- 0.7/1.7 MB 18.4 kB/s eta 0:00:53\n",
      "   ----------------- ---------------------- 0.7/1.7 MB 18.4 kB/s eta 0:00:53\n",
      "   ----------------- ---------------------- 0.8/1.7 MB 18.5 kB/s eta 0:00:52\n",
      "   ----------------- ---------------------- 0.8/1.7 MB 18.5 kB/s eta 0:00:52\n",
      "   ----------------- ---------------------- 0.8/1.7 MB 18.5 kB/s eta 0:00:52\n",
      "   ----------------- ---------------------- 0.8/1.7 MB 18.5 kB/s eta 0:00:52\n",
      "   ----------------- ---------------------- 0.8/1.7 MB 18.5 kB/s eta 0:00:52\n",
      "   ----------------- ---------------------- 0.8/1.7 MB 18.5 kB/s eta 0:00:52\n",
      "   ----------------- ---------------------- 0.8/1.7 MB 18.5 kB/s eta 0:00:52\n",
      "   ----------------- ---------------------- 0.8/1.7 MB 18.5 kB/s eta 0:00:52\n",
      "   ----------------- ---------------------- 0.8/1.7 MB 18.5 kB/s eta 0:00:52\n",
      "   ----------------- ---------------------- 0.8/1.7 MB 18.5 kB/s eta 0:00:52\n",
      "   ----------------- ---------------------- 0.8/1.7 MB 18.5 kB/s eta 0:00:52\n",
      "   ----------------- ---------------------- 0.8/1.7 MB 18.5 kB/s eta 0:00:52\n",
      "   ----------------- ---------------------- 0.8/1.7 MB 18.5 kB/s eta 0:00:52\n",
      "   ----------------- ---------------------- 0.8/1.7 MB 18.5 kB/s eta 0:00:52\n",
      "   ----------------- ---------------------- 0.8/1.7 MB 18.5 kB/s eta 0:00:52\n",
      "   ----------------- ---------------------- 0.8/1.7 MB 18.5 kB/s eta 0:00:52\n",
      "   ----------------- ---------------------- 0.8/1.7 MB 18.5 kB/s eta 0:00:52\n",
      "   ----------------- ---------------------- 0.8/1.7 MB 18.5 kB/s eta 0:00:52\n",
      "   ----------------- ---------------------- 0.8/1.7 MB 18.5 kB/s eta 0:00:52\n",
      "   ----------------- ---------------------- 0.8/1.7 MB 18.5 kB/s eta 0:00:52\n",
      "   ------------------ --------------------- 0.8/1.7 MB 19.3 kB/s eta 0:00:49\n",
      "   ------------------ --------------------- 0.8/1.7 MB 19.3 kB/s eta 0:00:49\n",
      "   ------------------ --------------------- 0.8/1.7 MB 19.3 kB/s eta 0:00:49\n",
      "   ------------------ --------------------- 0.8/1.7 MB 19.3 kB/s eta 0:00:49\n",
      "   ------------------ --------------------- 0.8/1.7 MB 19.3 kB/s eta 0:00:49\n",
      "   ------------------ --------------------- 0.8/1.7 MB 19.3 kB/s eta 0:00:49\n",
      "   ------------------ --------------------- 0.8/1.7 MB 19.3 kB/s eta 0:00:49\n",
      "   ------------------ --------------------- 0.8/1.7 MB 19.3 kB/s eta 0:00:49\n",
      "   ------------------ --------------------- 0.8/1.7 MB 19.3 kB/s eta 0:00:49\n",
      "   ------------------ --------------------- 0.8/1.7 MB 19.3 kB/s eta 0:00:49\n",
      "   ------------------ --------------------- 0.8/1.7 MB 19.3 kB/s eta 0:00:49\n",
      "   ------------------ --------------------- 0.8/1.7 MB 19.3 kB/s eta 0:00:49\n",
      "   ------------------ --------------------- 0.8/1.7 MB 19.3 kB/s eta 0:00:49\n",
      "   ------------------ --------------------- 0.8/1.7 MB 19.3 kB/s eta 0:00:49\n",
      "   ------------------ --------------------- 0.8/1.7 MB 19.3 kB/s eta 0:00:49\n",
      "   ------------------ --------------------- 0.8/1.7 MB 19.3 kB/s eta 0:00:49\n",
      "   ------------------ --------------------- 0.8/1.7 MB 19.3 kB/s eta 0:00:49\n",
      "   ------------------ --------------------- 0.8/1.7 MB 19.3 kB/s eta 0:00:49\n",
      "   ------------------ --------------------- 0.8/1.7 MB 20.5 kB/s eta 0:00:45\n",
      "   ------------------ --------------------- 0.8/1.7 MB 20.5 kB/s eta 0:00:45\n",
      "   ------------------ --------------------- 0.8/1.7 MB 20.5 kB/s eta 0:00:45\n",
      "   ------------------ --------------------- 0.8/1.7 MB 20.5 kB/s eta 0:00:45\n",
      "   ------------------ --------------------- 0.8/1.7 MB 20.5 kB/s eta 0:00:45\n",
      "   ------------------ --------------------- 0.8/1.7 MB 20.5 kB/s eta 0:00:45\n",
      "   ------------------ --------------------- 0.8/1.7 MB 20.5 kB/s eta 0:00:45\n",
      "   ------------------ --------------------- 0.8/1.7 MB 20.5 kB/s eta 0:00:45\n",
      "   ------------------ --------------------- 0.8/1.7 MB 20.5 kB/s eta 0:00:45\n",
      "   ------------------ --------------------- 0.8/1.7 MB 20.5 kB/s eta 0:00:45\n",
      "   ------------------ --------------------- 0.8/1.7 MB 20.5 kB/s eta 0:00:45\n",
      "   ------------------ --------------------- 0.8/1.7 MB 20.5 kB/s eta 0:00:45\n",
      "   ------------------ --------------------- 0.8/1.7 MB 20.5 kB/s eta 0:00:45\n",
      "   ------------------ --------------------- 0.8/1.7 MB 20.5 kB/s eta 0:00:45\n",
      "   ------------------ --------------------- 0.8/1.7 MB 20.5 kB/s eta 0:00:45\n",
      "   ------------------ --------------------- 0.8/1.7 MB 20.5 kB/s eta 0:00:45\n",
      "   ------------------ --------------------- 0.8/1.7 MB 20.5 kB/s eta 0:00:45\n",
      "   ------------------ --------------------- 0.8/1.7 MB 20.5 kB/s eta 0:00:45\n",
      "   ------------------ --------------------- 0.8/1.7 MB 20.5 kB/s eta 0:00:45\n",
      "   ------------------ --------------------- 0.8/1.7 MB 20.5 kB/s eta 0:00:45\n",
      "   ------------------ --------------------- 0.8/1.7 MB 20.6 kB/s eta 0:00:44\n",
      "   ------------------ --------------------- 0.8/1.7 MB 20.6 kB/s eta 0:00:44\n",
      "   ------------------ --------------------- 0.8/1.7 MB 20.6 kB/s eta 0:00:44\n",
      "   ------------------ --------------------- 0.8/1.7 MB 20.6 kB/s eta 0:00:44\n",
      "   ------------------ --------------------- 0.8/1.7 MB 20.6 kB/s eta 0:00:44\n",
      "   ------------------ --------------------- 0.8/1.7 MB 20.6 kB/s eta 0:00:44\n",
      "   ------------------ --------------------- 0.8/1.7 MB 20.6 kB/s eta 0:00:44\n",
      "   ------------------ --------------------- 0.8/1.7 MB 20.6 kB/s eta 0:00:44\n",
      "   ------------------- -------------------- 0.8/1.7 MB 20.7 kB/s eta 0:00:44\n",
      "   ------------------- -------------------- 0.8/1.7 MB 20.7 kB/s eta 0:00:44\n",
      "   ------------------- -------------------- 0.8/1.7 MB 20.7 kB/s eta 0:00:44\n",
      "   ------------------- -------------------- 0.8/1.7 MB 20.7 kB/s eta 0:00:44\n",
      "   ------------------- -------------------- 0.8/1.7 MB 20.7 kB/s eta 0:00:44\n",
      "   ------------------- -------------------- 0.8/1.7 MB 20.7 kB/s eta 0:00:44\n",
      "   ------------------- -------------------- 0.8/1.7 MB 20.7 kB/s eta 0:00:44\n",
      "   ------------------- -------------------- 0.8/1.7 MB 20.7 kB/s eta 0:00:44\n",
      "   ------------------- -------------------- 0.8/1.7 MB 20.7 kB/s eta 0:00:44\n",
      "   ------------------- -------------------- 0.8/1.7 MB 20.7 kB/s eta 0:00:44\n",
      "   ------------------- -------------------- 0.8/1.7 MB 20.7 kB/s eta 0:00:44\n",
      "   ------------------- -------------------- 0.8/1.7 MB 20.7 kB/s eta 0:00:44\n",
      "   ------------------- -------------------- 0.8/1.7 MB 20.7 kB/s eta 0:00:44\n",
      "   ------------------- -------------------- 0.8/1.7 MB 20.9 kB/s eta 0:00:42\n",
      "   ------------------- -------------------- 0.8/1.7 MB 20.9 kB/s eta 0:00:42\n",
      "   ------------------- -------------------- 0.8/1.7 MB 20.9 kB/s eta 0:00:42\n",
      "   ------------------- -------------------- 0.8/1.7 MB 20.9 kB/s eta 0:00:42\n",
      "   ------------------- -------------------- 0.8/1.7 MB 20.9 kB/s eta 0:00:42\n",
      "   ------------------- -------------------- 0.8/1.7 MB 20.9 kB/s eta 0:00:42\n",
      "   ------------------- -------------------- 0.8/1.7 MB 20.9 kB/s eta 0:00:42\n",
      "   ------------------- -------------------- 0.8/1.7 MB 20.9 kB/s eta 0:00:42\n",
      "   ------------------- -------------------- 0.8/1.7 MB 20.9 kB/s eta 0:00:42\n",
      "   ------------------- -------------------- 0.8/1.7 MB 20.9 kB/s eta 0:00:42\n",
      "   ------------------- -------------------- 0.8/1.7 MB 20.9 kB/s eta 0:00:42\n",
      "   ------------------- -------------------- 0.8/1.7 MB 20.9 kB/s eta 0:00:42\n",
      "   ------------------- -------------------- 0.8/1.7 MB 20.9 kB/s eta 0:00:42\n",
      "   ------------------- -------------------- 0.8/1.7 MB 20.9 kB/s eta 0:00:42\n",
      "   ------------------- -------------------- 0.8/1.7 MB 20.9 kB/s eta 0:00:42\n",
      "   ------------------- -------------------- 0.8/1.7 MB 20.9 kB/s eta 0:00:42\n",
      "   ------------------- -------------------- 0.8/1.7 MB 20.9 kB/s eta 0:00:42\n",
      "   ------------------- -------------------- 0.8/1.7 MB 20.9 kB/s eta 0:00:42\n",
      "   ------------------- -------------------- 0.8/1.7 MB 20.9 kB/s eta 0:00:42\n",
      "   ------------------- -------------------- 0.8/1.7 MB 20.9 kB/s eta 0:00:42\n",
      "   ------------------- -------------------- 0.8/1.7 MB 20.9 kB/s eta 0:00:42\n",
      "   ------------------- -------------------- 0.8/1.7 MB 20.9 kB/s eta 0:00:42\n",
      "   ------------------- -------------------- 0.8/1.7 MB 20.9 kB/s eta 0:00:42\n",
      "   ------------------- -------------------- 0.8/1.7 MB 20.9 kB/s eta 0:00:42\n",
      "   ------------------- -------------------- 0.8/1.7 MB 20.9 kB/s eta 0:00:42\n",
      "   ------------------- -------------------- 0.8/1.7 MB 20.9 kB/s eta 0:00:42\n",
      "   ------------------- -------------------- 0.8/1.7 MB 20.9 kB/s eta 0:00:42\n",
      "   ------------------- -------------------- 0.8/1.7 MB 20.9 kB/s eta 0:00:42\n",
      "   ------------------- -------------------- 0.8/1.7 MB 20.9 kB/s eta 0:00:42\n",
      "   ------------------- -------------------- 0.8/1.7 MB 20.9 kB/s eta 0:00:42\n",
      "   ------------------- -------------------- 0.8/1.7 MB 20.9 kB/s eta 0:00:42\n",
      "   ------------------- -------------------- 0.8/1.7 MB 20.9 kB/s eta 0:00:42\n",
      "   ------------------- -------------------- 0.8/1.7 MB 20.9 kB/s eta 0:00:42\n",
      "   ------------------- -------------------- 0.8/1.7 MB 20.9 kB/s eta 0:00:42\n",
      "   ------------------- -------------------- 0.8/1.7 MB 20.9 kB/s eta 0:00:42\n",
      "   -------------------- ------------------- 0.9/1.7 MB 20.7 kB/s eta 0:00:42\n",
      "   -------------------- ------------------- 0.9/1.7 MB 20.7 kB/s eta 0:00:42\n",
      "   -------------------- ------------------- 0.9/1.7 MB 20.7 kB/s eta 0:00:42\n",
      "   -------------------- ------------------- 0.9/1.7 MB 20.7 kB/s eta 0:00:42\n",
      "   -------------------- ------------------- 0.9/1.7 MB 20.7 kB/s eta 0:00:42\n",
      "   -------------------- ------------------- 0.9/1.7 MB 20.7 kB/s eta 0:00:42\n",
      "   -------------------- ------------------- 0.9/1.7 MB 20.7 kB/s eta 0:00:42\n",
      "   -------------------- ------------------- 0.9/1.7 MB 20.7 kB/s eta 0:00:42\n",
      "   -------------------- ------------------- 0.9/1.7 MB 20.7 kB/s eta 0:00:42\n",
      "   -------------------- ------------------- 0.9/1.7 MB 20.7 kB/s eta 0:00:42\n",
      "   -------------------- ------------------- 0.9/1.7 MB 20.7 kB/s eta 0:00:42\n",
      "   -------------------- ------------------- 0.9/1.7 MB 20.7 kB/s eta 0:00:42\n",
      "   -------------------- ------------------- 0.9/1.7 MB 20.7 kB/s eta 0:00:42\n",
      "   -------------------- ------------------- 0.9/1.7 MB 20.7 kB/s eta 0:00:42\n",
      "   -------------------- ------------------- 0.9/1.7 MB 20.7 kB/s eta 0:00:42\n",
      "   -------------------- ------------------- 0.9/1.7 MB 20.7 kB/s eta 0:00:42\n",
      "   -------------------- ------------------- 0.9/1.7 MB 20.7 kB/s eta 0:00:42\n",
      "   -------------------- ------------------- 0.9/1.7 MB 20.7 kB/s eta 0:00:42\n",
      "   -------------------- ------------------- 0.9/1.7 MB 20.7 kB/s eta 0:00:42\n",
      "   -------------------- ------------------- 0.9/1.7 MB 20.7 kB/s eta 0:00:42\n",
      "   -------------------- ------------------- 0.9/1.7 MB 20.7 kB/s eta 0:00:42\n",
      "   -------------------- ------------------- 0.9/1.7 MB 20.7 kB/s eta 0:00:42\n",
      "   -------------------- ------------------- 0.9/1.7 MB 20.7 kB/s eta 0:00:42\n",
      "   -------------------- ------------------- 0.9/1.7 MB 20.3 kB/s eta 0:00:42\n",
      "   -------------------- ------------------- 0.9/1.7 MB 20.3 kB/s eta 0:00:42\n",
      "   -------------------- ------------------- 0.9/1.7 MB 20.3 kB/s eta 0:00:42\n",
      "   -------------------- ------------------- 0.9/1.7 MB 20.3 kB/s eta 0:00:42\n",
      "   -------------------- ------------------- 0.9/1.7 MB 20.3 kB/s eta 0:00:42\n",
      "   -------------------- ------------------- 0.9/1.7 MB 20.3 kB/s eta 0:00:42\n",
      "   -------------------- ------------------- 0.9/1.7 MB 20.3 kB/s eta 0:00:42\n",
      "   -------------------- ------------------- 0.9/1.7 MB 20.3 kB/s eta 0:00:42\n",
      "   -------------------- ------------------- 0.9/1.7 MB 20.3 kB/s eta 0:00:42\n",
      "   -------------------- ------------------- 0.9/1.7 MB 20.3 kB/s eta 0:00:42\n",
      "   -------------------- ------------------- 0.9/1.7 MB 20.3 kB/s eta 0:00:42\n",
      "   -------------------- ------------------- 0.9/1.7 MB 20.3 kB/s eta 0:00:42\n",
      "   -------------------- ------------------- 0.9/1.7 MB 20.3 kB/s eta 0:00:42\n",
      "   -------------------- ------------------- 0.9/1.7 MB 20.3 kB/s eta 0:00:42\n",
      "   -------------------- ------------------- 0.9/1.7 MB 20.3 kB/s eta 0:00:42\n",
      "   -------------------- ------------------- 0.9/1.7 MB 20.3 kB/s eta 0:00:42\n",
      "   -------------------- ------------------- 0.9/1.7 MB 20.3 kB/s eta 0:00:42\n",
      "   -------------------- ------------------- 0.9/1.7 MB 20.3 kB/s eta 0:00:42\n",
      "   -------------------- ------------------- 0.9/1.7 MB 20.3 kB/s eta 0:00:42\n",
      "   -------------------- ------------------- 0.9/1.7 MB 20.3 kB/s eta 0:00:42\n",
      "   -------------------- ------------------- 0.9/1.7 MB 20.3 kB/s eta 0:00:42\n",
      "   -------------------- ------------------- 0.9/1.7 MB 20.3 kB/s eta 0:00:42\n",
      "   -------------------- ------------------- 0.9/1.7 MB 20.3 kB/s eta 0:00:42\n",
      "   -------------------- ------------------- 0.9/1.7 MB 20.3 kB/s eta 0:00:42\n",
      "   -------------------- ------------------- 0.9/1.7 MB 20.3 kB/s eta 0:00:42\n",
      "   -------------------- ------------------- 0.9/1.7 MB 20.3 kB/s eta 0:00:42\n",
      "   -------------------- ------------------- 0.9/1.7 MB 20.3 kB/s eta 0:00:42\n",
      "   -------------------- ------------------- 0.9/1.7 MB 20.3 kB/s eta 0:00:42\n",
      "   -------------------- ------------------- 0.9/1.7 MB 20.3 kB/s eta 0:00:42\n",
      "   -------------------- ------------------- 0.9/1.7 MB 20.3 kB/s eta 0:00:42\n",
      "   -------------------- ------------------- 0.9/1.7 MB 20.3 kB/s eta 0:00:42\n",
      "   -------------------- ------------------- 0.9/1.7 MB 20.3 kB/s eta 0:00:42\n",
      "   -------------------- ------------------- 0.9/1.7 MB 20.3 kB/s eta 0:00:42\n",
      "   -------------------- ------------------- 0.9/1.7 MB 20.3 kB/s eta 0:00:42\n",
      "   -------------------- ------------------- 0.9/1.7 MB 20.3 kB/s eta 0:00:42\n",
      "   -------------------- ------------------- 0.9/1.7 MB 20.3 kB/s eta 0:00:42\n",
      "   -------------------- ------------------- 0.9/1.7 MB 20.3 kB/s eta 0:00:42\n",
      "   -------------------- ------------------- 0.9/1.7 MB 20.3 kB/s eta 0:00:42\n",
      "   -------------------- ------------------- 0.9/1.7 MB 19.4 kB/s eta 0:00:43\n",
      "   -------------------- ------------------- 0.9/1.7 MB 19.4 kB/s eta 0:00:43\n",
      "   -------------------- ------------------- 0.9/1.7 MB 19.4 kB/s eta 0:00:43\n",
      "   -------------------- ------------------- 0.9/1.7 MB 19.4 kB/s eta 0:00:43\n",
      "   -------------------- ------------------- 0.9/1.7 MB 19.4 kB/s eta 0:00:43\n",
      "   -------------------- ------------------- 0.9/1.7 MB 19.4 kB/s eta 0:00:43\n",
      "   -------------------- ------------------- 0.9/1.7 MB 19.4 kB/s eta 0:00:43\n",
      "   -------------------- ------------------- 0.9/1.7 MB 19.4 kB/s eta 0:00:43\n",
      "   -------------------- ------------------- 0.9/1.7 MB 19.4 kB/s eta 0:00:43\n",
      "   -------------------- ------------------- 0.9/1.7 MB 19.4 kB/s eta 0:00:43\n",
      "   -------------------- ------------------- 0.9/1.7 MB 19.4 kB/s eta 0:00:43\n",
      "   -------------------- ------------------- 0.9/1.7 MB 19.4 kB/s eta 0:00:43\n",
      "   -------------------- ------------------- 0.9/1.7 MB 19.4 kB/s eta 0:00:43\n",
      "   -------------------- ------------------- 0.9/1.7 MB 19.4 kB/s eta 0:00:43\n",
      "   -------------------- ------------------- 0.9/1.7 MB 19.4 kB/s eta 0:00:43\n",
      "   -------------------- ------------------- 0.9/1.7 MB 19.4 kB/s eta 0:00:43\n",
      "   -------------------- ------------------- 0.9/1.7 MB 19.4 kB/s eta 0:00:43\n",
      "   -------------------- ------------------- 0.9/1.7 MB 19.4 kB/s eta 0:00:43\n",
      "   -------------------- ------------------- 0.9/1.7 MB 19.4 kB/s eta 0:00:43\n",
      "   -------------------- ------------------- 0.9/1.7 MB 19.4 kB/s eta 0:00:43\n",
      "   -------------------- ------------------- 0.9/1.7 MB 19.4 kB/s eta 0:00:43\n",
      "   -------------------- ------------------- 0.9/1.7 MB 19.4 kB/s eta 0:00:43\n",
      "   -------------------- ------------------- 0.9/1.7 MB 19.4 kB/s eta 0:00:43\n",
      "   -------------------- ------------------- 0.9/1.7 MB 19.4 kB/s eta 0:00:43\n",
      "   -------------------- ------------------- 0.9/1.7 MB 19.4 kB/s eta 0:00:43\n",
      "   --------------------- ------------------ 0.9/1.7 MB 18.5 kB/s eta 0:00:44\n",
      "   --------------------- ------------------ 0.9/1.7 MB 18.5 kB/s eta 0:00:44\n",
      "   --------------------- ------------------ 0.9/1.7 MB 18.5 kB/s eta 0:00:44\n",
      "   --------------------- ------------------ 0.9/1.7 MB 18.5 kB/s eta 0:00:44\n",
      "   --------------------- ------------------ 0.9/1.7 MB 18.5 kB/s eta 0:00:44\n",
      "   --------------------- ------------------ 0.9/1.7 MB 18.5 kB/s eta 0:00:44\n",
      "   --------------------- ------------------ 0.9/1.7 MB 18.5 kB/s eta 0:00:44\n",
      "   --------------------- ------------------ 0.9/1.7 MB 18.5 kB/s eta 0:00:44\n",
      "   --------------------- ------------------ 0.9/1.7 MB 18.5 kB/s eta 0:00:44\n",
      "   --------------------- ------------------ 0.9/1.7 MB 18.5 kB/s eta 0:00:44\n",
      "   --------------------- ------------------ 0.9/1.7 MB 18.5 kB/s eta 0:00:44\n",
      "   --------------------- ------------------ 0.9/1.7 MB 18.5 kB/s eta 0:00:44\n",
      "   --------------------- ------------------ 0.9/1.7 MB 18.5 kB/s eta 0:00:44\n",
      "   --------------------- ------------------ 0.9/1.7 MB 18.5 kB/s eta 0:00:44\n",
      "   --------------------- ------------------ 0.9/1.7 MB 18.5 kB/s eta 0:00:44\n",
      "   --------------------- ------------------ 0.9/1.7 MB 18.5 kB/s eta 0:00:44\n",
      "   --------------------- ------------------ 0.9/1.7 MB 18.5 kB/s eta 0:00:44\n",
      "   --------------------- ------------------ 0.9/1.7 MB 18.5 kB/s eta 0:00:44\n",
      "   --------------------- ------------------ 0.9/1.7 MB 18.5 kB/s eta 0:00:44\n",
      "   --------------------- ------------------ 0.9/1.7 MB 18.5 kB/s eta 0:00:44\n",
      "   --------------------- ------------------ 0.9/1.7 MB 18.5 kB/s eta 0:00:44\n",
      "   --------------------- ------------------ 0.9/1.7 MB 18.5 kB/s eta 0:00:44\n",
      "   --------------------- ------------------ 0.9/1.7 MB 18.5 kB/s eta 0:00:44\n",
      "   --------------------- ------------------ 0.9/1.7 MB 18.5 kB/s eta 0:00:44\n",
      "   --------------------- ------------------ 0.9/1.7 MB 18.5 kB/s eta 0:00:44\n",
      "   --------------------- ------------------ 0.9/1.7 MB 18.5 kB/s eta 0:00:44\n",
      "   --------------------- ------------------ 0.9/1.7 MB 18.5 kB/s eta 0:00:44\n",
      "   --------------------- ------------------ 0.9/1.7 MB 18.5 kB/s eta 0:00:44\n",
      "   --------------------- ------------------ 0.9/1.7 MB 18.5 kB/s eta 0:00:44\n",
      "   --------------------- ------------------ 0.9/1.7 MB 18.2 kB/s eta 0:00:44\n",
      "   --------------------- ------------------ 0.9/1.7 MB 18.2 kB/s eta 0:00:44\n",
      "   --------------------- ------------------ 0.9/1.7 MB 18.2 kB/s eta 0:00:44\n",
      "   --------------------- ------------------ 0.9/1.7 MB 18.2 kB/s eta 0:00:44\n",
      "   --------------------- ------------------ 0.9/1.7 MB 18.2 kB/s eta 0:00:44\n",
      "   --------------------- ------------------ 0.9/1.7 MB 18.2 kB/s eta 0:00:44\n",
      "   --------------------- ------------------ 0.9/1.7 MB 18.2 kB/s eta 0:00:44\n",
      "   --------------------- ------------------ 0.9/1.7 MB 18.2 kB/s eta 0:00:44\n",
      "   --------------------- ------------------ 0.9/1.7 MB 18.2 kB/s eta 0:00:44\n",
      "   --------------------- ------------------ 0.9/1.7 MB 18.2 kB/s eta 0:00:44\n",
      "   --------------------- ------------------ 0.9/1.7 MB 18.2 kB/s eta 0:00:44\n",
      "   --------------------- ------------------ 0.9/1.7 MB 18.2 kB/s eta 0:00:44\n",
      "   --------------------- ------------------ 0.9/1.7 MB 18.2 kB/s eta 0:00:44\n",
      "   --------------------- ------------------ 0.9/1.7 MB 18.2 kB/s eta 0:00:44\n",
      "   --------------------- ------------------ 0.9/1.7 MB 18.2 kB/s eta 0:00:44\n",
      "   --------------------- ------------------ 0.9/1.7 MB 18.2 kB/s eta 0:00:44\n",
      "   --------------------- ------------------ 0.9/1.7 MB 18.2 kB/s eta 0:00:44\n",
      "   --------------------- ------------------ 0.9/1.7 MB 18.2 kB/s eta 0:00:44\n",
      "   --------------------- ------------------ 0.9/1.7 MB 18.2 kB/s eta 0:00:44\n",
      "   --------------------- ------------------ 0.9/1.7 MB 18.2 kB/s eta 0:00:44\n",
      "   --------------------- ------------------ 0.9/1.7 MB 18.2 kB/s eta 0:00:44\n",
      "   --------------------- ------------------ 0.9/1.7 MB 18.2 kB/s eta 0:00:44\n",
      "   --------------------- ------------------ 0.9/1.7 MB 18.2 kB/s eta 0:00:44\n",
      "   --------------------- ------------------ 0.9/1.7 MB 18.2 kB/s eta 0:00:44\n",
      "   --------------------- ------------------ 0.9/1.7 MB 18.2 kB/s eta 0:00:44\n",
      "   --------------------- ------------------ 0.9/1.7 MB 18.2 kB/s eta 0:00:44\n",
      "   --------------------- ------------------ 0.9/1.7 MB 18.2 kB/s eta 0:00:44\n",
      "   --------------------- ------------------ 0.9/1.7 MB 18.2 kB/s eta 0:00:44\n",
      "   --------------------- ------------------ 0.9/1.7 MB 18.2 kB/s eta 0:00:44\n",
      "   --------------------- ------------------ 0.9/1.7 MB 18.2 kB/s eta 0:00:44\n",
      "   --------------------- ------------------ 0.9/1.7 MB 18.2 kB/s eta 0:00:44\n",
      "   --------------------- ------------------ 0.9/1.7 MB 18.2 kB/s eta 0:00:44\n",
      "   --------------------- ------------------ 0.9/1.7 MB 18.2 kB/s eta 0:00:44\n",
      "   --------------------- ------------------ 0.9/1.7 MB 18.2 kB/s eta 0:00:44\n",
      "   --------------------- ------------------ 0.9/1.7 MB 18.2 kB/s eta 0:00:44\n",
      "   --------------------- ------------------ 0.9/1.7 MB 18.2 kB/s eta 0:00:44\n",
      "   --------------------- ------------------ 0.9/1.7 MB 18.2 kB/s eta 0:00:44\n",
      "   --------------------- ------------------ 0.9/1.7 MB 18.2 kB/s eta 0:00:44\n",
      "   --------------------- ------------------ 0.9/1.7 MB 18.2 kB/s eta 0:00:44\n",
      "   --------------------- ------------------ 0.9/1.7 MB 18.2 kB/s eta 0:00:44\n",
      "   --------------------- ------------------ 0.9/1.7 MB 18.2 kB/s eta 0:00:44\n",
      "   --------------------- ------------------ 0.9/1.7 MB 18.2 kB/s eta 0:00:44\n",
      "   --------------------- ------------------ 0.9/1.7 MB 18.2 kB/s eta 0:00:44\n",
      "   --------------------- ------------------ 0.9/1.7 MB 18.2 kB/s eta 0:00:44\n",
      "   --------------------- ------------------ 0.9/1.7 MB 18.2 kB/s eta 0:00:44\n",
      "   --------------------- ------------------ 0.9/1.7 MB 18.2 kB/s eta 0:00:44\n",
      "   --------------------- ------------------ 0.9/1.7 MB 18.2 kB/s eta 0:00:44\n",
      "   --------------------- ------------------ 0.9/1.7 MB 18.2 kB/s eta 0:00:44\n",
      "   --------------------- ------------------ 0.9/1.7 MB 18.2 kB/s eta 0:00:44\n",
      "   --------------------- ------------------ 0.9/1.7 MB 18.2 kB/s eta 0:00:44\n",
      "   --------------------- ------------------ 0.9/1.7 MB 18.2 kB/s eta 0:00:44\n",
      "   --------------------- ------------------ 0.9/1.7 MB 18.2 kB/s eta 0:00:44\n",
      "   --------------------- ------------------ 0.9/1.7 MB 18.2 kB/s eta 0:00:44\n",
      "   --------------------- ------------------ 0.9/1.7 MB 18.2 kB/s eta 0:00:44\n",
      "   --------------------- ------------------ 0.9/1.7 MB 18.2 kB/s eta 0:00:44\n",
      "   --------------------- ------------------ 0.9/1.7 MB 18.2 kB/s eta 0:00:44\n",
      "   --------------------- ------------------ 0.9/1.7 MB 18.2 kB/s eta 0:00:44\n",
      "   --------------------- ------------------ 0.9/1.7 MB 18.2 kB/s eta 0:00:44\n",
      "   --------------------- ------------------ 0.9/1.7 MB 18.2 kB/s eta 0:00:44\n",
      "   --------------------- ------------------ 0.9/1.7 MB 18.2 kB/s eta 0:00:44\n",
      "   --------------------- ------------------ 0.9/1.7 MB 18.2 kB/s eta 0:00:44\n",
      "   --------------------- ------------------ 0.9/1.7 MB 18.2 kB/s eta 0:00:44\n",
      "   --------------------- ------------------ 0.9/1.7 MB 18.2 kB/s eta 0:00:44\n",
      "   --------------------- ------------------ 0.9/1.7 MB 18.2 kB/s eta 0:00:44\n",
      "   --------------------- ------------------ 0.9/1.7 MB 18.2 kB/s eta 0:00:44\n",
      "   --------------------- ------------------ 0.9/1.7 MB 18.2 kB/s eta 0:00:44\n",
      "   --------------------- ------------------ 0.9/1.7 MB 18.2 kB/s eta 0:00:44\n",
      "   --------------------- ------------------ 0.9/1.7 MB 18.2 kB/s eta 0:00:44\n",
      "   --------------------- ------------------ 0.9/1.7 MB 18.2 kB/s eta 0:00:44\n",
      "   --------------------- ------------------ 0.9/1.7 MB 18.2 kB/s eta 0:00:44\n",
      "   --------------------- ------------------ 0.9/1.7 MB 18.2 kB/s eta 0:00:44\n",
      "   --------------------- ------------------ 0.9/1.7 MB 18.2 kB/s eta 0:00:44\n",
      "   --------------------- ------------------ 0.9/1.7 MB 18.2 kB/s eta 0:00:44\n",
      "   --------------------- ------------------ 0.9/1.7 MB 18.2 kB/s eta 0:00:44\n",
      "   --------------------- ------------------ 0.9/1.7 MB 18.2 kB/s eta 0:00:44\n",
      "   --------------------- ------------------ 0.9/1.7 MB 18.2 kB/s eta 0:00:44\n",
      "   --------------------- ------------------ 0.9/1.7 MB 18.2 kB/s eta 0:00:44\n",
      "   --------------------- ------------------ 0.9/1.7 MB 18.2 kB/s eta 0:00:44\n",
      "   --------------------- ------------------ 0.9/1.7 MB 18.2 kB/s eta 0:00:44\n",
      "   --------------------- ------------------ 0.9/1.7 MB 18.2 kB/s eta 0:00:44\n",
      "   --------------------- ------------------ 0.9/1.7 MB 18.2 kB/s eta 0:00:44\n",
      "   --------------------- ------------------ 0.9/1.7 MB 18.2 kB/s eta 0:00:44\n",
      "   --------------------- ------------------ 0.9/1.7 MB 18.2 kB/s eta 0:00:44\n",
      "   --------------------- ------------------ 0.9/1.7 MB 18.2 kB/s eta 0:00:44\n",
      "   --------------------- ------------------ 0.9/1.7 MB 18.2 kB/s eta 0:00:44\n",
      "   ----------------------- ---------------- 1.0/1.7 MB 17.5 kB/s eta 0:00:42\n",
      "   ----------------------- ---------------- 1.0/1.7 MB 17.5 kB/s eta 0:00:42\n",
      "   ----------------------- ---------------- 1.0/1.7 MB 17.5 kB/s eta 0:00:42\n",
      "   ----------------------- ---------------- 1.0/1.7 MB 17.5 kB/s eta 0:00:42\n",
      "   ----------------------- ---------------- 1.0/1.7 MB 17.5 kB/s eta 0:00:42\n",
      "   ----------------------- ---------------- 1.0/1.7 MB 17.5 kB/s eta 0:00:42\n",
      "   ----------------------- ---------------- 1.0/1.7 MB 17.5 kB/s eta 0:00:42\n",
      "   ----------------------- ---------------- 1.0/1.7 MB 17.5 kB/s eta 0:00:42\n",
      "   ----------------------- ---------------- 1.0/1.7 MB 17.5 kB/s eta 0:00:42\n",
      "   ----------------------- ---------------- 1.0/1.7 MB 17.5 kB/s eta 0:00:42\n",
      "   ----------------------- ---------------- 1.0/1.7 MB 17.5 kB/s eta 0:00:42\n",
      "   ----------------------- ---------------- 1.0/1.7 MB 17.5 kB/s eta 0:00:42\n",
      "   ----------------------- ---------------- 1.0/1.7 MB 17.5 kB/s eta 0:00:42\n",
      "   ----------------------- ---------------- 1.0/1.7 MB 17.5 kB/s eta 0:00:42\n",
      "   ----------------------- ---------------- 1.0/1.7 MB 17.5 kB/s eta 0:00:42\n",
      "   ----------------------- ---------------- 1.0/1.7 MB 17.5 kB/s eta 0:00:42\n",
      "   ----------------------- ---------------- 1.0/1.7 MB 17.5 kB/s eta 0:00:42\n",
      "   ----------------------- ---------------- 1.0/1.7 MB 17.5 kB/s eta 0:00:42\n",
      "   ----------------------- ---------------- 1.0/1.7 MB 17.5 kB/s eta 0:00:42\n",
      "   ----------------------- ---------------- 1.0/1.7 MB 17.5 kB/s eta 0:00:42\n",
      "   ----------------------- ---------------- 1.0/1.7 MB 17.5 kB/s eta 0:00:42\n",
      "   ----------------------- ---------------- 1.0/1.7 MB 17.5 kB/s eta 0:00:42\n",
      "   ----------------------- ---------------- 1.0/1.7 MB 17.5 kB/s eta 0:00:42\n",
      "   ----------------------- ---------------- 1.0/1.7 MB 17.5 kB/s eta 0:00:42\n",
      "   ----------------------- ---------------- 1.0/1.7 MB 17.5 kB/s eta 0:00:42\n",
      "   ----------------------- ---------------- 1.0/1.7 MB 17.5 kB/s eta 0:00:42\n",
      "   ----------------------- ---------------- 1.0/1.7 MB 17.5 kB/s eta 0:00:42\n",
      "   ----------------------- ---------------- 1.0/1.7 MB 16.7 kB/s eta 0:00:43\n",
      "   ----------------------- ---------------- 1.0/1.7 MB 16.7 kB/s eta 0:00:43\n",
      "   ----------------------- ---------------- 1.0/1.7 MB 16.7 kB/s eta 0:00:43\n",
      "   ----------------------- ---------------- 1.0/1.7 MB 16.7 kB/s eta 0:00:43\n",
      "   ----------------------- ---------------- 1.0/1.7 MB 16.7 kB/s eta 0:00:43\n",
      "   ----------------------- ---------------- 1.0/1.7 MB 16.7 kB/s eta 0:00:43\n",
      "   ----------------------- ---------------- 1.0/1.7 MB 16.7 kB/s eta 0:00:43\n",
      "   ----------------------- ---------------- 1.0/1.7 MB 16.7 kB/s eta 0:00:43\n",
      "   ----------------------- ---------------- 1.0/1.7 MB 16.7 kB/s eta 0:00:43\n",
      "   ----------------------- ---------------- 1.0/1.7 MB 16.7 kB/s eta 0:00:43\n",
      "   ----------------------- ---------------- 1.0/1.7 MB 16.7 kB/s eta 0:00:43\n",
      "   ----------------------- ---------------- 1.0/1.7 MB 16.7 kB/s eta 0:00:43\n",
      "   ----------------------- ---------------- 1.0/1.7 MB 16.7 kB/s eta 0:00:43\n",
      "   ----------------------- ---------------- 1.0/1.7 MB 16.7 kB/s eta 0:00:43\n",
      "   ----------------------- ---------------- 1.0/1.7 MB 16.7 kB/s eta 0:00:43\n",
      "   ----------------------- ---------------- 1.0/1.7 MB 16.7 kB/s eta 0:00:43\n",
      "   ----------------------- ---------------- 1.0/1.7 MB 16.7 kB/s eta 0:00:43\n",
      "   ----------------------- ---------------- 1.0/1.7 MB 16.7 kB/s eta 0:00:43\n",
      "   ----------------------- ---------------- 1.0/1.7 MB 16.7 kB/s eta 0:00:43\n",
      "   ----------------------- ---------------- 1.0/1.7 MB 16.7 kB/s eta 0:00:43\n",
      "   ----------------------- ---------------- 1.0/1.7 MB 16.7 kB/s eta 0:00:43\n",
      "   ----------------------- ---------------- 1.0/1.7 MB 16.7 kB/s eta 0:00:43\n",
      "   ----------------------- ---------------- 1.0/1.7 MB 16.7 kB/s eta 0:00:43\n",
      "   ----------------------- ---------------- 1.0/1.7 MB 16.7 kB/s eta 0:00:43\n",
      "   ----------------------- ---------------- 1.0/1.7 MB 16.7 kB/s eta 0:00:43\n",
      "   ----------------------- ---------------- 1.0/1.7 MB 16.2 kB/s eta 0:00:43\n",
      "   ----------------------- ---------------- 1.0/1.7 MB 16.2 kB/s eta 0:00:43\n",
      "   ----------------------- ---------------- 1.0/1.7 MB 16.2 kB/s eta 0:00:43\n",
      "   ----------------------- ---------------- 1.0/1.7 MB 16.2 kB/s eta 0:00:43\n",
      "   ----------------------- ---------------- 1.0/1.7 MB 16.2 kB/s eta 0:00:43\n",
      "   ----------------------- ---------------- 1.0/1.7 MB 16.2 kB/s eta 0:00:43\n",
      "   ----------------------- ---------------- 1.0/1.7 MB 16.2 kB/s eta 0:00:43\n",
      "   ----------------------- ---------------- 1.0/1.7 MB 16.2 kB/s eta 0:00:43\n",
      "   ----------------------- ---------------- 1.0/1.7 MB 16.2 kB/s eta 0:00:43\n",
      "   ----------------------- ---------------- 1.0/1.7 MB 16.2 kB/s eta 0:00:43\n",
      "   ----------------------- ---------------- 1.0/1.7 MB 16.2 kB/s eta 0:00:43\n",
      "   ----------------------- ---------------- 1.0/1.7 MB 16.2 kB/s eta 0:00:43\n",
      "   ------------------------ --------------- 1.0/1.7 MB 16.6 kB/s eta 0:00:41\n",
      "   ------------------------ --------------- 1.0/1.7 MB 16.6 kB/s eta 0:00:41\n",
      "   ------------------------ --------------- 1.0/1.7 MB 16.6 kB/s eta 0:00:41\n",
      "   ------------------------ --------------- 1.0/1.7 MB 16.6 kB/s eta 0:00:41\n",
      "   ------------------------ --------------- 1.0/1.7 MB 16.6 kB/s eta 0:00:41\n",
      "   ------------------------ --------------- 1.0/1.7 MB 16.6 kB/s eta 0:00:41\n",
      "   ------------------------ --------------- 1.0/1.7 MB 16.6 kB/s eta 0:00:41\n",
      "   ------------------------ --------------- 1.0/1.7 MB 16.6 kB/s eta 0:00:41\n",
      "   ------------------------ --------------- 1.0/1.7 MB 16.6 kB/s eta 0:00:41\n",
      "   ------------------------ --------------- 1.0/1.7 MB 16.6 kB/s eta 0:00:41\n",
      "   ------------------------ --------------- 1.0/1.7 MB 16.6 kB/s eta 0:00:41\n",
      "   ------------------------ --------------- 1.0/1.7 MB 16.6 kB/s eta 0:00:41\n",
      "   ------------------------ --------------- 1.0/1.7 MB 18.0 kB/s eta 0:00:37\n",
      "   ------------------------ --------------- 1.0/1.7 MB 18.0 kB/s eta 0:00:37\n",
      "   ------------------------ --------------- 1.0/1.7 MB 18.0 kB/s eta 0:00:37\n",
      "   ------------------------ --------------- 1.0/1.7 MB 18.0 kB/s eta 0:00:37\n",
      "   ------------------------ --------------- 1.0/1.7 MB 18.0 kB/s eta 0:00:37\n",
      "   ------------------------ --------------- 1.0/1.7 MB 18.0 kB/s eta 0:00:37\n",
      "   ------------------------ --------------- 1.0/1.7 MB 18.0 kB/s eta 0:00:37\n",
      "   ------------------------ --------------- 1.0/1.7 MB 18.0 kB/s eta 0:00:37\n",
      "   ------------------------ --------------- 1.0/1.7 MB 18.0 kB/s eta 0:00:37\n",
      "   ------------------------ --------------- 1.0/1.7 MB 18.0 kB/s eta 0:00:37\n",
      "   ------------------------ --------------- 1.0/1.7 MB 18.0 kB/s eta 0:00:37\n",
      "   ------------------------ --------------- 1.0/1.7 MB 18.0 kB/s eta 0:00:37\n",
      "   ------------------------ --------------- 1.0/1.7 MB 18.0 kB/s eta 0:00:37\n",
      "   ------------------------ --------------- 1.0/1.7 MB 18.0 kB/s eta 0:00:37\n",
      "   ------------------------ --------------- 1.0/1.7 MB 18.0 kB/s eta 0:00:37\n",
      "   ------------------------ --------------- 1.1/1.7 MB 18.3 kB/s eta 0:00:36\n",
      "   ------------------------ --------------- 1.1/1.7 MB 18.3 kB/s eta 0:00:36\n",
      "   ------------------------ --------------- 1.1/1.7 MB 18.3 kB/s eta 0:00:36\n",
      "   ------------------------ --------------- 1.1/1.7 MB 18.3 kB/s eta 0:00:36\n",
      "   ------------------------ --------------- 1.1/1.7 MB 18.3 kB/s eta 0:00:36\n",
      "   ------------------------ --------------- 1.1/1.7 MB 18.3 kB/s eta 0:00:36\n",
      "   ------------------------ --------------- 1.1/1.7 MB 18.3 kB/s eta 0:00:36\n",
      "   ------------------------ --------------- 1.1/1.7 MB 18.3 kB/s eta 0:00:36\n",
      "   ------------------------ --------------- 1.1/1.7 MB 18.3 kB/s eta 0:00:36\n",
      "   ------------------------ --------------- 1.1/1.7 MB 18.3 kB/s eta 0:00:36\n",
      "   ------------------------ --------------- 1.1/1.7 MB 18.3 kB/s eta 0:00:36\n",
      "   ------------------------- -------------- 1.1/1.7 MB 18.3 kB/s eta 0:00:35\n",
      "   ------------------------- -------------- 1.1/1.7 MB 18.3 kB/s eta 0:00:35\n",
      "   ------------------------- -------------- 1.1/1.7 MB 18.3 kB/s eta 0:00:35\n",
      "   ------------------------- -------------- 1.1/1.7 MB 18.3 kB/s eta 0:00:35\n",
      "   ------------------------- -------------- 1.1/1.7 MB 18.3 kB/s eta 0:00:35\n",
      "   ------------------------- -------------- 1.1/1.7 MB 18.3 kB/s eta 0:00:35\n",
      "   ------------------------- -------------- 1.1/1.7 MB 18.3 kB/s eta 0:00:35\n",
      "   ------------------------- -------------- 1.1/1.7 MB 18.3 kB/s eta 0:00:35\n",
      "   ------------------------- -------------- 1.1/1.7 MB 18.3 kB/s eta 0:00:35\n",
      "   ------------------------- -------------- 1.1/1.7 MB 18.3 kB/s eta 0:00:35\n",
      "   ------------------------- -------------- 1.1/1.7 MB 18.3 kB/s eta 0:00:35\n",
      "   ------------------------- -------------- 1.1/1.7 MB 18.3 kB/s eta 0:00:35\n",
      "   ------------------------- -------------- 1.1/1.7 MB 18.3 kB/s eta 0:00:35\n",
      "   ------------------------- -------------- 1.1/1.7 MB 18.3 kB/s eta 0:00:35\n",
      "   ------------------------- -------------- 1.1/1.7 MB 18.3 kB/s eta 0:00:35\n",
      "   ------------------------- -------------- 1.1/1.7 MB 18.3 kB/s eta 0:00:35\n",
      "   ------------------------- -------------- 1.1/1.7 MB 18.3 kB/s eta 0:00:35\n",
      "   ------------------------- -------------- 1.1/1.7 MB 18.3 kB/s eta 0:00:35\n",
      "   ------------------------- -------------- 1.1/1.7 MB 18.3 kB/s eta 0:00:35\n",
      "   ------------------------- -------------- 1.1/1.7 MB 18.3 kB/s eta 0:00:35\n",
      "   ------------------------- -------------- 1.1/1.7 MB 18.3 kB/s eta 0:00:35\n",
      "   ------------------------- -------------- 1.1/1.7 MB 18.3 kB/s eta 0:00:35\n",
      "   ------------------------- -------------- 1.1/1.7 MB 18.3 kB/s eta 0:00:34\n",
      "   ------------------------- -------------- 1.1/1.7 MB 18.3 kB/s eta 0:00:34\n",
      "   ------------------------- -------------- 1.1/1.7 MB 18.3 kB/s eta 0:00:34\n",
      "   ------------------------- -------------- 1.1/1.7 MB 18.3 kB/s eta 0:00:34\n",
      "   ------------------------- -------------- 1.1/1.7 MB 18.3 kB/s eta 0:00:34\n",
      "   ------------------------- -------------- 1.1/1.7 MB 18.3 kB/s eta 0:00:34\n",
      "   ------------------------- -------------- 1.1/1.7 MB 18.3 kB/s eta 0:00:34\n",
      "   ------------------------- -------------- 1.1/1.7 MB 18.3 kB/s eta 0:00:34\n",
      "   ------------------------- -------------- 1.1/1.7 MB 18.3 kB/s eta 0:00:34\n",
      "   ------------------------- -------------- 1.1/1.7 MB 18.3 kB/s eta 0:00:34\n",
      "   ------------------------- -------------- 1.1/1.7 MB 17.8 kB/s eta 0:00:34\n",
      "   ------------------------- -------------- 1.1/1.7 MB 17.8 kB/s eta 0:00:34\n",
      "   ------------------------- -------------- 1.1/1.7 MB 17.8 kB/s eta 0:00:34\n",
      "   ------------------------- -------------- 1.1/1.7 MB 17.8 kB/s eta 0:00:34\n",
      "   ------------------------- -------------- 1.1/1.7 MB 17.8 kB/s eta 0:00:34\n",
      "   ------------------------- -------------- 1.1/1.7 MB 17.8 kB/s eta 0:00:34\n",
      "   ------------------------- -------------- 1.1/1.7 MB 17.8 kB/s eta 0:00:34\n",
      "   ------------------------- -------------- 1.1/1.7 MB 17.8 kB/s eta 0:00:34\n",
      "   ------------------------- -------------- 1.1/1.7 MB 17.8 kB/s eta 0:00:34\n",
      "   ------------------------- -------------- 1.1/1.7 MB 17.8 kB/s eta 0:00:34\n",
      "   ------------------------- -------------- 1.1/1.7 MB 17.8 kB/s eta 0:00:34\n",
      "   ------------------------- -------------- 1.1/1.7 MB 17.8 kB/s eta 0:00:34\n",
      "   ------------------------- -------------- 1.1/1.7 MB 17.8 kB/s eta 0:00:34\n",
      "   ------------------------- -------------- 1.1/1.7 MB 17.8 kB/s eta 0:00:34\n",
      "   ------------------------- -------------- 1.1/1.7 MB 17.8 kB/s eta 0:00:34\n",
      "   ------------------------- -------------- 1.1/1.7 MB 17.8 kB/s eta 0:00:34\n",
      "   ------------------------- -------------- 1.1/1.7 MB 17.8 kB/s eta 0:00:34\n",
      "   ------------------------- -------------- 1.1/1.7 MB 17.8 kB/s eta 0:00:34\n",
      "   ------------------------- -------------- 1.1/1.7 MB 17.8 kB/s eta 0:00:34\n",
      "   ------------------------- -------------- 1.1/1.7 MB 17.8 kB/s eta 0:00:34\n",
      "   ------------------------- -------------- 1.1/1.7 MB 17.8 kB/s eta 0:00:34\n",
      "   ------------------------- -------------- 1.1/1.7 MB 17.8 kB/s eta 0:00:34\n",
      "   ------------------------- -------------- 1.1/1.7 MB 17.8 kB/s eta 0:00:34\n",
      "   ------------------------- -------------- 1.1/1.7 MB 17.8 kB/s eta 0:00:34\n",
      "   -------------------------- ------------- 1.1/1.7 MB 16.5 kB/s eta 0:00:36\n",
      "   -------------------------- ------------- 1.1/1.7 MB 16.5 kB/s eta 0:00:36\n",
      "   -------------------------- ------------- 1.1/1.7 MB 16.5 kB/s eta 0:00:36\n",
      "   -------------------------- ------------- 1.1/1.7 MB 16.5 kB/s eta 0:00:36\n",
      "   -------------------------- ------------- 1.1/1.7 MB 16.5 kB/s eta 0:00:36\n",
      "   -------------------------- ------------- 1.1/1.7 MB 16.5 kB/s eta 0:00:36\n",
      "   -------------------------- ------------- 1.1/1.7 MB 16.5 kB/s eta 0:00:36\n",
      "   -------------------------- ------------- 1.1/1.7 MB 16.5 kB/s eta 0:00:36\n",
      "   -------------------------- ------------- 1.1/1.7 MB 16.5 kB/s eta 0:00:36\n",
      "   -------------------------- ------------- 1.1/1.7 MB 16.5 kB/s eta 0:00:36\n",
      "   -------------------------- ------------- 1.1/1.7 MB 16.5 kB/s eta 0:00:36\n",
      "   -------------------------- ------------- 1.1/1.7 MB 16.5 kB/s eta 0:00:36\n",
      "   -------------------------- ------------- 1.1/1.7 MB 16.5 kB/s eta 0:00:36\n",
      "   -------------------------- ------------- 1.1/1.7 MB 16.5 kB/s eta 0:00:36\n",
      "   -------------------------- ------------- 1.1/1.7 MB 16.5 kB/s eta 0:00:36\n",
      "   -------------------------- ------------- 1.1/1.7 MB 16.5 kB/s eta 0:00:36\n",
      "   -------------------------- ------------- 1.1/1.7 MB 16.5 kB/s eta 0:00:36\n",
      "   -------------------------- ------------- 1.1/1.7 MB 16.5 kB/s eta 0:00:36\n",
      "   -------------------------- ------------- 1.1/1.7 MB 16.5 kB/s eta 0:00:36\n",
      "   -------------------------- ------------- 1.1/1.7 MB 16.5 kB/s eta 0:00:36\n",
      "   -------------------------- ------------- 1.1/1.7 MB 16.5 kB/s eta 0:00:36\n",
      "   -------------------------- ------------- 1.1/1.7 MB 16.5 kB/s eta 0:00:36\n",
      "   -------------------------- ------------- 1.1/1.7 MB 16.5 kB/s eta 0:00:36\n",
      "   -------------------------- ------------- 1.1/1.7 MB 16.4 kB/s eta 0:00:35\n",
      "   -------------------------- ------------- 1.1/1.7 MB 16.4 kB/s eta 0:00:35\n",
      "   -------------------------- ------------- 1.1/1.7 MB 16.4 kB/s eta 0:00:35\n",
      "   -------------------------- ------------- 1.1/1.7 MB 16.4 kB/s eta 0:00:35\n",
      "   -------------------------- ------------- 1.1/1.7 MB 16.4 kB/s eta 0:00:35\n",
      "   -------------------------- ------------- 1.1/1.7 MB 16.4 kB/s eta 0:00:35\n",
      "   -------------------------- ------------- 1.1/1.7 MB 16.4 kB/s eta 0:00:35\n",
      "   -------------------------- ------------- 1.1/1.7 MB 16.4 kB/s eta 0:00:35\n",
      "   -------------------------- ------------- 1.1/1.7 MB 16.4 kB/s eta 0:00:35\n",
      "   --------------------------- ------------ 1.2/1.7 MB 19.3 kB/s eta 0:00:29\n",
      "   --------------------------- ------------ 1.2/1.7 MB 19.3 kB/s eta 0:00:29\n",
      "   --------------------------- ------------ 1.2/1.7 MB 19.3 kB/s eta 0:00:29\n",
      "   --------------------------- ------------ 1.2/1.7 MB 19.3 kB/s eta 0:00:29\n",
      "   --------------------------- ------------ 1.2/1.7 MB 19.3 kB/s eta 0:00:29\n",
      "   --------------------------- ------------ 1.2/1.7 MB 19.3 kB/s eta 0:00:29\n",
      "   --------------------------- ------------ 1.2/1.7 MB 19.3 kB/s eta 0:00:29\n",
      "   --------------------------- ------------ 1.2/1.7 MB 19.9 kB/s eta 0:00:27\n",
      "   --------------------------- ------------ 1.2/1.7 MB 19.9 kB/s eta 0:00:27\n",
      "   --------------------------- ------------ 1.2/1.7 MB 19.9 kB/s eta 0:00:27\n",
      "   --------------------------- ------------ 1.2/1.7 MB 19.9 kB/s eta 0:00:27\n",
      "   --------------------------- ------------ 1.2/1.7 MB 19.9 kB/s eta 0:00:27\n",
      "   --------------------------- ------------ 1.2/1.7 MB 19.9 kB/s eta 0:00:27\n",
      "   --------------------------- ------------ 1.2/1.7 MB 19.9 kB/s eta 0:00:27\n",
      "   --------------------------- ------------ 1.2/1.7 MB 19.9 kB/s eta 0:00:27\n",
      "   --------------------------- ------------ 1.2/1.7 MB 19.9 kB/s eta 0:00:27\n",
      "   --------------------------- ------------ 1.2/1.7 MB 19.9 kB/s eta 0:00:27\n",
      "   --------------------------- ------------ 1.2/1.7 MB 19.9 kB/s eta 0:00:27\n",
      "   --------------------------- ------------ 1.2/1.7 MB 19.9 kB/s eta 0:00:27\n",
      "   --------------------------- ------------ 1.2/1.7 MB 19.9 kB/s eta 0:00:27\n",
      "   --------------------------- ------------ 1.2/1.7 MB 19.9 kB/s eta 0:00:27\n",
      "   --------------------------- ------------ 1.2/1.7 MB 19.9 kB/s eta 0:00:27\n",
      "   --------------------------- ------------ 1.2/1.7 MB 19.9 kB/s eta 0:00:27\n",
      "   --------------------------- ------------ 1.2/1.7 MB 19.9 kB/s eta 0:00:27\n",
      "   --------------------------- ------------ 1.2/1.7 MB 19.9 kB/s eta 0:00:27\n",
      "   --------------------------- ------------ 1.2/1.7 MB 19.9 kB/s eta 0:00:27\n",
      "   --------------------------- ------------ 1.2/1.7 MB 19.9 kB/s eta 0:00:27\n",
      "   --------------------------- ------------ 1.2/1.7 MB 19.9 kB/s eta 0:00:27\n",
      "   --------------------------- ------------ 1.2/1.7 MB 19.9 kB/s eta 0:00:27\n",
      "   --------------------------- ------------ 1.2/1.7 MB 19.9 kB/s eta 0:00:27\n",
      "   --------------------------- ------------ 1.2/1.7 MB 19.9 kB/s eta 0:00:27\n",
      "   --------------------------- ------------ 1.2/1.7 MB 19.9 kB/s eta 0:00:27\n",
      "   --------------------------- ------------ 1.2/1.7 MB 19.9 kB/s eta 0:00:27\n",
      "   --------------------------- ------------ 1.2/1.7 MB 19.9 kB/s eta 0:00:27\n",
      "   --------------------------- ------------ 1.2/1.7 MB 19.9 kB/s eta 0:00:27\n",
      "   --------------------------- ------------ 1.2/1.7 MB 19.9 kB/s eta 0:00:27\n",
      "   --------------------------- ------------ 1.2/1.7 MB 19.9 kB/s eta 0:00:27\n",
      "   --------------------------- ------------ 1.2/1.7 MB 19.9 kB/s eta 0:00:27\n",
      "   --------------------------- ------------ 1.2/1.7 MB 19.9 kB/s eta 0:00:27\n",
      "   --------------------------- ------------ 1.2/1.7 MB 19.9 kB/s eta 0:00:27\n",
      "   --------------------------- ------------ 1.2/1.7 MB 19.9 kB/s eta 0:00:27\n",
      "   --------------------------- ------------ 1.2/1.7 MB 19.9 kB/s eta 0:00:27\n",
      "   --------------------------- ------------ 1.2/1.7 MB 19.9 kB/s eta 0:00:27\n",
      "   --------------------------- ------------ 1.2/1.7 MB 19.9 kB/s eta 0:00:27\n",
      "   --------------------------- ------------ 1.2/1.7 MB 19.9 kB/s eta 0:00:27\n",
      "   --------------------------- ------------ 1.2/1.7 MB 19.9 kB/s eta 0:00:27\n",
      "   --------------------------- ------------ 1.2/1.7 MB 19.9 kB/s eta 0:00:27\n",
      "   --------------------------- ------------ 1.2/1.7 MB 19.9 kB/s eta 0:00:27\n",
      "   --------------------------- ------------ 1.2/1.7 MB 19.9 kB/s eta 0:00:27\n",
      "   --------------------------- ------------ 1.2/1.7 MB 19.9 kB/s eta 0:00:27\n",
      "   --------------------------- ------------ 1.2/1.7 MB 19.9 kB/s eta 0:00:27\n",
      "   --------------------------- ------------ 1.2/1.7 MB 19.9 kB/s eta 0:00:27\n",
      "   --------------------------- ------------ 1.2/1.7 MB 19.9 kB/s eta 0:00:27\n",
      "   --------------------------- ------------ 1.2/1.7 MB 19.9 kB/s eta 0:00:27\n",
      "   --------------------------- ------------ 1.2/1.7 MB 19.9 kB/s eta 0:00:27\n",
      "   --------------------------- ------------ 1.2/1.7 MB 19.9 kB/s eta 0:00:27\n",
      "   --------------------------- ------------ 1.2/1.7 MB 19.9 kB/s eta 0:00:27\n",
      "   --------------------------- ------------ 1.2/1.7 MB 19.9 kB/s eta 0:00:27\n",
      "   --------------------------- ------------ 1.2/1.7 MB 19.9 kB/s eta 0:00:27\n",
      "   --------------------------- ------------ 1.2/1.7 MB 19.9 kB/s eta 0:00:27\n",
      "   --------------------------- ------------ 1.2/1.7 MB 19.9 kB/s eta 0:00:27\n",
      "   --------------------------- ------------ 1.2/1.7 MB 19.9 kB/s eta 0:00:27\n",
      "   --------------------------- ------------ 1.2/1.7 MB 19.9 kB/s eta 0:00:27\n",
      "   --------------------------- ------------ 1.2/1.7 MB 19.9 kB/s eta 0:00:27\n",
      "   --------------------------- ------------ 1.2/1.7 MB 19.9 kB/s eta 0:00:27\n",
      "   --------------------------- ------------ 1.2/1.7 MB 19.9 kB/s eta 0:00:27\n",
      "   --------------------------- ------------ 1.2/1.7 MB 19.9 kB/s eta 0:00:27\n",
      "   --------------------------- ------------ 1.2/1.7 MB 19.9 kB/s eta 0:00:27\n",
      "   --------------------------- ------------ 1.2/1.7 MB 19.9 kB/s eta 0:00:27\n",
      "   --------------------------- ------------ 1.2/1.7 MB 19.9 kB/s eta 0:00:27\n",
      "   --------------------------- ------------ 1.2/1.7 MB 19.9 kB/s eta 0:00:27\n",
      "   ---------------------------- ----------- 1.2/1.7 MB 19.6 kB/s eta 0:00:25\n",
      "   ---------------------------- ----------- 1.2/1.7 MB 19.6 kB/s eta 0:00:25\n",
      "   ---------------------------- ----------- 1.2/1.7 MB 19.6 kB/s eta 0:00:25\n",
      "   ---------------------------- ----------- 1.2/1.7 MB 19.6 kB/s eta 0:00:25\n",
      "   ---------------------------- ----------- 1.2/1.7 MB 19.6 kB/s eta 0:00:25\n",
      "   ---------------------------- ----------- 1.2/1.7 MB 19.6 kB/s eta 0:00:25\n",
      "   ---------------------------- ----------- 1.2/1.7 MB 19.6 kB/s eta 0:00:25\n",
      "   ---------------------------- ----------- 1.2/1.7 MB 19.6 kB/s eta 0:00:25\n",
      "   ---------------------------- ----------- 1.2/1.7 MB 19.6 kB/s eta 0:00:25\n",
      "   ---------------------------- ----------- 1.2/1.7 MB 19.6 kB/s eta 0:00:24\n",
      "   ---------------------------- ----------- 1.2/1.7 MB 19.6 kB/s eta 0:00:24\n",
      "   ---------------------------- ----------- 1.2/1.7 MB 19.6 kB/s eta 0:00:24\n",
      "   ---------------------------- ----------- 1.2/1.7 MB 19.6 kB/s eta 0:00:24\n",
      "   ---------------------------- ----------- 1.2/1.7 MB 19.6 kB/s eta 0:00:24\n",
      "   ---------------------------- ----------- 1.2/1.7 MB 19.6 kB/s eta 0:00:24\n",
      "   ---------------------------- ----------- 1.2/1.7 MB 19.6 kB/s eta 0:00:24\n",
      "   ---------------------------- ----------- 1.2/1.7 MB 19.6 kB/s eta 0:00:24\n",
      "   ---------------------------- ----------- 1.2/1.7 MB 19.6 kB/s eta 0:00:24\n",
      "   ---------------------------- ----------- 1.2/1.7 MB 19.6 kB/s eta 0:00:24\n",
      "   ----------------------------- ---------- 1.3/1.7 MB 20.0 kB/s eta 0:00:23\n",
      "   ----------------------------- ---------- 1.3/1.7 MB 20.0 kB/s eta 0:00:23\n",
      "   ----------------------------- ---------- 1.3/1.7 MB 20.0 kB/s eta 0:00:23\n",
      "   ----------------------------- ---------- 1.3/1.7 MB 20.0 kB/s eta 0:00:23\n",
      "   ----------------------------- ---------- 1.3/1.7 MB 20.0 kB/s eta 0:00:23\n",
      "   ----------------------------- ---------- 1.3/1.7 MB 20.0 kB/s eta 0:00:23\n",
      "   ----------------------------- ---------- 1.3/1.7 MB 20.0 kB/s eta 0:00:23\n",
      "   ----------------------------- ---------- 1.3/1.7 MB 20.0 kB/s eta 0:00:23\n",
      "   ----------------------------- ---------- 1.3/1.7 MB 18.0 kB/s eta 0:00:25\n",
      "   ----------------------------- ---------- 1.3/1.7 MB 18.0 kB/s eta 0:00:25\n",
      "   ----------------------------- ---------- 1.3/1.7 MB 18.0 kB/s eta 0:00:25\n",
      "   ----------------------------- ---------- 1.3/1.7 MB 18.0 kB/s eta 0:00:25\n",
      "   ----------------------------- ---------- 1.3/1.7 MB 18.0 kB/s eta 0:00:25\n",
      "   ----------------------------- ---------- 1.3/1.7 MB 18.0 kB/s eta 0:00:25\n",
      "   ----------------------------- ---------- 1.3/1.7 MB 18.0 kB/s eta 0:00:25\n",
      "   ----------------------------- ---------- 1.3/1.7 MB 18.0 kB/s eta 0:00:25\n",
      "   ----------------------------- ---------- 1.3/1.7 MB 18.0 kB/s eta 0:00:25\n",
      "   ----------------------------- ---------- 1.3/1.7 MB 18.0 kB/s eta 0:00:25\n",
      "   ----------------------------- ---------- 1.3/1.7 MB 18.0 kB/s eta 0:00:25\n",
      "   ----------------------------- ---------- 1.3/1.7 MB 18.0 kB/s eta 0:00:25\n",
      "   ----------------------------- ---------- 1.3/1.7 MB 18.0 kB/s eta 0:00:25\n",
      "   ----------------------------- ---------- 1.3/1.7 MB 18.0 kB/s eta 0:00:25\n",
      "   ----------------------------- ---------- 1.3/1.7 MB 18.0 kB/s eta 0:00:25\n",
      "   ----------------------------- ---------- 1.3/1.7 MB 18.0 kB/s eta 0:00:25\n",
      "   ----------------------------- ---------- 1.3/1.7 MB 18.0 kB/s eta 0:00:25\n",
      "   ----------------------------- ---------- 1.3/1.7 MB 18.0 kB/s eta 0:00:25\n",
      "   ----------------------------- ---------- 1.3/1.7 MB 18.0 kB/s eta 0:00:25\n",
      "   ------------------------------ --------- 1.3/1.7 MB 18.3 kB/s eta 0:00:23\n",
      "   ------------------------------ --------- 1.3/1.7 MB 18.3 kB/s eta 0:00:23\n",
      "   ------------------------------ --------- 1.3/1.7 MB 18.3 kB/s eta 0:00:23\n",
      "   ------------------------------ --------- 1.3/1.7 MB 18.3 kB/s eta 0:00:23\n",
      "   ------------------------------ --------- 1.3/1.7 MB 18.3 kB/s eta 0:00:23\n",
      "   ------------------------------ --------- 1.3/1.7 MB 18.3 kB/s eta 0:00:23\n",
      "   ------------------------------ --------- 1.3/1.7 MB 18.3 kB/s eta 0:00:23\n",
      "   ------------------------------ --------- 1.3/1.7 MB 18.3 kB/s eta 0:00:23\n",
      "   ------------------------------ --------- 1.3/1.7 MB 18.3 kB/s eta 0:00:23\n",
      "   ------------------------------ --------- 1.3/1.7 MB 18.3 kB/s eta 0:00:23\n",
      "   ------------------------------ --------- 1.3/1.7 MB 18.3 kB/s eta 0:00:23\n",
      "   ------------------------------ --------- 1.3/1.7 MB 18.3 kB/s eta 0:00:23\n",
      "   ------------------------------ --------- 1.3/1.7 MB 18.3 kB/s eta 0:00:23\n",
      "   ------------------------------ --------- 1.3/1.7 MB 18.3 kB/s eta 0:00:23\n",
      "   ------------------------------ --------- 1.3/1.7 MB 18.3 kB/s eta 0:00:23\n",
      "   ------------------------------ --------- 1.3/1.7 MB 18.3 kB/s eta 0:00:23\n",
      "   ------------------------------ --------- 1.3/1.7 MB 18.4 kB/s eta 0:00:22\n",
      "   ------------------------------ --------- 1.3/1.7 MB 18.4 kB/s eta 0:00:22\n",
      "   ------------------------------ --------- 1.3/1.7 MB 18.4 kB/s eta 0:00:22\n",
      "   ------------------------------ --------- 1.3/1.7 MB 18.4 kB/s eta 0:00:22\n",
      "   ------------------------------ --------- 1.3/1.7 MB 18.4 kB/s eta 0:00:22\n",
      "   ------------------------------ --------- 1.3/1.7 MB 18.4 kB/s eta 0:00:22\n",
      "   ------------------------------ --------- 1.3/1.7 MB 18.4 kB/s eta 0:00:22\n",
      "   ------------------------------ --------- 1.3/1.7 MB 18.4 kB/s eta 0:00:22\n",
      "   ------------------------------ --------- 1.3/1.7 MB 18.4 kB/s eta 0:00:22\n",
      "   ------------------------------ --------- 1.3/1.7 MB 18.4 kB/s eta 0:00:22\n",
      "   ------------------------------ --------- 1.3/1.7 MB 18.5 kB/s eta 0:00:22\n",
      "   ------------------------------ --------- 1.3/1.7 MB 18.5 kB/s eta 0:00:22\n",
      "   ------------------------------ --------- 1.3/1.7 MB 18.5 kB/s eta 0:00:22\n",
      "   ------------------------------ --------- 1.3/1.7 MB 18.5 kB/s eta 0:00:22\n",
      "   ------------------------------ --------- 1.3/1.7 MB 18.5 kB/s eta 0:00:22\n",
      "   ------------------------------ --------- 1.3/1.7 MB 18.5 kB/s eta 0:00:22\n",
      "   ------------------------------ --------- 1.3/1.7 MB 18.5 kB/s eta 0:00:22\n",
      "   ------------------------------ --------- 1.3/1.7 MB 18.5 kB/s eta 0:00:22\n",
      "   ------------------------------ --------- 1.3/1.7 MB 18.5 kB/s eta 0:00:22\n",
      "   ------------------------------ --------- 1.3/1.7 MB 18.5 kB/s eta 0:00:22\n",
      "   ------------------------------ --------- 1.3/1.7 MB 18.5 kB/s eta 0:00:22\n",
      "   ------------------------------ --------- 1.3/1.7 MB 18.5 kB/s eta 0:00:22\n",
      "   ------------------------------ --------- 1.3/1.7 MB 18.5 kB/s eta 0:00:22\n",
      "   ------------------------------ --------- 1.3/1.7 MB 18.5 kB/s eta 0:00:22\n",
      "   ------------------------------ --------- 1.3/1.7 MB 18.5 kB/s eta 0:00:22\n",
      "   ------------------------------ --------- 1.3/1.7 MB 18.5 kB/s eta 0:00:22\n",
      "   ------------------------------ --------- 1.3/1.7 MB 18.5 kB/s eta 0:00:22\n",
      "   ------------------------------ --------- 1.3/1.7 MB 18.5 kB/s eta 0:00:22\n",
      "   ------------------------------ --------- 1.3/1.7 MB 18.5 kB/s eta 0:00:22\n",
      "   ------------------------------ --------- 1.3/1.7 MB 18.5 kB/s eta 0:00:22\n",
      "   ------------------------------ --------- 1.3/1.7 MB 18.5 kB/s eta 0:00:22\n",
      "   ------------------------------ --------- 1.3/1.7 MB 18.5 kB/s eta 0:00:22\n",
      "   ------------------------------ --------- 1.3/1.7 MB 18.5 kB/s eta 0:00:22\n",
      "   ------------------------------ --------- 1.3/1.7 MB 18.5 kB/s eta 0:00:22\n",
      "   ------------------------------ --------- 1.3/1.7 MB 18.5 kB/s eta 0:00:22\n",
      "   ------------------------------ --------- 1.3/1.7 MB 18.5 kB/s eta 0:00:22\n",
      "   ------------------------------ --------- 1.3/1.7 MB 18.5 kB/s eta 0:00:22\n",
      "   ------------------------------ --------- 1.3/1.7 MB 18.5 kB/s eta 0:00:22\n",
      "   ------------------------------ --------- 1.3/1.7 MB 18.5 kB/s eta 0:00:22\n",
      "   ------------------------------ --------- 1.3/1.7 MB 18.5 kB/s eta 0:00:22\n",
      "   ------------------------------ --------- 1.3/1.7 MB 18.5 kB/s eta 0:00:22\n",
      "   ------------------------------ --------- 1.3/1.7 MB 18.5 kB/s eta 0:00:22\n",
      "   ------------------------------ --------- 1.3/1.7 MB 18.5 kB/s eta 0:00:22\n",
      "   ------------------------------ --------- 1.3/1.7 MB 18.5 kB/s eta 0:00:22\n",
      "   ------------------------------ --------- 1.3/1.7 MB 18.5 kB/s eta 0:00:22\n",
      "   ------------------------------ --------- 1.3/1.7 MB 18.5 kB/s eta 0:00:22\n",
      "   ------------------------------ --------- 1.3/1.7 MB 18.5 kB/s eta 0:00:22\n",
      "   ------------------------------ --------- 1.3/1.7 MB 18.5 kB/s eta 0:00:22\n",
      "   ------------------------------ --------- 1.3/1.7 MB 18.5 kB/s eta 0:00:22\n",
      "   ------------------------------ --------- 1.3/1.7 MB 18.5 kB/s eta 0:00:22\n",
      "   ------------------------------ --------- 1.3/1.7 MB 18.5 kB/s eta 0:00:22\n",
      "   ------------------------------ --------- 1.3/1.7 MB 18.5 kB/s eta 0:00:22\n",
      "   ------------------------------ --------- 1.3/1.7 MB 18.5 kB/s eta 0:00:22\n",
      "   ------------------------------ --------- 1.3/1.7 MB 18.5 kB/s eta 0:00:22\n",
      "   ------------------------------ --------- 1.3/1.7 MB 18.5 kB/s eta 0:00:22\n",
      "   ------------------------------ --------- 1.3/1.7 MB 18.5 kB/s eta 0:00:22\n",
      "   ------------------------------ --------- 1.3/1.7 MB 18.5 kB/s eta 0:00:22\n",
      "   ------------------------------ --------- 1.3/1.7 MB 18.5 kB/s eta 0:00:22\n",
      "   ------------------------------ --------- 1.3/1.7 MB 18.5 kB/s eta 0:00:22\n",
      "   ------------------------------ --------- 1.3/1.7 MB 18.5 kB/s eta 0:00:22\n",
      "   ------------------------------ --------- 1.3/1.7 MB 18.5 kB/s eta 0:00:22\n",
      "   ------------------------------ --------- 1.3/1.7 MB 18.5 kB/s eta 0:00:22\n",
      "   ------------------------------ --------- 1.3/1.7 MB 18.5 kB/s eta 0:00:22\n",
      "   ------------------------------ --------- 1.3/1.7 MB 18.5 kB/s eta 0:00:22\n",
      "   ------------------------------ --------- 1.3/1.7 MB 18.5 kB/s eta 0:00:22\n",
      "   ------------------------------ --------- 1.3/1.7 MB 18.5 kB/s eta 0:00:22\n",
      "   ------------------------------ --------- 1.3/1.7 MB 18.5 kB/s eta 0:00:22\n",
      "   ------------------------------ --------- 1.3/1.7 MB 18.5 kB/s eta 0:00:22\n",
      "   ------------------------------ --------- 1.3/1.7 MB 18.5 kB/s eta 0:00:22\n",
      "   ------------------------------ --------- 1.3/1.7 MB 18.5 kB/s eta 0:00:22\n",
      "   ------------------------------ --------- 1.3/1.7 MB 18.5 kB/s eta 0:00:22\n",
      "   ------------------------------ --------- 1.3/1.7 MB 18.5 kB/s eta 0:00:22\n",
      "   ------------------------------- -------- 1.3/1.7 MB 17.3 kB/s eta 0:00:22\n",
      "   ------------------------------- -------- 1.3/1.7 MB 17.3 kB/s eta 0:00:22\n",
      "   ------------------------------- -------- 1.3/1.7 MB 17.3 kB/s eta 0:00:22\n",
      "   ------------------------------- -------- 1.3/1.7 MB 17.3 kB/s eta 0:00:22\n",
      "   ------------------------------- -------- 1.3/1.7 MB 17.3 kB/s eta 0:00:22\n",
      "   ------------------------------- -------- 1.3/1.7 MB 17.3 kB/s eta 0:00:22\n",
      "   ------------------------------- -------- 1.3/1.7 MB 17.3 kB/s eta 0:00:22\n",
      "   ------------------------------- -------- 1.3/1.7 MB 17.3 kB/s eta 0:00:22\n",
      "   ------------------------------- -------- 1.3/1.7 MB 17.3 kB/s eta 0:00:22\n",
      "   ------------------------------- -------- 1.3/1.7 MB 17.3 kB/s eta 0:00:22\n",
      "   ------------------------------- -------- 1.3/1.7 MB 17.3 kB/s eta 0:00:22\n",
      "   ------------------------------- -------- 1.3/1.7 MB 17.3 kB/s eta 0:00:22\n",
      "   ------------------------------- -------- 1.3/1.7 MB 17.3 kB/s eta 0:00:22\n",
      "   ------------------------------- -------- 1.3/1.7 MB 17.3 kB/s eta 0:00:22\n",
      "   ------------------------------- -------- 1.3/1.7 MB 17.3 kB/s eta 0:00:22\n",
      "   ------------------------------- -------- 1.4/1.7 MB 17.2 kB/s eta 0:00:21\n",
      "   ------------------------------- -------- 1.4/1.7 MB 17.2 kB/s eta 0:00:21\n",
      "   -------------------------------- ------- 1.4/1.7 MB 18.9 kB/s eta 0:00:17\n",
      "   -------------------------------- ------- 1.4/1.7 MB 18.9 kB/s eta 0:00:17\n",
      "   -------------------------------- ------- 1.4/1.7 MB 18.9 kB/s eta 0:00:17\n",
      "   -------------------------------- ------- 1.4/1.7 MB 18.9 kB/s eta 0:00:17\n",
      "   -------------------------------- ------- 1.4/1.7 MB 18.9 kB/s eta 0:00:17\n",
      "   -------------------------------- ------- 1.4/1.7 MB 18.9 kB/s eta 0:00:17\n",
      "   -------------------------------- ------- 1.4/1.7 MB 18.9 kB/s eta 0:00:17\n",
      "   -------------------------------- ------- 1.4/1.7 MB 18.9 kB/s eta 0:00:17\n",
      "   -------------------------------- ------- 1.4/1.7 MB 18.9 kB/s eta 0:00:17\n",
      "   -------------------------------- ------- 1.4/1.7 MB 18.9 kB/s eta 0:00:17\n",
      "   -------------------------------- ------- 1.4/1.7 MB 18.9 kB/s eta 0:00:17\n",
      "   -------------------------------- ------- 1.4/1.7 MB 18.9 kB/s eta 0:00:17\n",
      "   -------------------------------- ------- 1.4/1.7 MB 18.9 kB/s eta 0:00:17\n",
      "   -------------------------------- ------- 1.4/1.7 MB 18.9 kB/s eta 0:00:17\n",
      "   -------------------------------- ------- 1.4/1.7 MB 18.9 kB/s eta 0:00:17\n",
      "   -------------------------------- ------- 1.4/1.7 MB 18.9 kB/s eta 0:00:17\n",
      "   -------------------------------- ------- 1.4/1.7 MB 18.9 kB/s eta 0:00:17\n",
      "   -------------------------------- ------- 1.4/1.7 MB 18.9 kB/s eta 0:00:17\n",
      "   -------------------------------- ------- 1.4/1.7 MB 18.9 kB/s eta 0:00:17\n",
      "   --------------------------------- ------ 1.4/1.7 MB 19.1 kB/s eta 0:00:15\n",
      "   --------------------------------- ------ 1.4/1.7 MB 19.1 kB/s eta 0:00:15\n",
      "   --------------------------------- ------ 1.4/1.7 MB 19.1 kB/s eta 0:00:15\n",
      "   --------------------------------- ------ 1.4/1.7 MB 19.1 kB/s eta 0:00:15\n",
      "   --------------------------------- ------ 1.4/1.7 MB 19.1 kB/s eta 0:00:15\n",
      "   --------------------------------- ------ 1.4/1.7 MB 19.1 kB/s eta 0:00:15\n",
      "   --------------------------------- ------ 1.4/1.7 MB 19.1 kB/s eta 0:00:15\n",
      "   --------------------------------- ------ 1.4/1.7 MB 19.1 kB/s eta 0:00:15\n",
      "   --------------------------------- ------ 1.4/1.7 MB 19.1 kB/s eta 0:00:15\n",
      "   --------------------------------- ------ 1.4/1.7 MB 19.1 kB/s eta 0:00:15\n",
      "   --------------------------------- ------ 1.4/1.7 MB 19.1 kB/s eta 0:00:15\n",
      "   --------------------------------- ------ 1.4/1.7 MB 19.1 kB/s eta 0:00:15\n",
      "   --------------------------------- ------ 1.4/1.7 MB 19.1 kB/s eta 0:00:15\n",
      "   --------------------------------- ------ 1.4/1.7 MB 19.1 kB/s eta 0:00:15\n",
      "   --------------------------------- ------ 1.4/1.7 MB 19.1 kB/s eta 0:00:15\n",
      "   --------------------------------- ------ 1.4/1.7 MB 19.1 kB/s eta 0:00:15\n",
      "   --------------------------------- ------ 1.4/1.7 MB 19.1 kB/s eta 0:00:15\n",
      "   --------------------------------- ------ 1.4/1.7 MB 19.1 kB/s eta 0:00:15\n",
      "   --------------------------------- ------ 1.4/1.7 MB 19.1 kB/s eta 0:00:15\n",
      "   --------------------------------- ------ 1.4/1.7 MB 19.1 kB/s eta 0:00:15\n",
      "   --------------------------------- ------ 1.4/1.7 MB 19.1 kB/s eta 0:00:15\n",
      "   --------------------------------- ------ 1.4/1.7 MB 19.1 kB/s eta 0:00:15\n",
      "   --------------------------------- ------ 1.4/1.7 MB 19.1 kB/s eta 0:00:15\n",
      "   --------------------------------- ------ 1.4/1.7 MB 19.5 kB/s eta 0:00:15\n",
      "   --------------------------------- ------ 1.4/1.7 MB 19.5 kB/s eta 0:00:15\n",
      "   --------------------------------- ------ 1.4/1.7 MB 19.5 kB/s eta 0:00:15\n",
      "   --------------------------------- ------ 1.4/1.7 MB 19.5 kB/s eta 0:00:15\n",
      "   --------------------------------- ------ 1.4/1.7 MB 19.5 kB/s eta 0:00:15\n",
      "   --------------------------------- ------ 1.4/1.7 MB 19.5 kB/s eta 0:00:15\n",
      "   --------------------------------- ------ 1.4/1.7 MB 19.5 kB/s eta 0:00:15\n",
      "   --------------------------------- ------ 1.4/1.7 MB 19.5 kB/s eta 0:00:15\n",
      "   --------------------------------- ------ 1.4/1.7 MB 19.5 kB/s eta 0:00:15\n",
      "   --------------------------------- ------ 1.4/1.7 MB 19.5 kB/s eta 0:00:15\n",
      "   --------------------------------- ------ 1.4/1.7 MB 19.5 kB/s eta 0:00:15\n",
      "   --------------------------------- ------ 1.4/1.7 MB 19.5 kB/s eta 0:00:15\n",
      "   --------------------------------- ------ 1.4/1.7 MB 19.5 kB/s eta 0:00:15\n",
      "   --------------------------------- ------ 1.4/1.7 MB 19.5 kB/s eta 0:00:15\n",
      "   --------------------------------- ------ 1.4/1.7 MB 19.5 kB/s eta 0:00:15\n",
      "   ---------------------------------- ----- 1.5/1.7 MB 19.8 kB/s eta 0:00:13\n",
      "   ---------------------------------- ----- 1.5/1.7 MB 19.8 kB/s eta 0:00:13\n",
      "   ---------------------------------- ----- 1.5/1.7 MB 19.8 kB/s eta 0:00:13\n",
      "   ---------------------------------- ----- 1.5/1.7 MB 19.8 kB/s eta 0:00:13\n",
      "   ---------------------------------- ----- 1.5/1.7 MB 19.8 kB/s eta 0:00:13\n",
      "   ---------------------------------- ----- 1.5/1.7 MB 19.8 kB/s eta 0:00:13\n",
      "   ---------------------------------- ----- 1.5/1.7 MB 19.8 kB/s eta 0:00:13\n",
      "   ---------------------------------- ----- 1.5/1.7 MB 19.8 kB/s eta 0:00:13\n",
      "   ---------------------------------- ----- 1.5/1.7 MB 19.8 kB/s eta 0:00:13\n",
      "   ---------------------------------- ----- 1.5/1.7 MB 19.8 kB/s eta 0:00:13\n",
      "   ---------------------------------- ----- 1.5/1.7 MB 19.8 kB/s eta 0:00:13\n",
      "   ---------------------------------- ----- 1.5/1.7 MB 19.8 kB/s eta 0:00:13\n",
      "   ---------------------------------- ----- 1.5/1.7 MB 19.8 kB/s eta 0:00:13\n",
      "   ---------------------------------- ----- 1.5/1.7 MB 19.8 kB/s eta 0:00:13\n",
      "   ---------------------------------- ----- 1.5/1.7 MB 19.8 kB/s eta 0:00:13\n",
      "   ---------------------------------- ----- 1.5/1.7 MB 19.8 kB/s eta 0:00:13\n",
      "   ---------------------------------- ----- 1.5/1.7 MB 19.8 kB/s eta 0:00:13\n",
      "   ---------------------------------- ----- 1.5/1.7 MB 19.8 kB/s eta 0:00:13\n",
      "   ---------------------------------- ----- 1.5/1.7 MB 19.8 kB/s eta 0:00:13\n",
      "   ---------------------------------- ----- 1.5/1.7 MB 19.8 kB/s eta 0:00:13\n",
      "   ---------------------------------- ----- 1.5/1.7 MB 19.8 kB/s eta 0:00:13\n",
      "   ---------------------------------- ----- 1.5/1.7 MB 19.8 kB/s eta 0:00:13\n",
      "   ---------------------------------- ----- 1.5/1.7 MB 19.8 kB/s eta 0:00:13\n",
      "   ---------------------------------- ----- 1.5/1.7 MB 19.8 kB/s eta 0:00:13\n",
      "   ---------------------------------- ----- 1.5/1.7 MB 19.8 kB/s eta 0:00:13\n",
      "   ---------------------------------- ----- 1.5/1.7 MB 19.8 kB/s eta 0:00:13\n",
      "   ---------------------------------- ----- 1.5/1.7 MB 19.8 kB/s eta 0:00:13\n",
      "   ---------------------------------- ----- 1.5/1.7 MB 19.8 kB/s eta 0:00:13\n",
      "   ---------------------------------- ----- 1.5/1.7 MB 19.8 kB/s eta 0:00:13\n",
      "   ---------------------------------- ----- 1.5/1.7 MB 19.8 kB/s eta 0:00:13\n",
      "   ---------------------------------- ----- 1.5/1.7 MB 19.8 kB/s eta 0:00:13\n",
      "   ---------------------------------- ----- 1.5/1.7 MB 19.8 kB/s eta 0:00:13\n",
      "   ---------------------------------- ----- 1.5/1.7 MB 19.8 kB/s eta 0:00:13\n",
      "   ---------------------------------- ----- 1.5/1.7 MB 19.8 kB/s eta 0:00:13\n",
      "   ---------------------------------- ----- 1.5/1.7 MB 19.8 kB/s eta 0:00:13\n",
      "   ---------------------------------- ----- 1.5/1.7 MB 19.5 kB/s eta 0:00:13\n",
      "   ---------------------------------- ----- 1.5/1.7 MB 19.5 kB/s eta 0:00:13\n",
      "   ---------------------------------- ----- 1.5/1.7 MB 19.5 kB/s eta 0:00:13\n",
      "   ---------------------------------- ----- 1.5/1.7 MB 19.5 kB/s eta 0:00:13\n",
      "   ---------------------------------- ----- 1.5/1.7 MB 19.5 kB/s eta 0:00:13\n",
      "   ---------------------------------- ----- 1.5/1.7 MB 19.5 kB/s eta 0:00:13\n",
      "   ---------------------------------- ----- 1.5/1.7 MB 19.5 kB/s eta 0:00:13\n",
      "   ---------------------------------- ----- 1.5/1.7 MB 19.5 kB/s eta 0:00:13\n",
      "   ---------------------------------- ----- 1.5/1.7 MB 19.5 kB/s eta 0:00:13\n",
      "   ---------------------------------- ----- 1.5/1.7 MB 19.5 kB/s eta 0:00:13\n",
      "   ---------------------------------- ----- 1.5/1.7 MB 19.5 kB/s eta 0:00:13\n",
      "   ---------------------------------- ----- 1.5/1.7 MB 19.5 kB/s eta 0:00:13\n",
      "   ---------------------------------- ----- 1.5/1.7 MB 19.5 kB/s eta 0:00:13\n",
      "   ---------------------------------- ----- 1.5/1.7 MB 19.5 kB/s eta 0:00:13\n",
      "   ---------------------------------- ----- 1.5/1.7 MB 19.5 kB/s eta 0:00:13\n",
      "   ---------------------------------- ----- 1.5/1.7 MB 19.5 kB/s eta 0:00:13\n",
      "   ---------------------------------- ----- 1.5/1.7 MB 19.5 kB/s eta 0:00:13\n",
      "   ---------------------------------- ----- 1.5/1.7 MB 19.5 kB/s eta 0:00:13\n",
      "   ---------------------------------- ----- 1.5/1.7 MB 19.5 kB/s eta 0:00:13\n",
      "   ---------------------------------- ----- 1.5/1.7 MB 19.5 kB/s eta 0:00:13\n",
      "   ---------------------------------- ----- 1.5/1.7 MB 19.5 kB/s eta 0:00:13\n",
      "   ---------------------------------- ----- 1.5/1.7 MB 19.5 kB/s eta 0:00:13\n",
      "   ---------------------------------- ----- 1.5/1.7 MB 19.5 kB/s eta 0:00:13\n",
      "   ---------------------------------- ----- 1.5/1.7 MB 19.5 kB/s eta 0:00:13\n",
      "   ---------------------------------- ----- 1.5/1.7 MB 19.5 kB/s eta 0:00:13\n",
      "   ---------------------------------- ----- 1.5/1.7 MB 19.5 kB/s eta 0:00:13\n",
      "   ---------------------------------- ----- 1.5/1.7 MB 19.5 kB/s eta 0:00:13\n",
      "   ---------------------------------- ----- 1.5/1.7 MB 19.5 kB/s eta 0:00:13\n",
      "   ---------------------------------- ----- 1.5/1.7 MB 19.5 kB/s eta 0:00:13\n",
      "   ---------------------------------- ----- 1.5/1.7 MB 19.5 kB/s eta 0:00:13\n",
      "   ---------------------------------- ----- 1.5/1.7 MB 19.5 kB/s eta 0:00:13\n",
      "   ---------------------------------- ----- 1.5/1.7 MB 19.5 kB/s eta 0:00:13\n",
      "   ---------------------------------- ----- 1.5/1.7 MB 19.5 kB/s eta 0:00:13\n",
      "   ---------------------------------- ----- 1.5/1.7 MB 19.5 kB/s eta 0:00:13\n",
      "   ---------------------------------- ----- 1.5/1.7 MB 19.5 kB/s eta 0:00:13\n",
      "   ---------------------------------- ----- 1.5/1.7 MB 19.5 kB/s eta 0:00:13\n",
      "   ---------------------------------- ----- 1.5/1.7 MB 19.5 kB/s eta 0:00:13\n",
      "   ---------------------------------- ----- 1.5/1.7 MB 19.5 kB/s eta 0:00:13\n",
      "   ---------------------------------- ----- 1.5/1.7 MB 19.5 kB/s eta 0:00:13\n",
      "   ---------------------------------- ----- 1.5/1.7 MB 19.5 kB/s eta 0:00:13\n",
      "   ---------------------------------- ----- 1.5/1.7 MB 19.5 kB/s eta 0:00:13\n",
      "   ---------------------------------- ----- 1.5/1.7 MB 19.5 kB/s eta 0:00:13\n",
      "   ---------------------------------- ----- 1.5/1.7 MB 19.5 kB/s eta 0:00:13\n",
      "   ---------------------------------- ----- 1.5/1.7 MB 19.5 kB/s eta 0:00:13\n",
      "   ---------------------------------- ----- 1.5/1.7 MB 19.5 kB/s eta 0:00:13\n",
      "   ---------------------------------- ----- 1.5/1.7 MB 19.5 kB/s eta 0:00:13\n",
      "   ---------------------------------- ----- 1.5/1.7 MB 19.5 kB/s eta 0:00:13\n",
      "   ---------------------------------- ----- 1.5/1.7 MB 19.5 kB/s eta 0:00:13\n",
      "   ---------------------------------- ----- 1.5/1.7 MB 19.5 kB/s eta 0:00:13\n",
      "   ---------------------------------- ----- 1.5/1.7 MB 19.5 kB/s eta 0:00:13\n",
      "   ---------------------------------- ----- 1.5/1.7 MB 19.5 kB/s eta 0:00:13\n",
      "   ---------------------------------- ----- 1.5/1.7 MB 19.5 kB/s eta 0:00:13\n",
      "   ---------------------------------- ----- 1.5/1.7 MB 19.5 kB/s eta 0:00:13\n",
      "   ---------------------------------- ----- 1.5/1.7 MB 19.5 kB/s eta 0:00:13\n",
      "   ---------------------------------- ----- 1.5/1.7 MB 19.5 kB/s eta 0:00:13\n",
      "   ---------------------------------- ----- 1.5/1.7 MB 19.5 kB/s eta 0:00:13\n",
      "   ---------------------------------- ----- 1.5/1.7 MB 19.5 kB/s eta 0:00:13\n",
      "   ---------------------------------- ----- 1.5/1.7 MB 19.5 kB/s eta 0:00:13\n",
      "   ---------------------------------- ----- 1.5/1.7 MB 19.5 kB/s eta 0:00:13\n",
      "   ---------------------------------- ----- 1.5/1.7 MB 19.5 kB/s eta 0:00:13\n",
      "   ---------------------------------- ----- 1.5/1.7 MB 19.5 kB/s eta 0:00:13\n",
      "   ---------------------------------- ----- 1.5/1.7 MB 19.5 kB/s eta 0:00:13\n",
      "   ---------------------------------- ----- 1.5/1.7 MB 19.5 kB/s eta 0:00:13\n",
      "   ---------------------------------- ----- 1.5/1.7 MB 19.5 kB/s eta 0:00:13\n",
      "   ---------------------------------- ----- 1.5/1.7 MB 19.5 kB/s eta 0:00:13\n",
      "   ---------------------------------- ----- 1.5/1.7 MB 19.5 kB/s eta 0:00:13\n",
      "   ---------------------------------- ----- 1.5/1.7 MB 19.5 kB/s eta 0:00:13\n",
      "   ---------------------------------- ----- 1.5/1.7 MB 19.5 kB/s eta 0:00:13\n",
      "   ---------------------------------- ----- 1.5/1.7 MB 19.5 kB/s eta 0:00:13\n",
      "   ---------------------------------- ----- 1.5/1.7 MB 19.5 kB/s eta 0:00:13\n",
      "   ---------------------------------- ----- 1.5/1.7 MB 19.5 kB/s eta 0:00:13\n",
      "   ---------------------------------- ----- 1.5/1.7 MB 19.5 kB/s eta 0:00:13\n",
      "   ---------------------------------- ----- 1.5/1.7 MB 19.5 kB/s eta 0:00:13\n",
      "   ---------------------------------- ----- 1.5/1.7 MB 19.5 kB/s eta 0:00:13\n",
      "   ---------------------------------- ----- 1.5/1.7 MB 19.5 kB/s eta 0:00:13\n",
      "   ---------------------------------- ----- 1.5/1.7 MB 19.5 kB/s eta 0:00:13\n",
      "   ---------------------------------- ----- 1.5/1.7 MB 19.5 kB/s eta 0:00:13\n",
      "   ---------------------------------- ----- 1.5/1.7 MB 19.5 kB/s eta 0:00:13\n",
      "   ---------------------------------- ----- 1.5/1.7 MB 19.5 kB/s eta 0:00:13\n",
      "   ---------------------------------- ----- 1.5/1.7 MB 19.5 kB/s eta 0:00:13\n",
      "   ---------------------------------- ----- 1.5/1.7 MB 19.5 kB/s eta 0:00:13\n",
      "   ---------------------------------- ----- 1.5/1.7 MB 19.5 kB/s eta 0:00:13\n",
      "   ---------------------------------- ----- 1.5/1.7 MB 19.5 kB/s eta 0:00:13\n",
      "   ---------------------------------- ----- 1.5/1.7 MB 19.5 kB/s eta 0:00:13\n",
      "   ---------------------------------- ----- 1.5/1.7 MB 19.5 kB/s eta 0:00:13\n",
      "   ---------------------------------- ----- 1.5/1.7 MB 19.5 kB/s eta 0:00:13\n",
      "   ---------------------------------- ----- 1.5/1.7 MB 19.5 kB/s eta 0:00:13\n",
      "   ---------------------------------- ----- 1.5/1.7 MB 19.5 kB/s eta 0:00:13\n",
      "   ---------------------------------- ----- 1.5/1.7 MB 19.5 kB/s eta 0:00:13\n",
      "   ---------------------------------- ----- 1.5/1.7 MB 19.5 kB/s eta 0:00:13\n",
      "   ---------------------------------- ----- 1.5/1.7 MB 19.5 kB/s eta 0:00:13\n",
      "   ---------------------------------- ----- 1.5/1.7 MB 19.5 kB/s eta 0:00:13\n",
      "   ---------------------------------- ----- 1.5/1.7 MB 19.5 kB/s eta 0:00:13\n",
      "   ---------------------------------- ----- 1.5/1.7 MB 19.5 kB/s eta 0:00:13\n",
      "   ----------------------------------- ---- 1.5/1.7 MB 20.5 kB/s eta 0:00:10\n",
      "   ----------------------------------- ---- 1.5/1.7 MB 20.5 kB/s eta 0:00:10\n",
      "   ----------------------------------- ---- 1.5/1.7 MB 20.5 kB/s eta 0:00:10\n",
      "   ----------------------------------- ---- 1.5/1.7 MB 20.5 kB/s eta 0:00:10\n",
      "   ----------------------------------- ---- 1.5/1.7 MB 20.5 kB/s eta 0:00:10\n",
      "   ----------------------------------- ---- 1.5/1.7 MB 20.5 kB/s eta 0:00:10\n",
      "   ----------------------------------- ---- 1.5/1.7 MB 20.5 kB/s eta 0:00:10\n",
      "   ----------------------------------- ---- 1.5/1.7 MB 20.5 kB/s eta 0:00:10\n",
      "   ----------------------------------- ---- 1.5/1.7 MB 20.5 kB/s eta 0:00:10\n",
      "   ----------------------------------- ---- 1.5/1.7 MB 20.5 kB/s eta 0:00:10\n",
      "   ----------------------------------- ---- 1.5/1.7 MB 20.5 kB/s eta 0:00:10\n",
      "   ----------------------------------- ---- 1.5/1.7 MB 20.5 kB/s eta 0:00:10\n",
      "   ----------------------------------- ---- 1.5/1.7 MB 20.5 kB/s eta 0:00:10\n",
      "   ----------------------------------- ---- 1.5/1.7 MB 20.7 kB/s eta 0:00:09\n",
      "   ----------------------------------- ---- 1.5/1.7 MB 20.7 kB/s eta 0:00:09\n",
      "   ----------------------------------- ---- 1.5/1.7 MB 20.7 kB/s eta 0:00:09\n",
      "   ----------------------------------- ---- 1.5/1.7 MB 20.7 kB/s eta 0:00:09\n",
      "   ----------------------------------- ---- 1.5/1.7 MB 20.7 kB/s eta 0:00:09\n",
      "   ----------------------------------- ---- 1.5/1.7 MB 20.7 kB/s eta 0:00:09\n",
      "   ----------------------------------- ---- 1.5/1.7 MB 20.7 kB/s eta 0:00:09\n",
      "   ----------------------------------- ---- 1.5/1.7 MB 20.7 kB/s eta 0:00:09\n",
      "   ----------------------------------- ---- 1.5/1.7 MB 20.7 kB/s eta 0:00:09\n",
      "   ----------------------------------- ---- 1.5/1.7 MB 20.7 kB/s eta 0:00:09\n",
      "   ------------------------------------ --- 1.6/1.7 MB 21.1 kB/s eta 0:00:08\n",
      "   ------------------------------------ --- 1.6/1.7 MB 21.1 kB/s eta 0:00:08\n",
      "   ------------------------------------ --- 1.6/1.7 MB 21.1 kB/s eta 0:00:08\n",
      "   ------------------------------------ --- 1.6/1.7 MB 21.1 kB/s eta 0:00:08\n",
      "   ------------------------------------ --- 1.6/1.7 MB 21.1 kB/s eta 0:00:08\n",
      "   ------------------------------------ --- 1.6/1.7 MB 21.1 kB/s eta 0:00:08\n",
      "   ------------------------------------ --- 1.6/1.7 MB 21.1 kB/s eta 0:00:08\n",
      "   ------------------------------------ --- 1.6/1.7 MB 21.1 kB/s eta 0:00:08\n",
      "   ------------------------------------ --- 1.6/1.7 MB 21.1 kB/s eta 0:00:08\n",
      "   ------------------------------------ --- 1.6/1.7 MB 21.1 kB/s eta 0:00:08\n",
      "   ------------------------------------ --- 1.6/1.7 MB 21.1 kB/s eta 0:00:08\n",
      "   ------------------------------------ --- 1.6/1.7 MB 21.1 kB/s eta 0:00:08\n",
      "   ------------------------------------ --- 1.6/1.7 MB 21.1 kB/s eta 0:00:08\n",
      "   ------------------------------------ --- 1.6/1.7 MB 21.1 kB/s eta 0:00:08\n",
      "   ------------------------------------ --- 1.6/1.7 MB 21.1 kB/s eta 0:00:08\n",
      "   ------------------------------------ --- 1.6/1.7 MB 21.1 kB/s eta 0:00:08\n",
      "   ------------------------------------ --- 1.6/1.7 MB 21.1 kB/s eta 0:00:08\n",
      "   ------------------------------------ --- 1.6/1.7 MB 21.1 kB/s eta 0:00:08\n",
      "   ------------------------------------ --- 1.6/1.7 MB 21.1 kB/s eta 0:00:08\n",
      "   ------------------------------------ --- 1.6/1.7 MB 19.6 kB/s eta 0:00:08\n",
      "   ------------------------------------ --- 1.6/1.7 MB 19.6 kB/s eta 0:00:08\n",
      "   ------------------------------------ --- 1.6/1.7 MB 19.6 kB/s eta 0:00:08\n",
      "   ------------------------------------ --- 1.6/1.7 MB 19.6 kB/s eta 0:00:08\n",
      "   ------------------------------------ --- 1.6/1.7 MB 19.6 kB/s eta 0:00:08\n",
      "   ------------------------------------ --- 1.6/1.7 MB 19.6 kB/s eta 0:00:08\n",
      "   ------------------------------------ --- 1.6/1.7 MB 19.6 kB/s eta 0:00:08\n",
      "   ------------------------------------ --- 1.6/1.7 MB 19.6 kB/s eta 0:00:08\n",
      "   ------------------------------------ --- 1.6/1.7 MB 19.6 kB/s eta 0:00:08\n",
      "   ------------------------------------ --- 1.6/1.7 MB 19.6 kB/s eta 0:00:08\n",
      "   ------------------------------------ --- 1.6/1.7 MB 19.6 kB/s eta 0:00:08\n",
      "   ------------------------------------ --- 1.6/1.7 MB 19.6 kB/s eta 0:00:08\n",
      "   ------------------------------------ --- 1.6/1.7 MB 19.6 kB/s eta 0:00:08\n",
      "   ------------------------------------ --- 1.6/1.7 MB 19.6 kB/s eta 0:00:08\n",
      "   ------------------------------------ --- 1.6/1.7 MB 19.6 kB/s eta 0:00:08\n",
      "   ------------------------------------ --- 1.6/1.7 MB 19.6 kB/s eta 0:00:08\n",
      "   ------------------------------------ --- 1.6/1.7 MB 19.6 kB/s eta 0:00:08\n",
      "   ------------------------------------ --- 1.6/1.7 MB 19.6 kB/s eta 0:00:08\n",
      "   ------------------------------------ --- 1.6/1.7 MB 19.6 kB/s eta 0:00:08\n",
      "   ------------------------------------ --- 1.6/1.7 MB 19.6 kB/s eta 0:00:08\n",
      "   ------------------------------------ --- 1.6/1.7 MB 19.6 kB/s eta 0:00:08\n",
      "   ------------------------------------ --- 1.6/1.7 MB 19.6 kB/s eta 0:00:08\n",
      "   ------------------------------------ --- 1.6/1.7 MB 19.6 kB/s eta 0:00:08\n",
      "   ------------------------------------ --- 1.6/1.7 MB 19.6 kB/s eta 0:00:08\n",
      "   ------------------------------------ --- 1.6/1.7 MB 19.6 kB/s eta 0:00:08\n",
      "   ------------------------------------ --- 1.6/1.7 MB 19.6 kB/s eta 0:00:08\n",
      "   ------------------------------------ --- 1.6/1.7 MB 19.6 kB/s eta 0:00:08\n",
      "   ------------------------------------ --- 1.6/1.7 MB 19.6 kB/s eta 0:00:08\n",
      "   ------------------------------------ --- 1.6/1.7 MB 19.6 kB/s eta 0:00:08\n",
      "   ------------------------------------ --- 1.6/1.7 MB 19.6 kB/s eta 0:00:08\n",
      "   ------------------------------------ --- 1.6/1.7 MB 19.6 kB/s eta 0:00:08\n",
      "   ------------------------------------ --- 1.6/1.7 MB 19.6 kB/s eta 0:00:08\n",
      "   ------------------------------------- -- 1.6/1.7 MB 19.7 kB/s eta 0:00:07\n",
      "   ------------------------------------- -- 1.6/1.7 MB 19.7 kB/s eta 0:00:07\n",
      "   ------------------------------------- -- 1.6/1.7 MB 19.7 kB/s eta 0:00:07\n",
      "   ------------------------------------- -- 1.6/1.7 MB 19.7 kB/s eta 0:00:07\n",
      "   ------------------------------------- -- 1.6/1.7 MB 19.7 kB/s eta 0:00:07\n",
      "   ------------------------------------- -- 1.6/1.7 MB 19.7 kB/s eta 0:00:07\n",
      "   ------------------------------------- -- 1.6/1.7 MB 19.7 kB/s eta 0:00:07\n",
      "   ------------------------------------- -- 1.6/1.7 MB 19.7 kB/s eta 0:00:07\n",
      "   ------------------------------------- -- 1.6/1.7 MB 19.7 kB/s eta 0:00:07\n",
      "   ------------------------------------- -- 1.6/1.7 MB 19.7 kB/s eta 0:00:07\n",
      "   ------------------------------------- -- 1.6/1.7 MB 19.7 kB/s eta 0:00:07\n",
      "   ------------------------------------- -- 1.6/1.7 MB 19.7 kB/s eta 0:00:07\n",
      "   ------------------------------------- -- 1.6/1.7 MB 19.7 kB/s eta 0:00:07\n",
      "   ------------------------------------- -- 1.6/1.7 MB 19.7 kB/s eta 0:00:07\n",
      "   ------------------------------------- -- 1.6/1.7 MB 19.7 kB/s eta 0:00:07\n",
      "   ------------------------------------- -- 1.6/1.7 MB 19.7 kB/s eta 0:00:07\n",
      "   ------------------------------------- -- 1.6/1.7 MB 19.7 kB/s eta 0:00:07\n",
      "   ------------------------------------- -- 1.6/1.7 MB 19.7 kB/s eta 0:00:07\n",
      "   ------------------------------------- -- 1.6/1.7 MB 19.7 kB/s eta 0:00:07\n",
      "   ------------------------------------- -- 1.6/1.7 MB 19.2 kB/s eta 0:00:06\n",
      "   ------------------------------------- -- 1.6/1.7 MB 19.2 kB/s eta 0:00:06\n",
      "   ------------------------------------- -- 1.6/1.7 MB 19.2 kB/s eta 0:00:06\n",
      "   ------------------------------------- -- 1.6/1.7 MB 19.2 kB/s eta 0:00:06\n",
      "   ------------------------------------- -- 1.6/1.7 MB 19.2 kB/s eta 0:00:06\n",
      "   ------------------------------------- -- 1.6/1.7 MB 19.2 kB/s eta 0:00:06\n",
      "   ------------------------------------- -- 1.6/1.7 MB 19.2 kB/s eta 0:00:06\n",
      "   ------------------------------------- -- 1.6/1.7 MB 19.2 kB/s eta 0:00:06\n",
      "   ------------------------------------- -- 1.6/1.7 MB 19.2 kB/s eta 0:00:06\n",
      "   ------------------------------------- -- 1.6/1.7 MB 19.2 kB/s eta 0:00:06\n",
      "   ------------------------------------- -- 1.6/1.7 MB 19.2 kB/s eta 0:00:06\n",
      "   ------------------------------------- -- 1.6/1.7 MB 19.2 kB/s eta 0:00:06\n",
      "   ------------------------------------- -- 1.6/1.7 MB 19.2 kB/s eta 0:00:06\n",
      "   ------------------------------------- -- 1.6/1.7 MB 19.2 kB/s eta 0:00:06\n",
      "   ------------------------------------- -- 1.6/1.7 MB 19.2 kB/s eta 0:00:06\n",
      "   ------------------------------------- -- 1.6/1.7 MB 19.2 kB/s eta 0:00:06\n",
      "   ------------------------------------- -- 1.6/1.7 MB 19.2 kB/s eta 0:00:06\n",
      "   ------------------------------------- -- 1.6/1.7 MB 19.2 kB/s eta 0:00:06\n",
      "   ------------------------------------- -- 1.6/1.7 MB 19.2 kB/s eta 0:00:06\n",
      "   ------------------------------------- -- 1.6/1.7 MB 19.2 kB/s eta 0:00:06\n",
      "   ------------------------------------- -- 1.6/1.7 MB 19.2 kB/s eta 0:00:06\n",
      "   ------------------------------------- -- 1.6/1.7 MB 19.2 kB/s eta 0:00:06\n",
      "   ------------------------------------- -- 1.6/1.7 MB 19.2 kB/s eta 0:00:06\n",
      "   ------------------------------------- -- 1.6/1.7 MB 18.9 kB/s eta 0:00:05\n",
      "   ------------------------------------- -- 1.6/1.7 MB 18.9 kB/s eta 0:00:05\n",
      "   ------------------------------------- -- 1.6/1.7 MB 18.9 kB/s eta 0:00:05\n",
      "   ------------------------------------- -- 1.6/1.7 MB 18.9 kB/s eta 0:00:05\n",
      "   ------------------------------------- -- 1.6/1.7 MB 18.9 kB/s eta 0:00:05\n",
      "   ------------------------------------- -- 1.6/1.7 MB 18.9 kB/s eta 0:00:05\n",
      "   ------------------------------------- -- 1.6/1.7 MB 18.9 kB/s eta 0:00:05\n",
      "   ------------------------------------- -- 1.6/1.7 MB 18.9 kB/s eta 0:00:05\n",
      "   ------------------------------------- -- 1.6/1.7 MB 18.9 kB/s eta 0:00:05\n",
      "   ------------------------------------- -- 1.6/1.7 MB 18.9 kB/s eta 0:00:05\n",
      "   ------------------------------------- -- 1.6/1.7 MB 18.9 kB/s eta 0:00:05\n",
      "   ------------------------------------- -- 1.6/1.7 MB 18.9 kB/s eta 0:00:05\n",
      "   ------------------------------------- -- 1.6/1.7 MB 18.9 kB/s eta 0:00:05\n",
      "   ------------------------------------- -- 1.6/1.7 MB 18.9 kB/s eta 0:00:05\n",
      "   ------------------------------------- -- 1.6/1.7 MB 18.9 kB/s eta 0:00:05\n",
      "   ------------------------------------- -- 1.6/1.7 MB 18.9 kB/s eta 0:00:05\n",
      "   ------------------------------------- -- 1.6/1.7 MB 18.9 kB/s eta 0:00:05\n",
      "   ------------------------------------- -- 1.6/1.7 MB 18.9 kB/s eta 0:00:05\n",
      "   ------------------------------------- -- 1.6/1.7 MB 18.9 kB/s eta 0:00:05\n",
      "   ------------------------------------- -- 1.6/1.7 MB 18.9 kB/s eta 0:00:05\n",
      "   -------------------------------------- - 1.6/1.7 MB 19.0 kB/s eta 0:00:04\n",
      "   -------------------------------------- - 1.6/1.7 MB 19.0 kB/s eta 0:00:04\n",
      "   -------------------------------------- - 1.6/1.7 MB 19.0 kB/s eta 0:00:04\n",
      "   -------------------------------------- - 1.6/1.7 MB 19.0 kB/s eta 0:00:04\n",
      "   -------------------------------------- - 1.6/1.7 MB 19.0 kB/s eta 0:00:04\n",
      "   -------------------------------------- - 1.6/1.7 MB 19.0 kB/s eta 0:00:04\n",
      "   -------------------------------------- - 1.6/1.7 MB 19.0 kB/s eta 0:00:04\n",
      "   -------------------------------------- - 1.6/1.7 MB 19.0 kB/s eta 0:00:04\n",
      "   -------------------------------------- - 1.6/1.7 MB 19.0 kB/s eta 0:00:04\n",
      "   -------------------------------------- - 1.6/1.7 MB 19.0 kB/s eta 0:00:04\n",
      "   -------------------------------------- - 1.6/1.7 MB 19.0 kB/s eta 0:00:04\n",
      "   -------------------------------------- - 1.6/1.7 MB 19.0 kB/s eta 0:00:04\n",
      "   -------------------------------------- - 1.6/1.7 MB 19.0 kB/s eta 0:00:04\n",
      "   -------------------------------------- - 1.6/1.7 MB 19.0 kB/s eta 0:00:04\n",
      "   -------------------------------------- - 1.6/1.7 MB 19.0 kB/s eta 0:00:04\n",
      "   -------------------------------------- - 1.6/1.7 MB 19.0 kB/s eta 0:00:04\n",
      "   -------------------------------------- - 1.6/1.7 MB 19.0 kB/s eta 0:00:04\n",
      "   -------------------------------------- - 1.6/1.7 MB 19.0 kB/s eta 0:00:04\n",
      "   -------------------------------------- - 1.6/1.7 MB 19.0 kB/s eta 0:00:04\n",
      "   -------------------------------------- - 1.6/1.7 MB 19.0 kB/s eta 0:00:04\n",
      "   -------------------------------------- - 1.6/1.7 MB 19.0 kB/s eta 0:00:04\n",
      "   -------------------------------------- - 1.6/1.7 MB 19.0 kB/s eta 0:00:04\n",
      "   -------------------------------------- - 1.6/1.7 MB 19.0 kB/s eta 0:00:04\n",
      "   -------------------------------------- - 1.6/1.7 MB 19.0 kB/s eta 0:00:04\n",
      "   -------------------------------------- - 1.6/1.7 MB 19.0 kB/s eta 0:00:04\n",
      "   -------------------------------------- - 1.6/1.7 MB 19.0 kB/s eta 0:00:04\n",
      "   -------------------------------------- - 1.6/1.7 MB 19.0 kB/s eta 0:00:04\n",
      "   -------------------------------------- - 1.6/1.7 MB 19.0 kB/s eta 0:00:04\n",
      "   -------------------------------------- - 1.6/1.7 MB 19.0 kB/s eta 0:00:04\n",
      "   -------------------------------------- - 1.6/1.7 MB 19.0 kB/s eta 0:00:04\n",
      "   -------------------------------------- - 1.6/1.7 MB 19.0 kB/s eta 0:00:04\n",
      "   -------------------------------------- - 1.6/1.7 MB 19.0 kB/s eta 0:00:04\n",
      "   -------------------------------------- - 1.6/1.7 MB 19.0 kB/s eta 0:00:04\n",
      "   -------------------------------------- - 1.6/1.7 MB 19.0 kB/s eta 0:00:04\n",
      "   -------------------------------------- - 1.6/1.7 MB 19.0 kB/s eta 0:00:04\n",
      "   -------------------------------------- - 1.6/1.7 MB 19.0 kB/s eta 0:00:04\n",
      "   -------------------------------------- - 1.6/1.7 MB 19.0 kB/s eta 0:00:04\n",
      "   -------------------------------------- - 1.6/1.7 MB 19.0 kB/s eta 0:00:04\n",
      "   -------------------------------------- - 1.6/1.7 MB 19.0 kB/s eta 0:00:04\n",
      "   -------------------------------------- - 1.6/1.7 MB 19.0 kB/s eta 0:00:04\n",
      "   -------------------------------------- - 1.6/1.7 MB 19.0 kB/s eta 0:00:04\n",
      "   -------------------------------------- - 1.6/1.7 MB 19.0 kB/s eta 0:00:04\n",
      "   -------------------------------------- - 1.6/1.7 MB 19.0 kB/s eta 0:00:04\n",
      "   -------------------------------------- - 1.6/1.7 MB 19.0 kB/s eta 0:00:04\n",
      "   -------------------------------------- - 1.6/1.7 MB 19.0 kB/s eta 0:00:04\n",
      "   -------------------------------------- - 1.6/1.7 MB 19.0 kB/s eta 0:00:04\n",
      "   -------------------------------------- - 1.6/1.7 MB 19.0 kB/s eta 0:00:04\n",
      "   -------------------------------------- - 1.6/1.7 MB 19.0 kB/s eta 0:00:04\n",
      "   -------------------------------------- - 1.6/1.7 MB 19.0 kB/s eta 0:00:04\n",
      "   -------------------------------------- - 1.6/1.7 MB 19.0 kB/s eta 0:00:04\n",
      "   -------------------------------------- - 1.6/1.7 MB 19.0 kB/s eta 0:00:04\n",
      "   -------------------------------------- - 1.6/1.7 MB 19.0 kB/s eta 0:00:04\n",
      "   -------------------------------------- - 1.6/1.7 MB 19.0 kB/s eta 0:00:04\n",
      "   -------------------------------------- - 1.6/1.7 MB 19.0 kB/s eta 0:00:04\n",
      "   -------------------------------------- - 1.6/1.7 MB 19.0 kB/s eta 0:00:04\n",
      "   -------------------------------------- - 1.6/1.7 MB 19.0 kB/s eta 0:00:04\n",
      "   -------------------------------------- - 1.6/1.7 MB 19.0 kB/s eta 0:00:04\n",
      "   -------------------------------------- - 1.6/1.7 MB 19.0 kB/s eta 0:00:04\n",
      "   -------------------------------------- - 1.6/1.7 MB 19.0 kB/s eta 0:00:04\n",
      "   -------------------------------------- - 1.6/1.7 MB 19.0 kB/s eta 0:00:04\n",
      "   -------------------------------------- - 1.6/1.7 MB 19.0 kB/s eta 0:00:04\n",
      "   -------------------------------------- - 1.6/1.7 MB 19.0 kB/s eta 0:00:04\n",
      "   -------------------------------------- - 1.6/1.7 MB 19.0 kB/s eta 0:00:04\n",
      "   -------------------------------------- - 1.6/1.7 MB 19.0 kB/s eta 0:00:04\n",
      "   -------------------------------------- - 1.6/1.7 MB 19.0 kB/s eta 0:00:04\n",
      "   -------------------------------------- - 1.6/1.7 MB 19.0 kB/s eta 0:00:04\n",
      "   -------------------------------------- - 1.6/1.7 MB 19.0 kB/s eta 0:00:04\n",
      "   -------------------------------------- - 1.6/1.7 MB 19.0 kB/s eta 0:00:04\n",
      "   -------------------------------------- - 1.6/1.7 MB 19.0 kB/s eta 0:00:04\n",
      "   -------------------------------------- - 1.6/1.7 MB 19.0 kB/s eta 0:00:04\n",
      "   -------------------------------------- - 1.6/1.7 MB 19.0 kB/s eta 0:00:04\n",
      "   -------------------------------------- - 1.6/1.7 MB 19.0 kB/s eta 0:00:04\n",
      "   -------------------------------------- - 1.6/1.7 MB 19.0 kB/s eta 0:00:04\n",
      "   -------------------------------------- - 1.6/1.7 MB 19.0 kB/s eta 0:00:04\n",
      "   -------------------------------------- - 1.6/1.7 MB 19.0 kB/s eta 0:00:04\n",
      "   -------------------------------------- - 1.6/1.7 MB 19.0 kB/s eta 0:00:04\n",
      "   -------------------------------------- - 1.6/1.7 MB 19.0 kB/s eta 0:00:04\n",
      "   -------------------------------------- - 1.6/1.7 MB 19.0 kB/s eta 0:00:04\n",
      "   -------------------------------------- - 1.6/1.7 MB 19.0 kB/s eta 0:00:04\n",
      "   -------------------------------------- - 1.6/1.7 MB 19.0 kB/s eta 0:00:04\n",
      "   -------------------------------------- - 1.6/1.7 MB 19.0 kB/s eta 0:00:04\n",
      "   -------------------------------------- - 1.6/1.7 MB 19.0 kB/s eta 0:00:04\n",
      "   -------------------------------------- - 1.6/1.7 MB 19.0 kB/s eta 0:00:04\n",
      "   -------------------------------------- - 1.6/1.7 MB 19.0 kB/s eta 0:00:04\n",
      "   -------------------------------------- - 1.6/1.7 MB 19.0 kB/s eta 0:00:04\n",
      "   -------------------------------------- - 1.6/1.7 MB 19.0 kB/s eta 0:00:04\n",
      "   -------------------------------------- - 1.6/1.7 MB 19.0 kB/s eta 0:00:04\n",
      "   -------------------------------------- - 1.6/1.7 MB 19.0 kB/s eta 0:00:04\n",
      "   -------------------------------------- - 1.6/1.7 MB 19.0 kB/s eta 0:00:04\n",
      "   -------------------------------------- - 1.6/1.7 MB 19.0 kB/s eta 0:00:04\n",
      "   -------------------------------------- - 1.6/1.7 MB 19.0 kB/s eta 0:00:04\n",
      "   -------------------------------------- - 1.6/1.7 MB 19.0 kB/s eta 0:00:04\n",
      "   -------------------------------------- - 1.6/1.7 MB 19.0 kB/s eta 0:00:04\n",
      "   -------------------------------------- - 1.6/1.7 MB 19.0 kB/s eta 0:00:04\n",
      "   -------------------------------------- - 1.6/1.7 MB 19.0 kB/s eta 0:00:04\n",
      "   -------------------------------------- - 1.6/1.7 MB 19.0 kB/s eta 0:00:04\n",
      "   -------------------------------------- - 1.6/1.7 MB 19.0 kB/s eta 0:00:04\n",
      "   -------------------------------------- - 1.6/1.7 MB 19.0 kB/s eta 0:00:04\n",
      "   -------------------------------------- - 1.6/1.7 MB 19.0 kB/s eta 0:00:04\n",
      "   -------------------------------------- - 1.6/1.7 MB 19.0 kB/s eta 0:00:04\n",
      "   -------------------------------------- - 1.6/1.7 MB 19.0 kB/s eta 0:00:04\n",
      "   -------------------------------------- - 1.6/1.7 MB 19.0 kB/s eta 0:00:04\n",
      "   -------------------------------------- - 1.6/1.7 MB 19.0 kB/s eta 0:00:04\n",
      "   -------------------------------------- - 1.6/1.7 MB 19.0 kB/s eta 0:00:04\n",
      "   -------------------------------------- - 1.6/1.7 MB 19.0 kB/s eta 0:00:04\n",
      "   -------------------------------------- - 1.6/1.7 MB 19.0 kB/s eta 0:00:04\n",
      "   -------------------------------------- - 1.6/1.7 MB 19.0 kB/s eta 0:00:04\n",
      "   -------------------------------------- - 1.6/1.7 MB 19.0 kB/s eta 0:00:04\n",
      "   -------------------------------------- - 1.6/1.7 MB 19.0 kB/s eta 0:00:04\n",
      "   -------------------------------------- - 1.6/1.7 MB 19.0 kB/s eta 0:00:04\n",
      "   -------------------------------------- - 1.6/1.7 MB 19.0 kB/s eta 0:00:04\n",
      "   -------------------------------------- - 1.6/1.7 MB 19.0 kB/s eta 0:00:04\n",
      "   -------------------------------------- - 1.6/1.7 MB 19.0 kB/s eta 0:00:04\n",
      "   -------------------------------------- - 1.6/1.7 MB 19.0 kB/s eta 0:00:04\n",
      "   -------------------------------------- - 1.6/1.7 MB 19.0 kB/s eta 0:00:04\n",
      "   -------------------------------------- - 1.6/1.7 MB 19.0 kB/s eta 0:00:04\n",
      "   -------------------------------------- - 1.6/1.7 MB 19.0 kB/s eta 0:00:04\n",
      "   -------------------------------------- - 1.6/1.7 MB 19.0 kB/s eta 0:00:04\n",
      "   -------------------------------------- - 1.6/1.7 MB 19.0 kB/s eta 0:00:04\n",
      "   ---------------------------------------  1.7/1.7 MB 18.1 kB/s eta 0:00:01\n",
      "   ---------------------------------------- 1.7/1.7 MB 18.4 kB/s eta 0:00:00\n",
      "Installing collected packages: keras\n",
      "Successfully installed keras-2.14.0\n",
      "Note: you may need to restart the kernel to use updated packages.\n"
     ]
    }
   ],
   "source": [
    "pip install keras "
   ]
  },
  {
   "cell_type": "code",
   "execution_count": null,
   "id": "a1da7b5e",
   "metadata": {},
   "outputs": [],
   "source": []
  }
 ],
 "metadata": {
  "kernelspec": {
   "display_name": "Python 3 (ipykernel)",
   "language": "python",
   "name": "python3"
  },
  "language_info": {
   "codemirror_mode": {
    "name": "ipython",
    "version": 3
   },
   "file_extension": ".py",
   "mimetype": "text/x-python",
   "name": "python",
   "nbconvert_exporter": "python",
   "pygments_lexer": "ipython3",
   "version": "3.11.4"
  }
 },
 "nbformat": 4,
 "nbformat_minor": 5
}
